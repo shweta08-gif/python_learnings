{
 "cells": [
  {
   "cell_type": "code",
   "execution_count": 1,
   "id": "4e489185",
   "metadata": {},
   "outputs": [],
   "source": [
    "#this is a comment line\n"
   ]
  },
  {
   "cell_type": "code",
   "execution_count": 2,
   "id": "87e94bbc",
   "metadata": {},
   "outputs": [
    {
     "ename": "SyntaxError",
     "evalue": "unterminated string literal (detected at line 1) (567147703.py, line 1)",
     "output_type": "error",
     "traceback": [
      "\u001b[1;36m  Cell \u001b[1;32mIn[2], line 1\u001b[1;36m\u001b[0m\n\u001b[1;33m    print(\"hfjdfgjdhfb)\u001b[0m\n\u001b[1;37m          ^\u001b[0m\n\u001b[1;31mSyntaxError\u001b[0m\u001b[1;31m:\u001b[0m unterminated string literal (detected at line 1)\n"
     ]
    }
   ],
   "source": [
    "print(\"hfjdfgjdhfb)"
   ]
  },
  {
   "cell_type": "code",
   "execution_count": 4,
   "id": "2d5fbb6d",
   "metadata": {},
   "outputs": [
    {
     "name": "stdout",
     "output_type": "stream",
     "text": [
      "nhvbdjv\n"
     ]
    }
   ],
   "source": [
    "print(\"nhvbdjv\"\n",
    "     )"
   ]
  },
  {
   "cell_type": "code",
   "execution_count": 5,
   "id": "59fa6b40",
   "metadata": {},
   "outputs": [
    {
     "ename": "SyntaxError",
     "evalue": "Missing parentheses in call to 'print'. Did you mean print(...)? (195353503.py, line 1)",
     "output_type": "error",
     "traceback": [
      "\u001b[1;36m  Cell \u001b[1;32mIn[5], line 1\u001b[1;36m\u001b[0m\n\u001b[1;33m    print \"this is a string\"\u001b[0m\n\u001b[1;37m    ^\u001b[0m\n\u001b[1;31mSyntaxError\u001b[0m\u001b[1;31m:\u001b[0m Missing parentheses in call to 'print'. Did you mean print(...)?\n"
     ]
    }
   ],
   "source": [
    "print \"this is a string\""
   ]
  },
  {
   "cell_type": "code",
   "execution_count": 6,
   "id": "6e802251",
   "metadata": {},
   "outputs": [
    {
     "data": {
      "text/plain": [
       "3"
      ]
     },
     "execution_count": 6,
     "metadata": {},
     "output_type": "execute_result"
    }
   ],
   "source": [
    "#single comment line\n",
    "\"\"\"multiple line of commnets\n",
    "hjsc\n",
    "dshcgjdsc\n",
    "sajhcvdjc\n",
    "dbcj\"\"\"\n",
    "1+2"
   ]
  },
  {
   "cell_type": "code",
   "execution_count": 7,
   "id": "e7929fee",
   "metadata": {},
   "outputs": [
    {
     "name": "stdout",
     "output_type": "stream",
     "text": [
      "single quote works\"like this\"\n"
     ]
    }
   ],
   "source": [
    "'''hxcvj\n",
    "hcvbxcjhvbjcx\n",
    "cjxbvjc'''\n",
    "print('single quote works\"like this\"')"
   ]
  },
  {
   "cell_type": "code",
   "execution_count": 10,
   "id": "b4b1a2bf",
   "metadata": {},
   "outputs": [
    {
     "data": {
      "text/plain": [
       "'\\njhsdgcjdsvh\\ndhbjds\\nsjdbchkj\\n'"
      ]
     },
     "execution_count": 10,
     "metadata": {},
     "output_type": "execute_result"
    }
   ],
   "source": [
    "\"\"\"\n",
    "jhsdgcjdsvh\n",
    "dhbjds\n",
    "sjdbchkj\n",
    "\"\"\""
   ]
  },
  {
   "cell_type": "code",
   "execution_count": 11,
   "id": "33ac1aa6",
   "metadata": {},
   "outputs": [],
   "source": [
    "#hgdcfdh"
   ]
  },
  {
   "cell_type": "code",
   "execution_count": 12,
   "id": "0b84d4a1",
   "metadata": {},
   "outputs": [],
   "source": [
    "a=10\n"
   ]
  },
  {
   "cell_type": "code",
   "execution_count": 13,
   "id": "9b544889",
   "metadata": {},
   "outputs": [
    {
     "name": "stdout",
     "output_type": "stream",
     "text": [
      "10\n"
     ]
    }
   ],
   "source": [
    "print(a)"
   ]
  },
  {
   "cell_type": "code",
   "execution_count": 14,
   "id": "6b4601bc",
   "metadata": {},
   "outputs": [],
   "source": [
    "a=5"
   ]
  },
  {
   "cell_type": "code",
   "execution_count": 15,
   "id": "bbf9b350",
   "metadata": {},
   "outputs": [
    {
     "data": {
      "text/plain": [
       "5"
      ]
     },
     "execution_count": 15,
     "metadata": {},
     "output_type": "execute_result"
    }
   ],
   "source": [
    "a"
   ]
  },
  {
   "cell_type": "code",
   "execution_count": 1,
   "id": "25a31a90",
   "metadata": {},
   "outputs": [
    {
     "data": {
      "text/plain": [
       "10"
      ]
     },
     "execution_count": 1,
     "metadata": {},
     "output_type": "execute_result"
    }
   ],
   "source": [
    "a=10\n",
    "a\n"
   ]
  },
  {
   "cell_type": "code",
   "execution_count": 2,
   "id": "dc5f5c2a",
   "metadata": {},
   "outputs": [
    {
     "data": {
      "text/plain": [
       "'10'"
      ]
     },
     "execution_count": 2,
     "metadata": {},
     "output_type": "execute_result"
    }
   ],
   "source": [
    "a=\"10\"\n",
    "a"
   ]
  },
  {
   "cell_type": "code",
   "execution_count": 3,
   "id": "af8c90c0",
   "metadata": {},
   "outputs": [
    {
     "data": {
      "text/plain": [
       "str"
      ]
     },
     "execution_count": 3,
     "metadata": {},
     "output_type": "execute_result"
    }
   ],
   "source": [
    "type(a)"
   ]
  },
  {
   "cell_type": "code",
   "execution_count": 4,
   "id": "6957f5a4",
   "metadata": {},
   "outputs": [
    {
     "ename": "NameError",
     "evalue": "name 'b' is not defined",
     "output_type": "error",
     "traceback": [
      "\u001b[1;31m---------------------------------------------------------------------------\u001b[0m",
      "\u001b[1;31mNameError\u001b[0m                                 Traceback (most recent call last)",
      "Cell \u001b[1;32mIn[4], line 1\u001b[0m\n\u001b[1;32m----> 1\u001b[0m \u001b[38;5;28mtype\u001b[39m(\u001b[43mb\u001b[49m)\n",
      "\u001b[1;31mNameError\u001b[0m: name 'b' is not defined"
     ]
    }
   ],
   "source": [
    "type(b)"
   ]
  },
  {
   "cell_type": "code",
   "execution_count": 5,
   "id": "655b264d",
   "metadata": {},
   "outputs": [
    {
     "data": {
      "text/plain": [
       "str"
      ]
     },
     "execution_count": 5,
     "metadata": {},
     "output_type": "execute_result"
    }
   ],
   "source": [
    "b=\"shweta\"\n",
    "type(b)"
   ]
  },
  {
   "cell_type": "code",
   "execution_count": 6,
   "id": "869f7504",
   "metadata": {},
   "outputs": [
    {
     "ename": "SyntaxError",
     "evalue": "unterminated string literal (detected at line 1) (1829367394.py, line 1)",
     "output_type": "error",
     "traceback": [
      "\u001b[1;36m  Cell \u001b[1;32mIn[6], line 1\u001b[1;36m\u001b[0m\n\u001b[1;33m    d=\"string'\u001b[0m\n\u001b[1;37m      ^\u001b[0m\n\u001b[1;31mSyntaxError\u001b[0m\u001b[1;31m:\u001b[0m unterminated string literal (detected at line 1)\n"
     ]
    }
   ],
   "source": [
    "d=\"string'"
   ]
  },
  {
   "cell_type": "code",
   "execution_count": 7,
   "id": "956c1cbd",
   "metadata": {},
   "outputs": [
    {
     "ename": "SyntaxError",
     "evalue": "invalid syntax (2152104722.py, line 1)",
     "output_type": "error",
     "traceback": [
      "\u001b[1;36m  Cell \u001b[1;32mIn[7], line 1\u001b[1;36m\u001b[0m\n\u001b[1;33m    c=34'string'\u001b[0m\n\u001b[1;37m        ^\u001b[0m\n\u001b[1;31mSyntaxError\u001b[0m\u001b[1;31m:\u001b[0m invalid syntax\n"
     ]
    }
   ],
   "source": [
    "c=34'string'"
   ]
  },
  {
   "cell_type": "code",
   "execution_count": 8,
   "id": "7953e789",
   "metadata": {},
   "outputs": [
    {
     "ename": "NameError",
     "evalue": "name 'c' is not defined",
     "output_type": "error",
     "traceback": [
      "\u001b[1;31m---------------------------------------------------------------------------\u001b[0m",
      "\u001b[1;31mNameError\u001b[0m                                 Traceback (most recent call last)",
      "Cell \u001b[1;32mIn[8], line 1\u001b[0m\n\u001b[1;32m----> 1\u001b[0m \u001b[38;5;28mtype\u001b[39m(\u001b[43mc\u001b[49m)\n",
      "\u001b[1;31mNameError\u001b[0m: name 'c' is not defined"
     ]
    }
   ],
   "source": [
    "type(c)"
   ]
  },
  {
   "cell_type": "code",
   "execution_count": 9,
   "id": "88583b35",
   "metadata": {},
   "outputs": [
    {
     "ename": "TypeError",
     "evalue": "unsupported operand type(s) for +: 'int' and 'str'",
     "output_type": "error",
     "traceback": [
      "\u001b[1;31m---------------------------------------------------------------------------\u001b[0m",
      "\u001b[1;31mTypeError\u001b[0m                                 Traceback (most recent call last)",
      "Cell \u001b[1;32mIn[9], line 1\u001b[0m\n\u001b[1;32m----> 1\u001b[0m c\u001b[38;5;241m=\u001b[39m \u001b[38;5;241;43m34\u001b[39;49m\u001b[43m \u001b[49m\u001b[38;5;241;43m+\u001b[39;49m\u001b[43m \u001b[49m\u001b[38;5;124;43m'\u001b[39;49m\u001b[38;5;124;43mshweta\u001b[39;49m\u001b[38;5;124;43m'\u001b[39;49m\n",
      "\u001b[1;31mTypeError\u001b[0m: unsupported operand type(s) for +: 'int' and 'str'"
     ]
    }
   ],
   "source": [
    "c= 34 + 'shweta'"
   ]
  },
  {
   "cell_type": "code",
   "execution_count": 10,
   "id": "6aeadb59",
   "metadata": {},
   "outputs": [
    {
     "ename": "NameError",
     "evalue": "name 'd' is not defined",
     "output_type": "error",
     "traceback": [
      "\u001b[1;31m---------------------------------------------------------------------------\u001b[0m",
      "\u001b[1;31mNameError\u001b[0m                                 Traceback (most recent call last)",
      "Cell \u001b[1;32mIn[10], line 1\u001b[0m\n\u001b[1;32m----> 1\u001b[0m \u001b[38;5;28mprint\u001b[39m(\u001b[43md\u001b[49m)\n",
      "\u001b[1;31mNameError\u001b[0m: name 'd' is not defined"
     ]
    }
   ],
   "source": [
    "print(d)"
   ]
  },
  {
   "cell_type": "code",
   "execution_count": 11,
   "id": "200d6b1e",
   "metadata": {},
   "outputs": [],
   "source": [
    "d= 34"
   ]
  },
  {
   "cell_type": "code",
   "execution_count": 12,
   "id": "1fae3faf",
   "metadata": {},
   "outputs": [
    {
     "name": "stdout",
     "output_type": "stream",
     "text": [
      "34\n"
     ]
    }
   ],
   "source": [
    "print(d)"
   ]
  },
  {
   "cell_type": "code",
   "execution_count": 13,
   "id": "18e399c3",
   "metadata": {},
   "outputs": [
    {
     "name": "stdout",
     "output_type": "stream",
     "text": [
      "10\n"
     ]
    }
   ],
   "source": [
    "print(a)"
   ]
  },
  {
   "cell_type": "code",
   "execution_count": 14,
   "id": "91c48ba8",
   "metadata": {},
   "outputs": [
    {
     "name": "stdout",
     "output_type": "stream",
     "text": [
      "10 34\n"
     ]
    }
   ],
   "source": [
    "print(a,d)"
   ]
  },
  {
   "cell_type": "code",
   "execution_count": 15,
   "id": "c5392730",
   "metadata": {},
   "outputs": [
    {
     "name": "stdout",
     "output_type": "stream",
     "text": [
      "10 34 string1\n"
     ]
    }
   ],
   "source": [
    "print(a,d,\"string1\")"
   ]
  },
  {
   "cell_type": "code",
   "execution_count": 16,
   "id": "c7168b5a",
   "metadata": {},
   "outputs": [
    {
     "name": "stdout",
     "output_type": "stream",
     "text": [
      "10 34 string\n"
     ]
    }
   ],
   "source": [
    "a = print(a,d,\"string\")"
   ]
  },
  {
   "cell_type": "code",
   "execution_count": 17,
   "id": "1d63fcde",
   "metadata": {},
   "outputs": [],
   "source": [
    "a"
   ]
  },
  {
   "cell_type": "code",
   "execution_count": 18,
   "id": "5e9cd6da",
   "metadata": {},
   "outputs": [
    {
     "name": "stdout",
     "output_type": "stream",
     "text": [
      "None\n"
     ]
    }
   ],
   "source": [
    "print(a)"
   ]
  },
  {
   "cell_type": "code",
   "execution_count": 19,
   "id": "e7d3882d",
   "metadata": {},
   "outputs": [
    {
     "data": {
      "text/plain": [
       "NoneType"
      ]
     },
     "execution_count": 19,
     "metadata": {},
     "output_type": "execute_result"
    }
   ],
   "source": [
    "type(a)"
   ]
  },
  {
   "cell_type": "code",
   "execution_count": 20,
   "id": "c3741f9d",
   "metadata": {},
   "outputs": [],
   "source": [
    "a=5"
   ]
  },
  {
   "cell_type": "code",
   "execution_count": 21,
   "id": "c311ac8f",
   "metadata": {},
   "outputs": [],
   "source": [
    "b=10"
   ]
  },
  {
   "cell_type": "code",
   "execution_count": 22,
   "id": "e29b03e2",
   "metadata": {},
   "outputs": [],
   "source": [
    "a,b = 6, 11"
   ]
  },
  {
   "cell_type": "code",
   "execution_count": 23,
   "id": "3a654bd3",
   "metadata": {},
   "outputs": [
    {
     "ename": "SyntaxError",
     "evalue": "invalid syntax (210263012.py, line 1)",
     "output_type": "error",
     "traceback": [
      "\u001b[1;36m  Cell \u001b[1;32mIn[23], line 1\u001b[1;36m\u001b[0m\n\u001b[1;33m    a b\u001b[0m\n\u001b[1;37m      ^\u001b[0m\n\u001b[1;31mSyntaxError\u001b[0m\u001b[1;31m:\u001b[0m invalid syntax\n"
     ]
    }
   ],
   "source": [
    "a b"
   ]
  },
  {
   "cell_type": "code",
   "execution_count": 24,
   "id": "0773f2e6",
   "metadata": {},
   "outputs": [
    {
     "data": {
      "text/plain": [
       "(6, 11)"
      ]
     },
     "execution_count": 24,
     "metadata": {},
     "output_type": "execute_result"
    }
   ],
   "source": [
    "a,b"
   ]
  },
  {
   "cell_type": "code",
   "execution_count": 25,
   "id": "348eb18a",
   "metadata": {},
   "outputs": [],
   "source": [
    "a,b,s = 10, 15.08, \"shweta\""
   ]
  },
  {
   "cell_type": "code",
   "execution_count": 26,
   "id": "56e47273",
   "metadata": {},
   "outputs": [
    {
     "data": {
      "text/plain": [
       "10"
      ]
     },
     "execution_count": 26,
     "metadata": {},
     "output_type": "execute_result"
    }
   ],
   "source": [
    "a"
   ]
  },
  {
   "cell_type": "code",
   "execution_count": 27,
   "id": "36860e80",
   "metadata": {},
   "outputs": [
    {
     "data": {
      "text/plain": [
       "15.08"
      ]
     },
     "execution_count": 27,
     "metadata": {},
     "output_type": "execute_result"
    }
   ],
   "source": [
    "b"
   ]
  },
  {
   "cell_type": "code",
   "execution_count": 28,
   "id": "d7bace53",
   "metadata": {},
   "outputs": [
    {
     "data": {
      "text/plain": [
       "'shweta'"
      ]
     },
     "execution_count": 28,
     "metadata": {},
     "output_type": "execute_result"
    }
   ],
   "source": [
    "s"
   ]
  },
  {
   "cell_type": "code",
   "execution_count": 29,
   "id": "33a14d9c",
   "metadata": {},
   "outputs": [
    {
     "data": {
      "text/plain": [
       "(10, 15.08, 'shweta')"
      ]
     },
     "execution_count": 29,
     "metadata": {},
     "output_type": "execute_result"
    }
   ],
   "source": [
    "a,b,s"
   ]
  },
  {
   "cell_type": "code",
   "execution_count": 30,
   "id": "43572658",
   "metadata": {},
   "outputs": [],
   "source": [
    "d = a,b,s"
   ]
  },
  {
   "cell_type": "code",
   "execution_count": 31,
   "id": "4b80b4b1",
   "metadata": {},
   "outputs": [
    {
     "data": {
      "text/plain": [
       "(10, 15.08, 'shweta')"
      ]
     },
     "execution_count": 31,
     "metadata": {},
     "output_type": "execute_result"
    }
   ],
   "source": [
    "d"
   ]
  },
  {
   "cell_type": "code",
   "execution_count": 32,
   "id": "60148f17",
   "metadata": {},
   "outputs": [
    {
     "data": {
      "text/plain": [
       "tuple"
      ]
     },
     "execution_count": 32,
     "metadata": {},
     "output_type": "execute_result"
    }
   ],
   "source": [
    "type(d)"
   ]
  },
  {
   "cell_type": "code",
   "execution_count": 33,
   "id": "74fd7bd1",
   "metadata": {},
   "outputs": [
    {
     "data": {
      "text/plain": [
       "float"
      ]
     },
     "execution_count": 33,
     "metadata": {},
     "output_type": "execute_result"
    }
   ],
   "source": [
    "type(b)"
   ]
  },
  {
   "cell_type": "code",
   "execution_count": 34,
   "id": "12880f28",
   "metadata": {},
   "outputs": [
    {
     "ename": "TypeError",
     "evalue": "type.__new__() argument 1 must be str, not int",
     "output_type": "error",
     "traceback": [
      "\u001b[1;31m---------------------------------------------------------------------------\u001b[0m",
      "\u001b[1;31mTypeError\u001b[0m                                 Traceback (most recent call last)",
      "Cell \u001b[1;32mIn[34], line 1\u001b[0m\n\u001b[1;32m----> 1\u001b[0m \u001b[38;5;28;43mtype\u001b[39;49m\u001b[43m(\u001b[49m\u001b[43ma\u001b[49m\u001b[43m,\u001b[49m\u001b[43mb\u001b[49m\u001b[43m,\u001b[49m\u001b[43ms\u001b[49m\u001b[43m)\u001b[49m\n",
      "\u001b[1;31mTypeError\u001b[0m: type.__new__() argument 1 must be str, not int"
     ]
    }
   ],
   "source": [
    "type(a,b,s)"
   ]
  },
  {
   "cell_type": "code",
   "execution_count": 35,
   "id": "ba757b7b",
   "metadata": {},
   "outputs": [
    {
     "ename": "SyntaxError",
     "evalue": "invalid syntax. Perhaps you forgot a comma? (1211590247.py, line 1)",
     "output_type": "error",
     "traceback": [
      "\u001b[1;36m  Cell \u001b[1;32mIn[35], line 1\u001b[1;36m\u001b[0m\n\u001b[1;33m    print(''this is a string'')\u001b[0m\n\u001b[1;37m          ^\u001b[0m\n\u001b[1;31mSyntaxError\u001b[0m\u001b[1;31m:\u001b[0m invalid syntax. Perhaps you forgot a comma?\n"
     ]
    }
   ],
   "source": [
    "print(''this is a string'')"
   ]
  },
  {
   "cell_type": "code",
   "execution_count": 36,
   "id": "7201c910",
   "metadata": {},
   "outputs": [
    {
     "name": "stdout",
     "output_type": "stream",
     "text": [
      "this is a string\n"
     ]
    }
   ],
   "source": [
    "print('this is a string')"
   ]
  },
  {
   "cell_type": "code",
   "execution_count": 37,
   "id": "2616bfbb",
   "metadata": {},
   "outputs": [
    {
     "name": "stdout",
     "output_type": "stream",
     "text": [
      "'this is a string'\n"
     ]
    }
   ],
   "source": [
    "print(\"'this is a string'\")"
   ]
  },
  {
   "cell_type": "code",
   "execution_count": 38,
   "id": "28cc6026",
   "metadata": {},
   "outputs": [
    {
     "ename": "SyntaxError",
     "evalue": "invalid decimal literal (3320927403.py, line 1)",
     "output_type": "error",
     "traceback": [
      "\u001b[1;36m  Cell \u001b[1;32mIn[38], line 1\u001b[1;36m\u001b[0m\n\u001b[1;33m    1b ='string'\u001b[0m\n\u001b[1;37m    ^\u001b[0m\n\u001b[1;31mSyntaxError\u001b[0m\u001b[1;31m:\u001b[0m invalid decimal literal\n"
     ]
    }
   ],
   "source": [
    "1b ='string'"
   ]
  },
  {
   "cell_type": "code",
   "execution_count": 39,
   "id": "b665a5c3",
   "metadata": {},
   "outputs": [
    {
     "ename": "SyntaxError",
     "evalue": "invalid decimal literal (3689213822.py, line 1)",
     "output_type": "error",
     "traceback": [
      "\u001b[1;36m  Cell \u001b[1;32mIn[39], line 1\u001b[1;36m\u001b[0m\n\u001b[1;33m    1b = \"string\"\u001b[0m\n\u001b[1;37m    ^\u001b[0m\n\u001b[1;31mSyntaxError\u001b[0m\u001b[1;31m:\u001b[0m invalid decimal literal\n"
     ]
    }
   ],
   "source": [
    "1b = \"string\""
   ]
  },
  {
   "cell_type": "code",
   "execution_count": 40,
   "id": "b2c3718d",
   "metadata": {},
   "outputs": [
    {
     "ename": "SyntaxError",
     "evalue": "invalid decimal literal (863797316.py, line 1)",
     "output_type": "error",
     "traceback": [
      "\u001b[1;36m  Cell \u001b[1;32mIn[40], line 1\u001b[1;36m\u001b[0m\n\u001b[1;33m    1b =\"shweta\"\u001b[0m\n\u001b[1;37m    ^\u001b[0m\n\u001b[1;31mSyntaxError\u001b[0m\u001b[1;31m:\u001b[0m invalid decimal literal\n"
     ]
    }
   ],
   "source": [
    "1b =\"shweta\""
   ]
  },
  {
   "cell_type": "code",
   "execution_count": 41,
   "id": "8517cc06",
   "metadata": {},
   "outputs": [],
   "source": [
    "A = \"shweta\""
   ]
  },
  {
   "cell_type": "code",
   "execution_count": 42,
   "id": "af323bda",
   "metadata": {},
   "outputs": [
    {
     "data": {
      "text/plain": [
       "'shweta'"
      ]
     },
     "execution_count": 42,
     "metadata": {},
     "output_type": "execute_result"
    }
   ],
   "source": [
    "A"
   ]
  },
  {
   "cell_type": "code",
   "execution_count": 43,
   "id": "250f28d4",
   "metadata": {},
   "outputs": [
    {
     "ename": "SyntaxError",
     "evalue": "invalid syntax. Maybe you meant '==' or ':=' instead of '='? (2342117497.py, line 1)",
     "output_type": "error",
     "traceback": [
      "\u001b[1;36m  Cell \u001b[1;32mIn[43], line 1\u001b[1;36m\u001b[0m\n\u001b[1;33m    @b= 7645\u001b[0m\n\u001b[1;37m     ^\u001b[0m\n\u001b[1;31mSyntaxError\u001b[0m\u001b[1;31m:\u001b[0m invalid syntax. Maybe you meant '==' or ':=' instead of '='?\n"
     ]
    }
   ],
   "source": [
    "@b= 7645"
   ]
  },
  {
   "cell_type": "code",
   "execution_count": 44,
   "id": "a2e794d2",
   "metadata": {},
   "outputs": [],
   "source": [
    "_a=76324"
   ]
  },
  {
   "cell_type": "code",
   "execution_count": 45,
   "id": "57b9bf58",
   "metadata": {},
   "outputs": [
    {
     "data": {
      "text/plain": [
       "76324"
      ]
     },
     "execution_count": 45,
     "metadata": {},
     "output_type": "execute_result"
    }
   ],
   "source": [
    "_a"
   ]
  },
  {
   "cell_type": "code",
   "execution_count": 46,
   "id": "9ca9ed00",
   "metadata": {},
   "outputs": [
    {
     "ename": "SyntaxError",
     "evalue": "cannot assign to expression here. Maybe you meant '==' instead of '='? (1296343693.py, line 1)",
     "output_type": "error",
     "traceback": [
      "\u001b[1;36m  Cell \u001b[1;32mIn[46], line 1\u001b[1;36m\u001b[0m\n\u001b[1;33m    -a = 7834\u001b[0m\n\u001b[1;37m    ^\u001b[0m\n\u001b[1;31mSyntaxError\u001b[0m\u001b[1;31m:\u001b[0m cannot assign to expression here. Maybe you meant '==' instead of '='?\n"
     ]
    }
   ],
   "source": [
    "-a = 7834"
   ]
  },
  {
   "cell_type": "code",
   "execution_count": 47,
   "id": "9127b77c",
   "metadata": {},
   "outputs": [
    {
     "ename": "SyntaxError",
     "evalue": "invalid syntax (146726292.py, line 1)",
     "output_type": "error",
     "traceback": [
      "\u001b[1;36m  Cell \u001b[1;32mIn[47], line 1\u001b[1;36m\u001b[0m\n\u001b[1;33m    b& =\"hdgj\"\u001b[0m\n\u001b[1;37m       ^\u001b[0m\n\u001b[1;31mSyntaxError\u001b[0m\u001b[1;31m:\u001b[0m invalid syntax\n"
     ]
    }
   ],
   "source": [
    "b& =\"hdgj\""
   ]
  },
  {
   "cell_type": "code",
   "execution_count": 48,
   "id": "2d3122da",
   "metadata": {},
   "outputs": [],
   "source": [
    "b2=\"dhgjds\""
   ]
  },
  {
   "cell_type": "code",
   "execution_count": 49,
   "id": "aec45929",
   "metadata": {},
   "outputs": [
    {
     "data": {
      "text/plain": [
       "'dhgjds'"
      ]
     },
     "execution_count": 49,
     "metadata": {},
     "output_type": "execute_result"
    }
   ],
   "source": [
    "b2"
   ]
  },
  {
   "cell_type": "code",
   "execution_count": 50,
   "id": "a40d1bd9",
   "metadata": {},
   "outputs": [],
   "source": [
    "name ='shweta'\n",
    "userId = 'shwetamahapatra330'\n",
    "password='xyz1234'\n",
    "mailId= 'shweta.maha@ai.com'"
   ]
  },
  {
   "cell_type": "code",
   "execution_count": 51,
   "id": "11f3dbba",
   "metadata": {},
   "outputs": [
    {
     "ename": "SyntaxError",
     "evalue": "invalid syntax (810756369.py, line 1)",
     "output_type": "error",
     "traceback": [
      "\u001b[1;36m  Cell \u001b[1;32mIn[51], line 1\u001b[1;36m\u001b[0m\n\u001b[1;33m    a =1.5 2.4\u001b[0m\n\u001b[1;37m           ^\u001b[0m\n\u001b[1;31mSyntaxError\u001b[0m\u001b[1;31m:\u001b[0m invalid syntax\n"
     ]
    }
   ],
   "source": [
    "a =1.5 2.4"
   ]
  },
  {
   "cell_type": "code",
   "execution_count": 52,
   "id": "9a333943",
   "metadata": {},
   "outputs": [
    {
     "data": {
      "text/plain": [
       "int"
      ]
     },
     "execution_count": 52,
     "metadata": {},
     "output_type": "execute_result"
    }
   ],
   "source": [
    "type(a)"
   ]
  },
  {
   "cell_type": "code",
   "execution_count": 53,
   "id": "aefca8c9",
   "metadata": {},
   "outputs": [
    {
     "data": {
      "text/plain": [
       "10"
      ]
     },
     "execution_count": 53,
     "metadata": {},
     "output_type": "execute_result"
    }
   ],
   "source": [
    "a"
   ]
  },
  {
   "cell_type": "code",
   "execution_count": 54,
   "id": "69944c75",
   "metadata": {},
   "outputs": [
    {
     "ename": "NameError",
     "evalue": "name 'true' is not defined",
     "output_type": "error",
     "traceback": [
      "\u001b[1;31m---------------------------------------------------------------------------\u001b[0m",
      "\u001b[1;31mNameError\u001b[0m                                 Traceback (most recent call last)",
      "Cell \u001b[1;32mIn[54], line 1\u001b[0m\n\u001b[1;32m----> 1\u001b[0m a \u001b[38;5;241m=\u001b[39m \u001b[43mtrue\u001b[49m\n",
      "\u001b[1;31mNameError\u001b[0m: name 'true' is not defined"
     ]
    }
   ],
   "source": [
    "a = true"
   ]
  },
  {
   "cell_type": "code",
   "execution_count": 55,
   "id": "6e05c15a",
   "metadata": {},
   "outputs": [],
   "source": [
    "a = True"
   ]
  },
  {
   "cell_type": "code",
   "execution_count": 56,
   "id": "6f7d352b",
   "metadata": {},
   "outputs": [
    {
     "data": {
      "text/plain": [
       "bool"
      ]
     },
     "execution_count": 56,
     "metadata": {},
     "output_type": "execute_result"
    }
   ],
   "source": [
    "type(a)"
   ]
  },
  {
   "cell_type": "code",
   "execution_count": 57,
   "id": "604fdac2",
   "metadata": {},
   "outputs": [
    {
     "data": {
      "text/plain": [
       "True"
      ]
     },
     "execution_count": 57,
     "metadata": {},
     "output_type": "execute_result"
    }
   ],
   "source": [
    "a"
   ]
  },
  {
   "cell_type": "code",
   "execution_count": 58,
   "id": "22414cb8",
   "metadata": {},
   "outputs": [
    {
     "data": {
      "text/plain": [
       "4"
      ]
     },
     "execution_count": 58,
     "metadata": {},
     "output_type": "execute_result"
    }
   ],
   "source": [
    "True + True + True + False +True"
   ]
  },
  {
   "cell_type": "code",
   "execution_count": 59,
   "id": "a4322528",
   "metadata": {},
   "outputs": [
    {
     "data": {
      "text/plain": [
       "0"
      ]
     },
     "execution_count": 59,
     "metadata": {},
     "output_type": "execute_result"
    }
   ],
   "source": [
    "False - True + True"
   ]
  },
  {
   "cell_type": "code",
   "execution_count": 60,
   "id": "f83e98ee",
   "metadata": {},
   "outputs": [
    {
     "data": {
      "text/plain": [
       "False"
      ]
     },
     "execution_count": 60,
     "metadata": {},
     "output_type": "execute_result"
    }
   ],
   "source": [
    "False"
   ]
  },
  {
   "cell_type": "code",
   "execution_count": 61,
   "id": "61dda6cf",
   "metadata": {},
   "outputs": [
    {
     "ename": "ZeroDivisionError",
     "evalue": "division by zero",
     "output_type": "error",
     "traceback": [
      "\u001b[1;31m---------------------------------------------------------------------------\u001b[0m",
      "\u001b[1;31mZeroDivisionError\u001b[0m                         Traceback (most recent call last)",
      "Cell \u001b[1;32mIn[61], line 1\u001b[0m\n\u001b[1;32m----> 1\u001b[0m \u001b[38;5;28;43;01mTrue\u001b[39;49;00m\u001b[43m \u001b[49m\u001b[38;5;241;43m/\u001b[39;49m\u001b[43m \u001b[49m\u001b[38;5;28;43;01mFalse\u001b[39;49;00m\n",
      "\u001b[1;31mZeroDivisionError\u001b[0m: division by zero"
     ]
    }
   ],
   "source": [
    "True / False"
   ]
  },
  {
   "cell_type": "code",
   "execution_count": 62,
   "id": "3d67ceee",
   "metadata": {},
   "outputs": [
    {
     "data": {
      "text/plain": [
       "0.0"
      ]
     },
     "execution_count": 62,
     "metadata": {},
     "output_type": "execute_result"
    }
   ],
   "source": [
    "False/True"
   ]
  },
  {
   "cell_type": "code",
   "execution_count": 63,
   "id": "388c09cd",
   "metadata": {},
   "outputs": [],
   "source": [
    "n = 45 + 6j"
   ]
  },
  {
   "cell_type": "code",
   "execution_count": 64,
   "id": "51fdd1cc",
   "metadata": {},
   "outputs": [
    {
     "data": {
      "text/plain": [
       "(45+6j)"
      ]
     },
     "execution_count": 64,
     "metadata": {},
     "output_type": "execute_result"
    }
   ],
   "source": [
    "n\n"
   ]
  },
  {
   "cell_type": "code",
   "execution_count": 65,
   "id": "074d76bf",
   "metadata": {},
   "outputs": [
    {
     "data": {
      "text/plain": [
       "complex"
      ]
     },
     "execution_count": 65,
     "metadata": {},
     "output_type": "execute_result"
    }
   ],
   "source": [
    "type(n)"
   ]
  },
  {
   "cell_type": "code",
   "execution_count": 66,
   "id": "ddeeff78",
   "metadata": {},
   "outputs": [
    {
     "data": {
      "text/plain": [
       "45.0"
      ]
     },
     "execution_count": 66,
     "metadata": {},
     "output_type": "execute_result"
    }
   ],
   "source": [
    "n.real"
   ]
  },
  {
   "cell_type": "code",
   "execution_count": 67,
   "id": "9796c0ce",
   "metadata": {},
   "outputs": [
    {
     "data": {
      "text/plain": [
       "6.0"
      ]
     },
     "execution_count": 67,
     "metadata": {},
     "output_type": "execute_result"
    }
   ],
   "source": [
    "n.imag"
   ]
  },
  {
   "cell_type": "code",
   "execution_count": 68,
   "id": "90be9c14",
   "metadata": {},
   "outputs": [
    {
     "ename": "SyntaxError",
     "evalue": "invalid decimal literal (3102487712.py, line 1)",
     "output_type": "error",
     "traceback": [
      "\u001b[1;36m  Cell \u001b[1;32mIn[68], line 1\u001b[1;36m\u001b[0m\n\u001b[1;33m    m= 45 + 7h\u001b[0m\n\u001b[1;37m            ^\u001b[0m\n\u001b[1;31mSyntaxError\u001b[0m\u001b[1;31m:\u001b[0m invalid decimal literal\n"
     ]
    }
   ],
   "source": [
    "m= 45 + 7h\n",
    "#j is the only variable to represent imaginary part of a complex number"
   ]
  },
  {
   "cell_type": "code",
   "execution_count": 69,
   "id": "6848a60c",
   "metadata": {},
   "outputs": [
    {
     "data": {
      "text/plain": [
       "(420+285j)"
      ]
     },
     "execution_count": 69,
     "metadata": {},
     "output_type": "execute_result"
    }
   ],
   "source": [
    "n = 45 + 6j\n",
    "m = 10 + 5j\n",
    "n*m"
   ]
  },
  {
   "cell_type": "code",
   "execution_count": 70,
   "id": "965e4c96",
   "metadata": {},
   "outputs": [
    {
     "ename": "TypeError",
     "evalue": "unsupported operand type(s) for +: 'int' and 'str'",
     "output_type": "error",
     "traceback": [
      "\u001b[1;31m---------------------------------------------------------------------------\u001b[0m",
      "\u001b[1;31mTypeError\u001b[0m                                 Traceback (most recent call last)",
      "Cell \u001b[1;32mIn[70], line 1\u001b[0m\n\u001b[1;32m----> 1\u001b[0m \u001b[38;5;241;43m1\u001b[39;49m\u001b[43m \u001b[49m\u001b[38;5;241;43m+\u001b[39;49m\u001b[43m \u001b[49m\u001b[38;5;124;43m\"\u001b[39;49m\u001b[38;5;124;43mshweta\u001b[39;49m\u001b[38;5;124;43m\"\u001b[39;49m\n",
      "\u001b[1;31mTypeError\u001b[0m: unsupported operand type(s) for +: 'int' and 'str'"
     ]
    }
   ],
   "source": [
    "1 + \"shweta\""
   ]
  },
  {
   "cell_type": "code",
   "execution_count": 71,
   "id": "96f94ce3",
   "metadata": {},
   "outputs": [
    {
     "data": {
      "text/plain": [
       "'shwetamahapatra'"
      ]
     },
     "execution_count": 71,
     "metadata": {},
     "output_type": "execute_result"
    }
   ],
   "source": [
    "\"shweta\" + \"mahapatra\""
   ]
  },
  {
   "cell_type": "code",
   "execution_count": 74,
   "id": "69fef36d",
   "metadata": {},
   "outputs": [
    {
     "data": {
      "text/plain": [
       "'1shweta'"
      ]
     },
     "execution_count": 74,
     "metadata": {},
     "output_type": "execute_result"
    }
   ],
   "source": [
    "str(1) +  'shweta'\n",
    "#type casting, converting int type 1 into str type '1' \n",
    "#strong type casting - only similar type operations are possible"
   ]
  },
  {
   "cell_type": "code",
   "execution_count": 75,
   "id": "8ee232f5",
   "metadata": {},
   "outputs": [
    {
     "data": {
      "text/plain": [
       "'1shweta'"
      ]
     },
     "execution_count": 75,
     "metadata": {},
     "output_type": "execute_result"
    }
   ],
   "source": [
    "'1' + 'shweta'"
   ]
  },
  {
   "cell_type": "code",
   "execution_count": 76,
   "id": "0e7d904a",
   "metadata": {},
   "outputs": [
    {
     "data": {
      "text/plain": [
       "2.0"
      ]
     },
     "execution_count": 76,
     "metadata": {},
     "output_type": "execute_result"
    }
   ],
   "source": [
    "1 + 1.0\n",
    "#converts the o/p to float type (upcasting)"
   ]
  },
  {
   "cell_type": "code",
   "execution_count": 77,
   "id": "4aff519c",
   "metadata": {},
   "outputs": [
    {
     "data": {
      "text/plain": [
       "'shwetamahapatra'"
      ]
     },
     "execution_count": 77,
     "metadata": {},
     "output_type": "execute_result"
    }
   ],
   "source": [
    "name = 'shweta'\n",
    "name+'mahapatra'"
   ]
  },
  {
   "cell_type": "code",
   "execution_count": 78,
   "id": "a54938a6",
   "metadata": {},
   "outputs": [
    {
     "data": {
      "text/plain": [
       "'shwetashwetashweta'"
      ]
     },
     "execution_count": 78,
     "metadata": {},
     "output_type": "execute_result"
    }
   ],
   "source": [
    "\"shweta\"*3"
   ]
  },
  {
   "cell_type": "code",
   "execution_count": 79,
   "id": "59997c78",
   "metadata": {},
   "outputs": [
    {
     "data": {
      "text/plain": [
       "'shweta shweta shweta '"
      ]
     },
     "execution_count": 79,
     "metadata": {},
     "output_type": "execute_result"
    }
   ],
   "source": [
    "\"shweta \"*3"
   ]
  },
  {
   "cell_type": "code",
   "execution_count": 80,
   "id": "f28fea63",
   "metadata": {},
   "outputs": [
    {
     "ename": "TypeError",
     "evalue": "unsupported operand type(s) for /: 'str' and 'int'",
     "output_type": "error",
     "traceback": [
      "\u001b[1;31m---------------------------------------------------------------------------\u001b[0m",
      "\u001b[1;31mTypeError\u001b[0m                                 Traceback (most recent call last)",
      "Cell \u001b[1;32mIn[80], line 1\u001b[0m\n\u001b[1;32m----> 1\u001b[0m \u001b[38;5;124;43m'\u001b[39;49m\u001b[38;5;124;43mshweta\u001b[39;49m\u001b[38;5;124;43m'\u001b[39;49m\u001b[38;5;241;43m/\u001b[39;49m\u001b[38;5;241;43m3\u001b[39;49m\n",
      "\u001b[1;31mTypeError\u001b[0m: unsupported operand type(s) for /: 'str' and 'int'"
     ]
    }
   ],
   "source": [
    "'shweta'/3"
   ]
  },
  {
   "cell_type": "code",
   "execution_count": 81,
   "id": "965e6631",
   "metadata": {},
   "outputs": [
    {
     "ename": "TypeError",
     "evalue": "can't multiply sequence by non-int of type 'str'",
     "output_type": "error",
     "traceback": [
      "\u001b[1;31m---------------------------------------------------------------------------\u001b[0m",
      "\u001b[1;31mTypeError\u001b[0m                                 Traceback (most recent call last)",
      "Cell \u001b[1;32mIn[81], line 1\u001b[0m\n\u001b[1;32m----> 1\u001b[0m \u001b[38;5;124;43m\"\u001b[39;49m\u001b[38;5;124;43mshweta\u001b[39;49m\u001b[38;5;124;43m\"\u001b[39;49m\u001b[43m \u001b[49m\u001b[38;5;241;43m*\u001b[39;49m\u001b[43m \u001b[49m\u001b[38;5;124;43m\"\u001b[39;49m\u001b[38;5;124;43mshweta\u001b[39;49m\u001b[38;5;124;43m\"\u001b[39;49m\n",
      "\u001b[1;31mTypeError\u001b[0m: can't multiply sequence by non-int of type 'str'"
     ]
    }
   ],
   "source": [
    "\"shweta\" * \"shweta\""
   ]
  },
  {
   "cell_type": "code",
   "execution_count": 82,
   "id": "dfad6f61",
   "metadata": {},
   "outputs": [
    {
     "ename": "ValueError",
     "evalue": "invalid literal for int() with base 10: 'shweta'",
     "output_type": "error",
     "traceback": [
      "\u001b[1;31m---------------------------------------------------------------------------\u001b[0m",
      "\u001b[1;31mValueError\u001b[0m                                Traceback (most recent call last)",
      "Cell \u001b[1;32mIn[82], line 1\u001b[0m\n\u001b[1;32m----> 1\u001b[0m \u001b[38;5;28;43mint\u001b[39;49m\u001b[43m(\u001b[49m\u001b[38;5;124;43m'\u001b[39;49m\u001b[38;5;124;43mshweta\u001b[39;49m\u001b[38;5;124;43m'\u001b[39;49m\u001b[43m)\u001b[49m\n",
      "\u001b[1;31mValueError\u001b[0m: invalid literal for int() with base 10: 'shweta'"
     ]
    }
   ],
   "source": [
    "int('shweta')"
   ]
  },
  {
   "cell_type": "code",
   "execution_count": 83,
   "id": "bb62c642",
   "metadata": {},
   "outputs": [
    {
     "data": {
      "text/plain": [
       "23"
      ]
     },
     "execution_count": 83,
     "metadata": {},
     "output_type": "execute_result"
    }
   ],
   "source": [
    "int('23')"
   ]
  },
  {
   "cell_type": "code",
   "execution_count": 84,
   "id": "5ff09147",
   "metadata": {},
   "outputs": [],
   "source": [
    "a = 10"
   ]
  },
  {
   "cell_type": "code",
   "execution_count": 85,
   "id": "c214087d",
   "metadata": {},
   "outputs": [
    {
     "name": "stdout",
     "output_type": "stream",
     "text": [
      "23\n"
     ]
    }
   ],
   "source": [
    "a = input()"
   ]
  },
  {
   "cell_type": "code",
   "execution_count": 86,
   "id": "9fa6ae65",
   "metadata": {},
   "outputs": [
    {
     "data": {
      "text/plain": [
       "'23'"
      ]
     },
     "execution_count": 86,
     "metadata": {},
     "output_type": "execute_result"
    }
   ],
   "source": [
    "a"
   ]
  },
  {
   "cell_type": "code",
   "execution_count": 87,
   "id": "9dfe8292",
   "metadata": {},
   "outputs": [
    {
     "name": "stdout",
     "output_type": "stream",
     "text": [
      "45.0\n"
     ]
    }
   ],
   "source": [
    "b = input()"
   ]
  },
  {
   "cell_type": "code",
   "execution_count": 88,
   "id": "f510dbdc",
   "metadata": {},
   "outputs": [
    {
     "data": {
      "text/plain": [
       "'45.0'"
      ]
     },
     "execution_count": 88,
     "metadata": {},
     "output_type": "execute_result"
    }
   ],
   "source": [
    "b"
   ]
  },
  {
   "cell_type": "code",
   "execution_count": 89,
   "id": "6d8070a1",
   "metadata": {},
   "outputs": [
    {
     "ename": "ValueError",
     "evalue": "invalid literal for int() with base 10: '45.0'",
     "output_type": "error",
     "traceback": [
      "\u001b[1;31m---------------------------------------------------------------------------\u001b[0m",
      "\u001b[1;31mValueError\u001b[0m                                Traceback (most recent call last)",
      "Cell \u001b[1;32mIn[89], line 1\u001b[0m\n\u001b[1;32m----> 1\u001b[0m \u001b[38;5;28;43mint\u001b[39;49m\u001b[43m(\u001b[49m\u001b[43mb\u001b[49m\u001b[43m)\u001b[49m\n",
      "\u001b[1;31mValueError\u001b[0m: invalid literal for int() with base 10: '45.0'"
     ]
    }
   ],
   "source": [
    "int(b)"
   ]
  },
  {
   "cell_type": "code",
   "execution_count": 90,
   "id": "c99b6c8f",
   "metadata": {},
   "outputs": [
    {
     "data": {
      "text/plain": [
       "23"
      ]
     },
     "execution_count": 90,
     "metadata": {},
     "output_type": "execute_result"
    }
   ],
   "source": [
    "int(a)"
   ]
  },
  {
   "cell_type": "code",
   "execution_count": 91,
   "id": "0396fe55",
   "metadata": {},
   "outputs": [
    {
     "name": "stdout",
     "output_type": "stream",
     "text": [
      "Enter an integer45\n"
     ]
    }
   ],
   "source": [
    "a = input(\"Enter an integer\")"
   ]
  },
  {
   "cell_type": "code",
   "execution_count": 92,
   "id": "f70d8976",
   "metadata": {},
   "outputs": [
    {
     "data": {
      "text/plain": [
       "'45'"
      ]
     },
     "execution_count": 92,
     "metadata": {},
     "output_type": "execute_result"
    }
   ],
   "source": [
    "a"
   ]
  },
  {
   "cell_type": "code",
   "execution_count": 93,
   "id": "cbcf923a",
   "metadata": {},
   "outputs": [
    {
     "data": {
      "text/plain": [
       "45"
      ]
     },
     "execution_count": 93,
     "metadata": {},
     "output_type": "execute_result"
    }
   ],
   "source": [
    "int(a)"
   ]
  },
  {
   "cell_type": "code",
   "execution_count": 94,
   "id": "5701aa50",
   "metadata": {},
   "outputs": [
    {
     "ename": "NameError",
     "evalue": "name 'enter' is not defined",
     "output_type": "error",
     "traceback": [
      "\u001b[1;31m---------------------------------------------------------------------------\u001b[0m",
      "\u001b[1;31mNameError\u001b[0m                                 Traceback (most recent call last)",
      "Cell \u001b[1;32mIn[94], line 1\u001b[0m\n\u001b[1;32m----> 1\u001b[0m a \u001b[38;5;241m=\u001b[39m \u001b[38;5;28minput\u001b[39m(\u001b[43menter\u001b[49m)\n",
      "\u001b[1;31mNameError\u001b[0m: name 'enter' is not defined"
     ]
    }
   ],
   "source": [
    "a = input(enter)"
   ]
  },
  {
   "cell_type": "code",
   "execution_count": 95,
   "id": "676ccd3f",
   "metadata": {},
   "outputs": [
    {
     "name": "stdout",
     "output_type": "stream",
     "text": [
      "1045\n"
     ]
    }
   ],
   "source": [
    "a=input(10)"
   ]
  },
  {
   "cell_type": "code",
   "execution_count": 96,
   "id": "4e8f50bc",
   "metadata": {},
   "outputs": [
    {
     "data": {
      "text/plain": [
       "'45'"
      ]
     },
     "execution_count": 96,
     "metadata": {},
     "output_type": "execute_result"
    }
   ],
   "source": [
    "a"
   ]
  },
  {
   "cell_type": "code",
   "execution_count": 97,
   "id": "dd73d83b",
   "metadata": {},
   "outputs": [
    {
     "data": {
      "text/plain": [
       "'take 3 integers input from user using input()\\na,b,c\\nd = (a+b)/c\\ne = d + complexVariable\\ne + \"your name\"\\n'"
      ]
     },
     "execution_count": 97,
     "metadata": {},
     "output_type": "execute_result"
    }
   ],
   "source": [
    "\"\"\"take 3 integers input from user using input()\n",
    "a,b,c\n",
    "d = (a+b)/c\n",
    "e = d + complexVariable\n",
    "e + \"your name\"\n",
    "\"\"\""
   ]
  },
  {
   "cell_type": "code",
   "execution_count": 99,
   "id": "ef10abd1",
   "metadata": {},
   "outputs": [
    {
     "name": "stdout",
     "output_type": "stream",
     "text": [
      "enter a number10\n",
      "enter b5\n",
      "enter c20\n"
     ]
    }
   ],
   "source": [
    "a = int(input(\"enter a number\"))\n",
    "b = int(input(\"enter b\"))\n",
    "c = int(input(\"enter c\"))"
   ]
  },
  {
   "cell_type": "code",
   "execution_count": 100,
   "id": "4330753c",
   "metadata": {},
   "outputs": [
    {
     "data": {
      "text/plain": [
       "(10, 5, 20)"
      ]
     },
     "execution_count": 100,
     "metadata": {},
     "output_type": "execute_result"
    }
   ],
   "source": [
    "a,b,c"
   ]
  },
  {
   "cell_type": "code",
   "execution_count": 101,
   "id": "eaebea6a",
   "metadata": {},
   "outputs": [],
   "source": [
    "d = (a+b)/c"
   ]
  },
  {
   "cell_type": "code",
   "execution_count": 102,
   "id": "73e096e7",
   "metadata": {},
   "outputs": [
    {
     "data": {
      "text/plain": [
       "0.75"
      ]
     },
     "execution_count": 102,
     "metadata": {},
     "output_type": "execute_result"
    }
   ],
   "source": [
    "d"
   ]
  },
  {
   "cell_type": "code",
   "execution_count": 103,
   "id": "a3cc12a5",
   "metadata": {},
   "outputs": [],
   "source": [
    "e = d + (56+7j)"
   ]
  },
  {
   "cell_type": "code",
   "execution_count": 104,
   "id": "3011b22c",
   "metadata": {},
   "outputs": [
    {
     "data": {
      "text/plain": [
       "(56.75+7j)"
      ]
     },
     "execution_count": 104,
     "metadata": {},
     "output_type": "execute_result"
    }
   ],
   "source": [
    "e"
   ]
  },
  {
   "cell_type": "code",
   "execution_count": 105,
   "id": "f565544b",
   "metadata": {},
   "outputs": [
    {
     "data": {
      "text/plain": [
       "'(56.75+7j)shweta'"
      ]
     },
     "execution_count": 105,
     "metadata": {},
     "output_type": "execute_result"
    }
   ],
   "source": [
    "str(e) + \"shweta\"\n"
   ]
  },
  {
   "cell_type": "code",
   "execution_count": 111,
   "id": "9b78e426",
   "metadata": {},
   "outputs": [
    {
     "name": "stdout",
     "output_type": "stream",
     "text": [
      "input a number lesser tahn 34----23\n"
     ]
    }
   ],
   "source": [
    "a = int(input(\"input a number lesser tahn 34----\"))"
   ]
  },
  {
   "cell_type": "code",
   "execution_count": 112,
   "id": "4755a003",
   "metadata": {},
   "outputs": [
    {
     "data": {
      "text/plain": [
       "23"
      ]
     },
     "execution_count": 112,
     "metadata": {},
     "output_type": "execute_result"
    }
   ],
   "source": [
    "a"
   ]
  },
  {
   "cell_type": "code",
   "execution_count": 113,
   "id": "57a4dffe",
   "metadata": {},
   "outputs": [
    {
     "ename": "SyntaxError",
     "evalue": "expected ':' (2131364543.py, line 1)",
     "output_type": "error",
     "traceback": [
      "\u001b[1;36m  Cell \u001b[1;32mIn[113], line 1\u001b[1;36m\u001b[0m\n\u001b[1;33m    if(a < 34)\u001b[0m\n\u001b[1;37m              ^\u001b[0m\n\u001b[1;31mSyntaxError\u001b[0m\u001b[1;31m:\u001b[0m expected ':'\n"
     ]
    }
   ],
   "source": [
    "if(a < 34)\n",
    "print(\"valid number entered\")"
   ]
  },
  {
   "cell_type": "code",
   "execution_count": 114,
   "id": "e366fed0",
   "metadata": {},
   "outputs": [
    {
     "name": "stdout",
     "output_type": "stream",
     "text": [
      "valid number entered\n"
     ]
    }
   ],
   "source": [
    "if(a<34):\n",
    "    print(\"valid number entered\")"
   ]
  },
  {
   "cell_type": "code",
   "execution_count": 115,
   "id": "8a216be3",
   "metadata": {},
   "outputs": [],
   "source": [
    "if a < 34 :\n",
    "    pass"
   ]
  },
  {
   "cell_type": "code",
   "execution_count": 117,
   "id": "912d8145",
   "metadata": {},
   "outputs": [
    {
     "name": "stdout",
     "output_type": "stream",
     "text": [
      "data input is lesser than 34\n"
     ]
    }
   ],
   "source": [
    "if a < 34 :\n",
    "    print(\"data input is lesser than 34\")"
   ]
  },
  {
   "cell_type": "code",
   "execution_count": 119,
   "id": "ea412295",
   "metadata": {},
   "outputs": [
    {
     "name": "stdout",
     "output_type": "stream",
     "text": [
      "input a number----  10\n",
      " number is less than 100\n"
     ]
    }
   ],
   "source": [
    "a = int(input(\"input a number----  \"))\n",
    "if a < 100:\n",
    "    print(\" number is less than 100\")\n",
    "    "
   ]
  },
  {
   "cell_type": "code",
   "execution_count": 120,
   "id": "f9d787b5",
   "metadata": {},
   "outputs": [
    {
     "ename": "IndentationError",
     "evalue": "expected an indented block after 'if' statement on line 1 (1484492274.py, line 2)",
     "output_type": "error",
     "traceback": [
      "\u001b[1;36m  Cell \u001b[1;32mIn[120], line 2\u001b[1;36m\u001b[0m\n\u001b[1;33m    print('indentation error, bcz it is treating print as different statement')\u001b[0m\n\u001b[1;37m    ^\u001b[0m\n\u001b[1;31mIndentationError\u001b[0m\u001b[1;31m:\u001b[0m expected an indented block after 'if' statement on line 1\n"
     ]
    }
   ],
   "source": [
    "if(a<10):\n",
    "print('indentation error, bcz it is treating print as different statement')"
   ]
  },
  {
   "cell_type": "code",
   "execution_count": 121,
   "id": "b7af5a90",
   "metadata": {},
   "outputs": [
    {
     "name": "stdout",
     "output_type": "stream",
     "text": [
      "statement 1\n",
      "statement 2\n"
     ]
    }
   ],
   "source": [
    "if(a<100):\n",
    "    print('statement 1')\n",
    "    print('statement 2')"
   ]
  },
  {
   "cell_type": "code",
   "execution_count": 122,
   "id": "93ef51b4",
   "metadata": {},
   "outputs": [
    {
     "name": "stdout",
     "output_type": "stream",
     "text": [
      "Enter a number 10\n",
      "a is  10\n"
     ]
    }
   ],
   "source": [
    "a= int(input(\"Enter a number \"))\n",
    "if(a<100): \n",
    "    pass\n",
    "print(\"a is \", a)"
   ]
  },
  {
   "cell_type": "code",
   "execution_count": 124,
   "id": "d00ca918",
   "metadata": {},
   "outputs": [
    {
     "name": "stdout",
     "output_type": "stream",
     "text": [
      "Enter a number 100\n",
      "Number is greater than or equal to 100\n"
     ]
    }
   ],
   "source": [
    "a = int(input(\"Enter a number \"))\n",
    "if a < 100:\n",
    "    print(\"This number is less than 100\")\n",
    "else: \n",
    "    print(\"Number is greater than or equal to 100\")"
   ]
  },
  {
   "cell_type": "code",
   "execution_count": 125,
   "id": "d4ef1d39",
   "metadata": {},
   "outputs": [
    {
     "name": "stdout",
     "output_type": "stream",
     "text": [
      "Enter a number100\n",
      "Number is equal to 100\n"
     ]
    }
   ],
   "source": [
    "a = int(input(\"Enter a number\"))\n",
    "if a < 100: \n",
    "    print(\"Number is less than 100\")\n",
    "elif a> 100: \n",
    "    print(\"Number is greater than 100\")\n",
    "else: \n",
    "    print(\"Number is equal to 100\")\n",
    "    "
   ]
  },
  {
   "cell_type": "code",
   "execution_count": 126,
   "id": "b7ab5f5c",
   "metadata": {},
   "outputs": [
    {
     "name": "stdout",
     "output_type": "stream",
     "text": [
      "Enter a number 105\n",
      "Number is greater than 100\n"
     ]
    }
   ],
   "source": [
    "a = int(input(\"Enter a number \"))\n",
    "if a < 100: \n",
    "    print(\"Number is less than 100\")\n",
    "elif a> 100: \n",
    "    print(\"Number is greater than 100\")\n",
    "else: \n",
    "    print(\"Number is equal to 100\")"
   ]
  },
  {
   "cell_type": "code",
   "execution_count": 127,
   "id": "f5bf0ce4",
   "metadata": {},
   "outputs": [
    {
     "name": "stdout",
     "output_type": "stream",
     "text": [
      "Enter a number 12\n",
      "Number is less than 100\n"
     ]
    }
   ],
   "source": [
    "a = int(input(\"Enter a number \"))\n",
    "if a < 100: \n",
    "    print(\"Number is less than 100\")\n",
    "elif a> 100: \n",
    "    print(\"Number is greater than 100\")\n",
    "else: \n",
    "    print(\"Number is equal to 100\")"
   ]
  },
  {
   "cell_type": "code",
   "execution_count": 128,
   "id": "6ea2756e",
   "metadata": {},
   "outputs": [
    {
     "name": "stdout",
     "output_type": "stream",
     "text": [
      "ENter your Salary 1000\n",
      "You can afford a bike\n"
     ]
    }
   ],
   "source": [
    "salary = int(input(\"ENter your Salary \"))\n",
    "if salary > 1000:\n",
    "    print(\"You can afford a car\")\n",
    "elif salary > 500:\n",
    "    print(\"You can afford a bike\")\n",
    "elif salary > 100:\n",
    "    print(\"You can afford a cycle\")\n",
    "else:\n",
    "    print(\"you can afford a job\")"
   ]
  },
  {
   "cell_type": "code",
   "execution_count": 129,
   "id": "c2de85fc",
   "metadata": {},
   "outputs": [
    {
     "name": "stdout",
     "output_type": "stream",
     "text": [
      "ENter your Salary 1500\n",
      "You can afford a car\n"
     ]
    }
   ],
   "source": [
    "salary = int(input(\"ENter your Salary \"))\n",
    "if salary > 1000:\n",
    "    print(\"You can afford a car\")\n",
    "elif salary > 500:\n",
    "    print(\"You can afford a bike\")\n",
    "elif salary > 100:\n",
    "    print(\"You can afford a cycle\")\n",
    "else:\n",
    "    print(\"you can afford a job\")"
   ]
  },
  {
   "cell_type": "code",
   "execution_count": 131,
   "id": "42687e26",
   "metadata": {},
   "outputs": [
    {
     "name": "stdout",
     "output_type": "stream",
     "text": [
      "ENter your Salary 200\n",
      "You can afford a cycle\n"
     ]
    }
   ],
   "source": [
    "salary = int(input(\"ENter your Salary \"))\n",
    "if salary > 1000:\n",
    "    print(\"You can afford a car\")\n",
    "elif salary > 500:\n",
    "    print(\"You can afford a bike\")\n",
    "elif salary > 100:\n",
    "    print(\"You can afford a cycle\")\n",
    "else:\n",
    "    print(\"you can afford a better job\")"
   ]
  },
  {
   "cell_type": "code",
   "execution_count": 133,
   "id": "9cccde7e",
   "metadata": {},
   "outputs": [
    {
     "name": "stdout",
     "output_type": "stream",
     "text": [
      "ENter your Salary 2\n",
      "you can afford a better job\n"
     ]
    }
   ],
   "source": [
    "salary = int(input(\"ENter your Salary \"))\n",
    "if salary > 1000:\n",
    "    print(\"You can afford a car\")\n",
    "elif salary > 500:\n",
    "    print(\"You can afford a bike\")\n",
    "elif salary > 100:\n",
    "    print(\"You can afford a cycle\")\n",
    "else:\n",
    "    print(\"you can afford a better job\")"
   ]
  },
  {
   "cell_type": "code",
   "execution_count": 134,
   "id": "c3be6c08",
   "metadata": {},
   "outputs": [
    {
     "name": "stdout",
     "output_type": "stream",
     "text": [
      "ENter your Salary 10\n",
      "You can afford a car\n"
     ]
    }
   ],
   "source": [
    "salary = int(input(\"ENter your Salary \"))\n",
    "if salary < 1000:\n",
    "    print(\"You can afford a car\")\n",
    "elif salary < 500:\n",
    "    print(\"You can afford a bike\")\n",
    "elif salary < 100:\n",
    "    print(\"You can afford a cycle\")\n",
    "else:\n",
    "    print(\"you can afford a better job\")"
   ]
  },
  {
   "cell_type": "code",
   "execution_count": 135,
   "id": "71d43b3e",
   "metadata": {},
   "outputs": [
    {
     "name": "stdout",
     "output_type": "stream",
     "text": [
      "ENter your Salary 90\n",
      "You can afford a car\n",
      "You can afford a bike\n",
      "You can afford a cycle\n"
     ]
    }
   ],
   "source": [
    "salary = int(input(\"ENter your Salary \"))\n",
    "if salary < 1000:\n",
    "    print(\"You can afford a car\")\n",
    "if salary < 500:\n",
    "    print(\"You can afford a bike\")\n",
    "if salary < 100:\n",
    "    print(\"You can afford a cycle\")\n",
    "else:\n",
    "    print(\"you can afford a better job\")"
   ]
  },
  {
   "cell_type": "code",
   "execution_count": 136,
   "id": "0cebe3ae",
   "metadata": {},
   "outputs": [
    {
     "name": "stdout",
     "output_type": "stream",
     "text": [
      "ENter your Salary 20\n",
      "You can afford a cycle\n"
     ]
    }
   ],
   "source": [
    "salary = int(input(\"ENter your Salary \"))\n",
    "if salary > 1000:\n",
    "    print(\"You can afford a car\")\n",
    "if salary > 500:\n",
    "    print(\"You can afford a bike\")\n",
    "if salary < 100:\n",
    "    print(\"You can afford a cycle\")\n",
    "else:\n",
    "    print(\"you can afford a better job\")"
   ]
  },
  {
   "cell_type": "code",
   "execution_count": 139,
   "id": "c7bd85f5",
   "metadata": {},
   "outputs": [
    {
     "name": "stdout",
     "output_type": "stream",
     "text": [
      "Enter your salary 6000\n",
      "Enter tax% 10\n",
      "your in hand salary is -  5400\n"
     ]
    }
   ],
   "source": [
    "salary = int(input(\"Enter your salary \"))\n",
    "if salary >= 5000:\n",
    "    tax = int(input(\"Enter tax% \"))\n",
    "    inHandSal = salary - ((tax/100)*salary)\n",
    "    print(\"your in hand salary is - \", int(inHandSal))\n",
    "    \n",
    "else:\n",
    "    print(\"Your in hand salary is- \", salary)"
   ]
  },
  {
   "cell_type": "code",
   "execution_count": 140,
   "id": "71a4583d",
   "metadata": {},
   "outputs": [
    {
     "name": "stdout",
     "output_type": "stream",
     "text": [
      "Enter your salary 1000\n",
      "Your in hand salary is-  1000\n"
     ]
    }
   ],
   "source": [
    "salary = int(input(\"Enter your salary \"))\n",
    "if salary >= 5000:\n",
    "    tax = int(input(\"Enter tax% \"))\n",
    "    inHandSal = salary - ((tax/100)*salary)\n",
    "    print(\"your in hand salary is - \", int(inHandSal))\n",
    "    \n",
    "else:\n",
    "    print(\"Your in hand salary is- \", salary)"
   ]
  },
  {
   "cell_type": "code",
   "execution_count": 1,
   "id": "16c5800e",
   "metadata": {},
   "outputs": [
    {
     "name": "stdout",
     "output_type": "stream",
     "text": [
      "Enter your salary 5000\n",
      "Enter tax% 10\n",
      "your in hand salary is -  4500\n"
     ]
    }
   ],
   "source": [
    "salary = int(input(\"Enter your salary \"))\n",
    "if salary >= 5000:\n",
    "    tax = int(input(\"Enter tax% \"))\n",
    "    inHandSal = salary - ((tax/100)*salary)\n",
    "    print(\"your in hand salary is - \", int(inHandSal))\n",
    "    \n",
    "else:\n",
    "    print(\"Your in hand salary is- \", salary)"
   ]
  },
  {
   "cell_type": "code",
   "execution_count": 2,
   "id": "7700294b",
   "metadata": {},
   "outputs": [
    {
     "name": "stdout",
     "output_type": "stream",
     "text": [
      "Enter your salary- 4000\n",
      "your salary is good\n",
      "I will rent a car\n"
     ]
    }
   ],
   "source": [
    "salary = int(input(\"Enter your salary- \"))\n",
    "if salary > 1000:\n",
    "    print(\"your salary is good\")\n",
    "    if salary > 5000:\n",
    "        print(\"i will go with a nano car\")\n",
    "        if True:\n",
    "            print(\"False code\")\n",
    "    elif salary > 10000:\n",
    "        print(\"I will go with maruti\")\n",
    "    elif salary > 50000:\n",
    "        print(\"I will go with Toyota\")\n",
    "    else: \n",
    "        print(\"I will rent a car\")\n",
    "elif salary > 500:\n",
    "    print(\"I will go for bike\")\n",
    "else: \n",
    "    print(\"I will go for saving\")"
   ]
  },
  {
   "cell_type": "code",
   "execution_count": 3,
   "id": "17d7ed72",
   "metadata": {},
   "outputs": [
    {
     "data": {
      "text/plain": [
       "3"
      ]
     },
     "execution_count": 3,
     "metadata": {},
     "output_type": "execute_result"
    }
   ],
   "source": [
    "1+2"
   ]
  },
  {
   "cell_type": "code",
   "execution_count": 4,
   "id": "fec55001",
   "metadata": {},
   "outputs": [
    {
     "name": "stdout",
     "output_type": "stream",
     "text": [
      "this is inside if statement\n"
     ]
    }
   ],
   "source": [
    "a = 10\n",
    "b = 20\n",
    "\n",
    "if a == 10 and b == 20:\n",
    "    print(\"this is inside if statement\")"
   ]
  },
  {
   "cell_type": "code",
   "execution_count": 15,
   "id": "e4434ef9",
   "metadata": {},
   "outputs": [
    {
     "name": "stdout",
     "output_type": "stream",
     "text": [
      "condition is not valid False\n"
     ]
    }
   ],
   "source": [
    "a = 10\n",
    "b = 20\n",
    "\n",
    "if a == 10 & b == 20:\n",
    "    print(\"this is inside if statement\")\n",
    "else :\n",
    "    print(\"condition is not valid\", a==10 & b==20)"
   ]
  },
  {
   "cell_type": "code",
   "execution_count": 6,
   "id": "0f297acc",
   "metadata": {},
   "outputs": [
    {
     "data": {
      "text/plain": [
       "3"
      ]
     },
     "execution_count": 6,
     "metadata": {},
     "output_type": "execute_result"
    }
   ],
   "source": [
    "1+2"
   ]
  },
  {
   "cell_type": "code",
   "execution_count": 8,
   "id": "6fcfd54b",
   "metadata": {},
   "outputs": [
    {
     "name": "stdout",
     "output_type": "stream",
     "text": [
      "this is inside if statement\n"
     ]
    }
   ],
   "source": [
    "a = 10\n",
    "b = 20\n",
    "\n",
    "if a == 10 and b == 20:\n",
    "    print(\"this is inside if statement\")"
   ]
  },
  {
   "cell_type": "code",
   "execution_count": 9,
   "id": "cf0170df",
   "metadata": {},
   "outputs": [
    {
     "data": {
      "text/plain": [
       "True"
      ]
     },
     "execution_count": 9,
     "metadata": {},
     "output_type": "execute_result"
    }
   ],
   "source": [
    "a == 10 and b == 20"
   ]
  },
  {
   "cell_type": "code",
   "execution_count": 10,
   "id": "b71400b7",
   "metadata": {},
   "outputs": [
    {
     "ename": "SyntaxError",
     "evalue": "invalid syntax (3621348907.py, line 1)",
     "output_type": "error",
     "traceback": [
      "\u001b[1;36m  Cell \u001b[1;32mIn[10], line 1\u001b[1;36m\u001b[0m\n\u001b[1;33m    a == 10 && b == 20\u001b[0m\n\u001b[1;37m             ^\u001b[0m\n\u001b[1;31mSyntaxError\u001b[0m\u001b[1;31m:\u001b[0m invalid syntax\n"
     ]
    }
   ],
   "source": [
    "a == 10 && b == 20"
   ]
  },
  {
   "cell_type": "code",
   "execution_count": 11,
   "id": "77809bd4",
   "metadata": {},
   "outputs": [
    {
     "data": {
      "text/plain": [
       "False"
      ]
     },
     "execution_count": 11,
     "metadata": {},
     "output_type": "execute_result"
    }
   ],
   "source": [
    "a ==10 & b == 20"
   ]
  },
  {
   "cell_type": "code",
   "execution_count": 12,
   "id": "82362751",
   "metadata": {},
   "outputs": [
    {
     "data": {
      "text/plain": [
       "0"
      ]
     },
     "execution_count": 12,
     "metadata": {},
     "output_type": "execute_result"
    }
   ],
   "source": [
    "a & b"
   ]
  },
  {
   "cell_type": "code",
   "execution_count": 16,
   "id": "80bea36a",
   "metadata": {},
   "outputs": [
    {
     "data": {
      "text/plain": [
       "False"
      ]
     },
     "execution_count": 16,
     "metadata": {},
     "output_type": "execute_result"
    }
   ],
   "source": [
    "a==10 | b==20"
   ]
  },
  {
   "cell_type": "code",
   "execution_count": 17,
   "id": "855a6756",
   "metadata": {},
   "outputs": [
    {
     "data": {
      "text/plain": [
       "30"
      ]
     },
     "execution_count": 17,
     "metadata": {},
     "output_type": "execute_result"
    }
   ],
   "source": [
    "a | b"
   ]
  },
  {
   "cell_type": "code",
   "execution_count": 20,
   "id": "69a9393d",
   "metadata": {},
   "outputs": [
    {
     "name": "stdout",
     "output_type": "stream",
     "text": [
      "Enter your first name- shweta\n",
      "ENter your last name- mahapatra\n",
      "Correct Name\n"
     ]
    }
   ],
   "source": [
    "\"\"\"\n",
    "Take input from user as first name and last name and then try to validate of write multiple condition by yourself\n",
    "\"\"\"\n",
    "\n",
    "\n",
    "firstName = input(\"Enter your first name- \")\n",
    "lastName = input(\"ENter your last name- \")\n",
    "if(firstName == 'Shweta' or firstName == 'shweta') or (lastName == 'Mahapatra' or lastName == 'mahapatra'):\n",
    "    print(\"Correct Name\")\n",
    "elif(firstName == 'Shweta' or firstName == 'shweta') and (lastName == 'Mahapatra' or lastName == 'mahapatra'):\n",
    "    print(\"Correct name\")\n",
    "else:\n",
    "    print(\"Please check the spelling or try again with correct name\")"
   ]
  },
  {
   "cell_type": "code",
   "execution_count": 24,
   "id": "318ad8dd",
   "metadata": {},
   "outputs": [
    {
     "name": "stdout",
     "output_type": "stream",
     "text": [
      "Enter your first name- Shruti\n",
      "ENter your last name- Mahapatra\n",
      "Partially Correct Name\n"
     ]
    }
   ],
   "source": [
    "\n",
    "firstName = input(\"Enter your first name- \")\n",
    "lastName = input(\"ENter your last name- \")\n",
    "if(firstName == 'Shweta' or firstName == 'shweta') or (lastName == 'Mahapatra' or lastName == 'mahapatra'):\n",
    "    print(\"Partially Correct Name\")\n",
    "elif(firstName == 'Shweta' or firstName == 'shweta') and (lastName == 'Mahapatra' or lastName == 'mahapatra'):\n",
    "    print(\"Correct name\")\n",
    "else:\n",
    "    print(\"Please check the spelling or try again with correct name\")"
   ]
  },
  {
   "cell_type": "code",
   "execution_count": 3,
   "id": "faa50b7d",
   "metadata": {},
   "outputs": [
    {
     "name": "stdout",
     "output_type": "stream",
     "text": [
      "Speed can be increased\n",
      "Speed can be increased\n",
      "Speed can be increased\n",
      "Speed can be increased\n",
      "Speed can be increased\n",
      "Speed can be increased\n",
      "Speed can be increased\n",
      "Speed can be increased\n",
      "Speed can be increased\n",
      "Speed can be increased\n"
     ]
    }
   ],
   "source": [
    "#While statement\n",
    "\n",
    "initial_speed = 0\n",
    "final_speed = 100\n",
    "while initial_speed < final_speed:\n",
    "    print('Speed can be increased')\n",
    "    initial_speed = initial_speed + 10"
   ]
  },
  {
   "cell_type": "code",
   "execution_count": 4,
   "id": "ade2e355",
   "metadata": {},
   "outputs": [
    {
     "name": "stdout",
     "output_type": "stream",
     "text": [
      "speed\n",
      "speed\n",
      "speed\n",
      "speed\n",
      "speed\n",
      "speed\n",
      "speed\n",
      "speed\n",
      "speed\n"
     ]
    }
   ],
   "source": [
    "initial_speed = 0\n",
    "final_speed = 100\n",
    "count = 1\n",
    "while initial_speed < final_speed:\n",
    "    print(\"speed\")\n",
    "    count = count + 1\n",
    "    if count == 10:\n",
    "        break"
   ]
  },
  {
   "cell_type": "code",
   "execution_count": 5,
   "id": "ed0217ae",
   "metadata": {},
   "outputs": [
    {
     "name": "stdout",
     "output_type": "stream",
     "text": [
      "0\n",
      "1\n",
      "2\n",
      "3\n",
      "4\n"
     ]
    }
   ],
   "source": [
    "i = 0\n",
    "j = 5\n",
    "while i < j:\n",
    "    print(i)\n",
    "    i = i + 1"
   ]
  },
  {
   "cell_type": "code",
   "execution_count": 6,
   "id": "7483f231",
   "metadata": {},
   "outputs": [
    {
     "name": "stdout",
     "output_type": "stream",
     "text": [
      "0\n",
      "1\n",
      "2\n",
      "3\n",
      "4\n",
      "no 10rs notes are available\n"
     ]
    }
   ],
   "source": [
    "notes = 5\n",
    "i = 0\n",
    "while i < notes:\n",
    "    print(i)\n",
    "    i+=1\n",
    "else : \n",
    "    print(\"no 10rs notes are available\")"
   ]
  },
  {
   "cell_type": "code",
   "execution_count": 3,
   "id": "b7ec344b",
   "metadata": {},
   "outputs": [
    {
     "name": "stdout",
     "output_type": "stream",
     "text": [
      "1\n",
      "2\n",
      "3\n",
      "4\n",
      "i in second while 5\n",
      "no 10rs notes are available\n"
     ]
    }
   ],
   "source": [
    "notes = 5\n",
    "i = 1\n",
    "j = 1\n",
    "while i < notes:\n",
    "    print(i)\n",
    "    i+=1\n",
    "else: \n",
    "    while i<7:\n",
    "        print(\"i in second while\", i)\n",
    "        i+=i\n",
    "        j+=j\n",
    "    print(\"no 10rs notes are available\")"
   ]
  },
  {
   "cell_type": "code",
   "execution_count": 4,
   "id": "62d73a38",
   "metadata": {},
   "outputs": [],
   "source": [
    "bacon = 22"
   ]
  },
  {
   "cell_type": "code",
   "execution_count": 5,
   "id": "ca503219",
   "metadata": {},
   "outputs": [
    {
     "data": {
      "text/plain": [
       "22"
      ]
     },
     "execution_count": 5,
     "metadata": {},
     "output_type": "execute_result"
    }
   ],
   "source": [
    "bacon + 1\n",
    "bacon"
   ]
  },
  {
   "cell_type": "code",
   "execution_count": 6,
   "id": "488aee39",
   "metadata": {},
   "outputs": [
    {
     "data": {
      "text/plain": [
       "23"
      ]
     },
     "execution_count": 6,
     "metadata": {},
     "output_type": "execute_result"
    }
   ],
   "source": [
    "bacon = 22\n",
    "bacon + 1"
   ]
  },
  {
   "cell_type": "code",
   "execution_count": 7,
   "id": "4b7b0b7c",
   "metadata": {},
   "outputs": [
    {
     "data": {
      "text/plain": [
       "22"
      ]
     },
     "execution_count": 7,
     "metadata": {},
     "output_type": "execute_result"
    }
   ],
   "source": [
    "bacon"
   ]
  },
  {
   "cell_type": "code",
   "execution_count": 3,
   "id": "5e0238db",
   "metadata": {},
   "outputs": [
    {
     "name": "stdout",
     "output_type": "stream",
     "text": [
      "1\n",
      "2\n",
      "3\n",
      "4\n",
      "i in second while 5\n",
      "no 10rs notes are available\n"
     ]
    }
   ],
   "source": [
    "notes = 5\n",
    "i = 1\n",
    "j = 1\n",
    "while i < notes:\n",
    "    print(i)\n",
    "    i+=1\n",
    "while i<7:\n",
    "        print(\"i in second while\", i)\n",
    "        i+=i\n",
    "        j+=j\n",
    "print(\"no 10rs notes are available\")"
   ]
  },
  {
   "cell_type": "code",
   "execution_count": 8,
   "id": "9f500bf5",
   "metadata": {},
   "outputs": [
    {
     "data": {
      "text/plain": [
       "'s'"
      ]
     },
     "execution_count": 8,
     "metadata": {},
     "output_type": "execute_result"
    }
   ],
   "source": [
    "s = \"shweta\"\n",
    "s[-1]\n",
    "s[0]"
   ]
  },
  {
   "cell_type": "code",
   "execution_count": 10,
   "id": "56766908",
   "metadata": {},
   "outputs": [
    {
     "data": {
      "text/plain": [
       "' '"
      ]
     },
     "execution_count": 10,
     "metadata": {},
     "output_type": "execute_result"
    }
   ],
   "source": [
    "s = 'My name is Shweta'\n",
    "s[2]"
   ]
  },
  {
   "cell_type": "code",
   "execution_count": 11,
   "id": "09f658e7",
   "metadata": {},
   "outputs": [
    {
     "data": {
      "text/plain": [
       "'name '"
      ]
     },
     "execution_count": 11,
     "metadata": {},
     "output_type": "execute_result"
    }
   ],
   "source": [
    "s[3:8]"
   ]
  },
  {
   "cell_type": "code",
   "execution_count": 12,
   "id": "7be06e44",
   "metadata": {},
   "outputs": [
    {
     "data": {
      "text/plain": [
       "'n'"
      ]
     },
     "execution_count": 12,
     "metadata": {},
     "output_type": "execute_result"
    }
   ],
   "source": [
    "s[3:8:10]"
   ]
  },
  {
   "cell_type": "code",
   "execution_count": 25,
   "id": "2f648a22",
   "metadata": {},
   "outputs": [
    {
     "data": {
      "text/plain": [
       "'the last index is the step size i.e it will start from 3rd index and loop till 7th and jump with 2 steps\\ni.e 3 (3+2) (3+2+2)... till 7th\\n'"
      ]
     },
     "execution_count": 25,
     "metadata": {},
     "output_type": "execute_result"
    }
   ],
   "source": [
    "s[3:8:2]\n",
    "#slice step\n",
    "'''the last index is the step size i.e it will start from 3rd index and loop till 7th and jump with 2 steps\n",
    "i.e 3 (3+2) (3+2+2)... till 7th. By default the step size is 1\n",
    "'''"
   ]
  },
  {
   "cell_type": "code",
   "execution_count": 26,
   "id": "03bf9420",
   "metadata": {},
   "outputs": [
    {
     "data": {
      "text/plain": [
       "''"
      ]
     },
     "execution_count": 26,
     "metadata": {},
     "output_type": "execute_result"
    }
   ],
   "source": [
    "s[3:8:-1]"
   ]
  },
  {
   "cell_type": "code",
   "execution_count": 28,
   "id": "82adde2c",
   "metadata": {},
   "outputs": [
    {
     "data": {
      "text/plain": [
       "' si eman'"
      ]
     },
     "execution_count": 28,
     "metadata": {},
     "output_type": "execute_result"
    }
   ],
   "source": [
    "s[10:2:-1]"
   ]
  },
  {
   "cell_type": "code",
   "execution_count": 29,
   "id": "37383ea8",
   "metadata": {},
   "outputs": [
    {
     "data": {
      "text/plain": [
       "'atewhS si eman yM'"
      ]
     },
     "execution_count": 29,
     "metadata": {},
     "output_type": "execute_result"
    }
   ],
   "source": [
    "s[::-1]"
   ]
  },
  {
   "cell_type": "code",
   "execution_count": 15,
   "id": "26259ffe",
   "metadata": {},
   "outputs": [
    {
     "name": "stdout",
     "output_type": "stream",
     "text": [
      "3 name \n",
      "4 ame \n",
      "5 me \n",
      "6 e \n",
      "7  \n"
     ]
    }
   ],
   "source": [
    "s='My name is shweta'\n",
    "length = 8\n",
    "i = 3\n",
    "while(i<length):\n",
    "    print(i,s[i:length])\n",
    "    i+=1\n",
    "    "
   ]
  },
  {
   "cell_type": "code",
   "execution_count": 4,
   "id": "430231c6",
   "metadata": {},
   "outputs": [
    {
     "data": {
      "text/plain": [
       "'My name is Shweta'"
      ]
     },
     "execution_count": 4,
     "metadata": {},
     "output_type": "execute_result"
    }
   ],
   "source": [
    "s"
   ]
  },
  {
   "cell_type": "code",
   "execution_count": 9,
   "id": "24378f83",
   "metadata": {},
   "outputs": [
    {
     "data": {
      "text/plain": [
       "' name is '"
      ]
     },
     "execution_count": 9,
     "metadata": {},
     "output_type": "execute_result"
    }
   ],
   "source": [
    "s[2:-6]"
   ]
  },
  {
   "cell_type": "code",
   "execution_count": 10,
   "id": "5e55921d",
   "metadata": {},
   "outputs": [
    {
     "data": {
      "text/plain": [
       "'My name is Shweta'"
      ]
     },
     "execution_count": 10,
     "metadata": {},
     "output_type": "execute_result"
    }
   ],
   "source": [
    "s"
   ]
  },
  {
   "cell_type": "code",
   "execution_count": 11,
   "id": "6a61c801",
   "metadata": {},
   "outputs": [
    {
     "name": "stdout",
     "output_type": "stream",
     "text": [
      "M\n",
      "y\n",
      " \n",
      "n\n",
      "a\n",
      "m\n",
      "e\n",
      " \n",
      "i\n",
      "s\n",
      " \n",
      "S\n",
      "h\n",
      "w\n",
      "e\n",
      "t\n",
      "a\n"
     ]
    }
   ],
   "source": [
    "for i in s:\n",
    "    print(i)"
   ]
  },
  {
   "cell_type": "code",
   "execution_count": 16,
   "id": "500bd48b",
   "metadata": {},
   "outputs": [
    {
     "name": "stdout",
     "output_type": "stream",
     "text": [
      "M\n",
      "y\n",
      " \n",
      "n\n",
      "a\n",
      "m\n",
      "e\n",
      " \n",
      "i\n",
      "I got s as a string\n",
      "s\n",
      " \n",
      "I got s as a string\n",
      "s\n",
      "h\n",
      "w\n",
      "e\n",
      "t\n",
      "a\n"
     ]
    }
   ],
   "source": [
    "for i in s:\n",
    "    if(i=='s') : \n",
    "        print(\"I got s as a string\")\n",
    "    print(i)"
   ]
  },
  {
   "cell_type": "code",
   "execution_count": 17,
   "id": "7e97bf6b",
   "metadata": {},
   "outputs": [
    {
     "name": "stdout",
     "output_type": "stream",
     "text": [
      "M\n",
      "y\n",
      " \n",
      "n\n",
      "a\n",
      "m\n",
      "e\n",
      " \n",
      "i\n",
      "s\n",
      " \n",
      "s\n",
      "h\n",
      "w\n",
      "e\n",
      "t\n",
      "a\n",
      "this is a else condition\n"
     ]
    }
   ],
   "source": [
    "for i in s:\n",
    "    print(i)\n",
    "    \n",
    "else: \n",
    "    print(\"this is a else condition\")"
   ]
  },
  {
   "cell_type": "code",
   "execution_count": 20,
   "id": "2f64c736",
   "metadata": {},
   "outputs": [
    {
     "name": "stdout",
     "output_type": "stream",
     "text": [
      "M\n",
      "y\n",
      " \n",
      "n\n",
      "a\n",
      "m\n",
      "e\n",
      " \n",
      "i\n",
      "s\n",
      " \n",
      "s\n",
      "h\n",
      "w\n",
      "e\n",
      "t\n",
      "a\n",
      "last character is a\n",
      "this is a else statement\n"
     ]
    }
   ],
   "source": [
    "for i in s:\n",
    "    print(i)\n",
    "else: \n",
    "    if i == 'a':\n",
    "        print(\"last character is\", i)\n",
    "    print(\"this is a else statement\")"
   ]
  },
  {
   "cell_type": "code",
   "execution_count": 21,
   "id": "4e97176d",
   "metadata": {},
   "outputs": [
    {
     "name": "stdout",
     "output_type": "stream",
     "text": [
      "M\n",
      "y\n",
      " \n",
      "n\n",
      "a\n",
      "m\n",
      "e\n",
      " \n",
      "i\n",
      "s\n",
      " \n",
      "s\n",
      "h\n",
      "w\n",
      "e\n",
      "t\n",
      "a\n",
      "last character is a\n",
      "this is a else statement\n"
     ]
    }
   ],
   "source": [
    "for i in s:\n",
    "    print(i)\n",
    "if i == 'a':\n",
    "    print(\"last character is\", i)\n",
    "print(\"this is a else statement\")"
   ]
  },
  {
   "cell_type": "code",
   "execution_count": 24,
   "id": "949993ba",
   "metadata": {},
   "outputs": [
    {
     "name": "stdout",
     "output_type": "stream",
     "text": [
      "M\n",
      "y\n",
      " \n",
      "n\n",
      "a\n",
      "m\n",
      "e\n",
      " \n",
      "i\n"
     ]
    }
   ],
   "source": [
    "for i in s:\n",
    "    if i == 's':\n",
    "        break\n",
    "    print(i)\n",
    "else:\n",
    "    if i == 'a': \n",
    "        print(\"last char was\", i)\n",
    "    print(\"thsi is else condition\")\n",
    "    \n",
    "#else will work only when for will execute completely. here else wont get executed because the loop was broken with break keyword"
   ]
  },
  {
   "cell_type": "code",
   "execution_count": 27,
   "id": "8e1fca1c",
   "metadata": {},
   "outputs": [
    {
     "name": "stdout",
     "output_type": "stream",
     "text": [
      "M\n",
      "y\n",
      " \n",
      "a\n",
      "m\n",
      "e\n",
      " \n",
      "i\n",
      "s\n",
      " \n",
      "s\n",
      "h\n",
      "w\n",
      "e\n",
      "t\n",
      "a\n",
      "last char was a\n",
      "thsi is else condition\n"
     ]
    }
   ],
   "source": [
    "for i in s:\n",
    "    if i == 'n':\n",
    "        continue\n",
    "    print(i)\n",
    "else:\n",
    "    if i == 'a': \n",
    "        print(\"last char was\", i)\n",
    "    print(\"thsi is else condition\")"
   ]
  },
  {
   "cell_type": "code",
   "execution_count": 37,
   "id": "2837820f",
   "metadata": {},
   "outputs": [
    {
     "name": "stdout",
     "output_type": "stream",
     "text": [
      "0\n",
      "1\n",
      "2\n",
      "3\n",
      "4\n",
      "5\n",
      "6\n"
     ]
    },
    {
     "data": {
      "text/plain": [
       "'ieuro'"
      ]
     },
     "execution_count": 37,
     "metadata": {},
     "output_type": "execute_result"
    }
   ],
   "source": [
    "s = 'ineuron'\n",
    "ss= ''\n",
    "for i in range(len(s)):\n",
    "    print(i)\n",
    "    if s[i] == 'n':\n",
    "        continue\n",
    "    else:\n",
    "        ss = ss + s[i]\n",
    "        \n",
    "\n",
    "        \n",
    "ss"
   ]
  },
  {
   "cell_type": "code",
   "execution_count": 30,
   "id": "f0c2f8e6",
   "metadata": {},
   "outputs": [
    {
     "data": {
      "text/plain": [
       "7"
      ]
     },
     "execution_count": 30,
     "metadata": {},
     "output_type": "execute_result"
    }
   ],
   "source": [
    "len(s)\n"
   ]
  },
  {
   "cell_type": "code",
   "execution_count": 31,
   "id": "655cfb62",
   "metadata": {},
   "outputs": [
    {
     "data": {
      "text/plain": [
       "range(0, 7)"
      ]
     },
     "execution_count": 31,
     "metadata": {},
     "output_type": "execute_result"
    }
   ],
   "source": [
    "range(len(s))"
   ]
  },
  {
   "cell_type": "code",
   "execution_count": 32,
   "id": "d40a8b0b",
   "metadata": {},
   "outputs": [
    {
     "data": {
      "text/plain": [
       "range(0, 7)"
      ]
     },
     "execution_count": 32,
     "metadata": {},
     "output_type": "execute_result"
    }
   ],
   "source": [
    "range(7)"
   ]
  },
  {
   "cell_type": "code",
   "execution_count": 33,
   "id": "8be8c2cd",
   "metadata": {},
   "outputs": [],
   "source": [
    "d = range(7)"
   ]
  },
  {
   "cell_type": "code",
   "execution_count": 34,
   "id": "edb2e672",
   "metadata": {},
   "outputs": [
    {
     "data": {
      "text/plain": [
       "range(0, 7)"
      ]
     },
     "execution_count": 34,
     "metadata": {},
     "output_type": "execute_result"
    }
   ],
   "source": [
    "d"
   ]
  },
  {
   "cell_type": "code",
   "execution_count": 41,
   "id": "0aff924c",
   "metadata": {},
   "outputs": [
    {
     "name": "stdout",
     "output_type": "stream",
     "text": [
      "+ \r\n",
      "+ + \r\n",
      "+ + + \r\n",
      "+ + + + \r\n",
      "+ + + + + \r\n",
      "+ + + + + + \r\n",
      "+ + + + + + + \r\n"
     ]
    }
   ],
   "source": [
    "n= 7\n",
    "for i in range(0,n):\n",
    "    for j in range(0, i+1):\n",
    "        print(\"+ \", end = \"\")\n",
    "    print(\"\\r\")\n",
    "    \n",
    "    \n",
    "#range(0,n) = [1,2,3,....,n-1]"
   ]
  },
  {
   "cell_type": "code",
   "execution_count": 1,
   "id": "77787fc6",
   "metadata": {},
   "outputs": [
    {
     "data": {
      "text/plain": [
       "range(7, 0, -1)"
      ]
     },
     "execution_count": 1,
     "metadata": {},
     "output_type": "execute_result"
    }
   ],
   "source": [
    "range(7,0,-1)\n",
    "    "
   ]
  },
  {
   "cell_type": "code",
   "execution_count": 6,
   "id": "01c265b2",
   "metadata": {},
   "outputs": [
    {
     "name": "stdout",
     "output_type": "stream",
     "text": [
      "7\n",
      "6\n",
      "5\n",
      "4\n",
      "3\n",
      "2\n",
      "1\n"
     ]
    }
   ],
   "source": [
    "for i in range (7,0,-1):\n",
    "    print(i)\n"
   ]
  },
  {
   "cell_type": "code",
   "execution_count": 7,
   "id": "273db445",
   "metadata": {},
   "outputs": [
    {
     "name": "stdout",
     "output_type": "stream",
     "text": [
      "  *  *  *  *  *  *  *\r\n",
      "  *  *  *  *  *  *\r\n",
      "  *  *  *  *  *\r\n",
      "  *  *  *  *\r\n",
      "  *  *  *\r\n",
      "  *  *\r\n",
      "  *\r\n"
     ]
    }
   ],
   "source": [
    "for i in range (7,0,-1):\n",
    "    for i in range(i):\n",
    "        print(\" \", \"*\", end= \"\")\n",
    "        \n",
    "    print(\"\\r\")"
   ]
  },
  {
   "cell_type": "code",
   "execution_count": 11,
   "id": "4e12bf2e",
   "metadata": {},
   "outputs": [],
   "source": [
    "l =list()\n",
    "#in python core we dont have array but Lists"
   ]
  },
  {
   "cell_type": "code",
   "execution_count": 12,
   "id": "73a39107",
   "metadata": {},
   "outputs": [],
   "source": [
    "name = \"Shweta\"\n",
    "phno = 84568923\n",
    "addr = \"Sonepur\"\n",
    "\n",
    "name, phno, addr = \"Shweta\", 84568923, \"Sonepur\""
   ]
  },
  {
   "cell_type": "code",
   "execution_count": 9,
   "id": "3cc76f4e",
   "metadata": {},
   "outputs": [],
   "source": [
    "l = [\"Shweta\", 865344934, \"Sonepur\", True, [\"another list\", 8449, 7, 100,False]]"
   ]
  },
  {
   "cell_type": "code",
   "execution_count": 3,
   "id": "9f97835b",
   "metadata": {},
   "outputs": [
    {
     "data": {
      "text/plain": [
       "['Shweta', 865344934, 'Sonepur', True, ['another list', 8449, False]]"
      ]
     },
     "execution_count": 3,
     "metadata": {},
     "output_type": "execute_result"
    }
   ],
   "source": [
    "l"
   ]
  },
  {
   "cell_type": "code",
   "execution_count": 25,
   "id": "635ab364",
   "metadata": {},
   "outputs": [
    {
     "data": {
      "text/plain": [
       "'Shweta'"
      ]
     },
     "execution_count": 25,
     "metadata": {},
     "output_type": "execute_result"
    }
   ],
   "source": [
    "l[0]"
   ]
  },
  {
   "cell_type": "code",
   "execution_count": 26,
   "id": "301dfa05",
   "metadata": {},
   "outputs": [
    {
     "data": {
      "text/plain": [
       "865344934"
      ]
     },
     "execution_count": 26,
     "metadata": {},
     "output_type": "execute_result"
    }
   ],
   "source": [
    "l[1]"
   ]
  },
  {
   "cell_type": "code",
   "execution_count": 27,
   "id": "d8385aef",
   "metadata": {},
   "outputs": [
    {
     "data": {
      "text/plain": [
       "'Sonepur'"
      ]
     },
     "execution_count": 27,
     "metadata": {},
     "output_type": "execute_result"
    }
   ],
   "source": [
    "l[2]"
   ]
  },
  {
   "cell_type": "code",
   "execution_count": 28,
   "id": "075b8d97",
   "metadata": {},
   "outputs": [
    {
     "data": {
      "text/plain": [
       "list"
      ]
     },
     "execution_count": 28,
     "metadata": {},
     "output_type": "execute_result"
    }
   ],
   "source": [
    "type(l)"
   ]
  },
  {
   "cell_type": "code",
   "execution_count": 19,
   "id": "75b621e4",
   "metadata": {},
   "outputs": [],
   "source": [
    "l1 =[]"
   ]
  },
  {
   "cell_type": "code",
   "execution_count": 20,
   "id": "708c4507",
   "metadata": {},
   "outputs": [
    {
     "data": {
      "text/plain": [
       "list"
      ]
     },
     "execution_count": 20,
     "metadata": {},
     "output_type": "execute_result"
    }
   ],
   "source": [
    "type(l1)"
   ]
  },
  {
   "cell_type": "code",
   "execution_count": 30,
   "id": "cedf84e6",
   "metadata": {},
   "outputs": [
    {
     "data": {
      "text/plain": [
       "['Shweta', 865344934, 'Sonepur']"
      ]
     },
     "execution_count": 30,
     "metadata": {},
     "output_type": "execute_result"
    }
   ],
   "source": [
    "list"
   ]
  },
  {
   "cell_type": "code",
   "execution_count": 1,
   "id": "9271a9e3",
   "metadata": {},
   "outputs": [
    {
     "data": {
      "text/plain": [
       "list"
      ]
     },
     "execution_count": 1,
     "metadata": {},
     "output_type": "execute_result"
    }
   ],
   "source": [
    "list\n"
   ]
  },
  {
   "cell_type": "code",
   "execution_count": 3,
   "id": "7062fd02",
   "metadata": {},
   "outputs": [],
   "source": [
    "l2 = list()"
   ]
  },
  {
   "cell_type": "code",
   "execution_count": 4,
   "id": "6d1b02f5",
   "metadata": {},
   "outputs": [
    {
     "data": {
      "text/plain": [
       "list"
      ]
     },
     "execution_count": 4,
     "metadata": {},
     "output_type": "execute_result"
    }
   ],
   "source": [
    "type(l2)"
   ]
  },
  {
   "cell_type": "code",
   "execution_count": 4,
   "id": "54bfbe42",
   "metadata": {},
   "outputs": [
    {
     "data": {
      "text/plain": [
       "['Shweta', 865344934, 'Sonepur', True, ['another list', 8449, False]]"
      ]
     },
     "execution_count": 4,
     "metadata": {},
     "output_type": "execute_result"
    }
   ],
   "source": [
    "  l"
   ]
  },
  {
   "cell_type": "code",
   "execution_count": 5,
   "id": "84126eac",
   "metadata": {},
   "outputs": [
    {
     "name": "stdout",
     "output_type": "stream",
     "text": [
      "<class 'str'>\n",
      "<class 'int'>\n",
      "<class 'str'>\n",
      "<class 'bool'>\n",
      "<class 'list'>\n"
     ]
    }
   ],
   "source": [
    "for i in l:\n",
    "    print (type(i))"
   ]
  },
  {
   "cell_type": "code",
   "execution_count": 6,
   "id": "7741c0f4",
   "metadata": {},
   "outputs": [
    {
     "name": "stdout",
     "output_type": "stream",
     "text": [
      "<class 'str'>\n",
      "<class 'int'>\n",
      "<class 'bool'>\n"
     ]
    }
   ],
   "source": [
    "for i in l:\n",
    "    if type(i) == list:\n",
    "        for j in i :\n",
    "            print(type(j))"
   ]
  },
  {
   "cell_type": "code",
   "execution_count": 11,
   "id": "1e276cb8",
   "metadata": {},
   "outputs": [
    {
     "name": "stdout",
     "output_type": "stream",
     "text": [
      "8556\n"
     ]
    }
   ],
   "source": [
    "n = 0\n",
    "for i in l:\n",
    "    if type(i) == list:\n",
    "        for j in i:\n",
    "            if type(j) == int:\n",
    "                n = n+j\n",
    "print(n)"
   ]
  },
  {
   "cell_type": "code",
   "execution_count": 12,
   "id": "63eab8b2",
   "metadata": {},
   "outputs": [
    {
     "data": {
      "text/plain": [
       "['Shweta', 865344934, 'Sonepur', True, ['another list', 8449, 7, 100, False]]"
      ]
     },
     "execution_count": 12,
     "metadata": {},
     "output_type": "execute_result"
    }
   ],
   "source": [
    "l[0:5]"
   ]
  },
  {
   "cell_type": "code",
   "execution_count": 13,
   "id": "6440fe2c",
   "metadata": {},
   "outputs": [
    {
     "data": {
      "text/plain": [
       "['Shweta', 865344934, 'Sonepur']"
      ]
     },
     "execution_count": 13,
     "metadata": {},
     "output_type": "execute_result"
    }
   ],
   "source": [
    "l[0:3]"
   ]
  },
  {
   "cell_type": "code",
   "execution_count": 16,
   "id": "cbd5d387",
   "metadata": {},
   "outputs": [
    {
     "data": {
      "text/plain": [
       "[]"
      ]
     },
     "execution_count": 16,
     "metadata": {},
     "output_type": "execute_result"
    }
   ],
   "source": [
    "l[80:5:-1]"
   ]
  },
  {
   "cell_type": "code",
   "execution_count": 17,
   "id": "2d42b14b",
   "metadata": {},
   "outputs": [
    {
     "data": {
      "text/plain": [
       "[['another list', 8449, 7, 100, False]]"
      ]
     },
     "execution_count": 17,
     "metadata": {},
     "output_type": "execute_result"
    }
   ],
   "source": [
    "l[5:3:-1]"
   ]
  },
  {
   "cell_type": "code",
   "execution_count": 18,
   "id": "1dc0e657",
   "metadata": {},
   "outputs": [
    {
     "data": {
      "text/plain": [
       "[865344934, 'Sonepur', True]"
      ]
     },
     "execution_count": 18,
     "metadata": {},
     "output_type": "execute_result"
    }
   ],
   "source": [
    "l[1:4]"
   ]
  },
  {
   "cell_type": "code",
   "execution_count": 19,
   "id": "58c8acf6",
   "metadata": {},
   "outputs": [
    {
     "data": {
      "text/plain": [
       "[['another list', 8449, 7, 100, False], True, 'Sonepur']"
      ]
     },
     "execution_count": 19,
     "metadata": {},
     "output_type": "execute_result"
    }
   ],
   "source": [
    "l[4:1:-1]"
   ]
  },
  {
   "cell_type": "code",
   "execution_count": 20,
   "id": "56494a1f",
   "metadata": {},
   "outputs": [
    {
     "data": {
      "text/plain": [
       "['another list', 8449, 7, 100, False]"
      ]
     },
     "execution_count": 20,
     "metadata": {},
     "output_type": "execute_result"
    }
   ],
   "source": [
    "l[4]"
   ]
  },
  {
   "cell_type": "code",
   "execution_count": 21,
   "id": "2f4abe94",
   "metadata": {},
   "outputs": [
    {
     "data": {
      "text/plain": [
       "[['another list', 8449, 7, 100, False], True, 'Sonepur', 865344934]"
      ]
     },
     "execution_count": 21,
     "metadata": {},
     "output_type": "execute_result"
    }
   ],
   "source": [
    "l[4:0:-1]"
   ]
  },
  {
   "cell_type": "code",
   "execution_count": 22,
   "id": "5625dda7",
   "metadata": {},
   "outputs": [
    {
     "data": {
      "text/plain": [
       "[]"
      ]
     },
     "execution_count": 22,
     "metadata": {},
     "output_type": "execute_result"
    }
   ],
   "source": [
    "l[4:-1:-1]"
   ]
  },
  {
   "cell_type": "code",
   "execution_count": 7,
   "id": "95772cab",
   "metadata": {},
   "outputs": [],
   "source": [
    "lst = list(range(10))"
   ]
  },
  {
   "cell_type": "code",
   "execution_count": 8,
   "id": "6e9839d5",
   "metadata": {},
   "outputs": [
    {
     "data": {
      "text/plain": [
       "[0, 1, 2, 3, 4, 5, 6, 7, 8, 9]"
      ]
     },
     "execution_count": 8,
     "metadata": {},
     "output_type": "execute_result"
    }
   ],
   "source": [
    "lst"
   ]
  },
  {
   "cell_type": "code",
   "execution_count": 3,
   "id": "1f4d6ec8",
   "metadata": {},
   "outputs": [],
   "source": [
    "l1 = list()\n"
   ]
  },
  {
   "cell_type": "code",
   "execution_count": 4,
   "id": "3fdfa39f",
   "metadata": {},
   "outputs": [
    {
     "data": {
      "text/plain": [
       "[]"
      ]
     },
     "execution_count": 4,
     "metadata": {},
     "output_type": "execute_result"
    }
   ],
   "source": [
    "l1"
   ]
  },
  {
   "cell_type": "code",
   "execution_count": 5,
   "id": "d4914e94",
   "metadata": {},
   "outputs": [],
   "source": [
    "l1 = list(range(10))"
   ]
  },
  {
   "cell_type": "code",
   "execution_count": 6,
   "id": "c94d4f39",
   "metadata": {},
   "outputs": [
    {
     "data": {
      "text/plain": [
       "[0, 1, 2, 3, 4, 5, 6, 7, 8, 9]"
      ]
     },
     "execution_count": 6,
     "metadata": {},
     "output_type": "execute_result"
    }
   ],
   "source": [
    "l1"
   ]
  },
  {
   "cell_type": "code",
   "execution_count": 9,
   "id": "8a77023f",
   "metadata": {},
   "outputs": [
    {
     "data": {
      "text/plain": [
       "10"
      ]
     },
     "execution_count": 9,
     "metadata": {},
     "output_type": "execute_result"
    }
   ],
   "source": [
    "len(l1)"
   ]
  },
  {
   "cell_type": "code",
   "execution_count": 11,
   "id": "9958ad85",
   "metadata": {},
   "outputs": [
    {
     "data": {
      "text/plain": [
       "[0, 1, 2, 3, 4, 5, 6, 7, 8, 9]"
      ]
     },
     "execution_count": 11,
     "metadata": {},
     "output_type": "execute_result"
    }
   ],
   "source": [
    "l1"
   ]
  },
  {
   "cell_type": "code",
   "execution_count": 12,
   "id": "fac8387e",
   "metadata": {},
   "outputs": [],
   "source": [
    "a = 'shweta'"
   ]
  },
  {
   "cell_type": "code",
   "execution_count": 13,
   "id": "eff2b2b2",
   "metadata": {},
   "outputs": [
    {
     "data": {
      "text/plain": [
       "'shweta'"
      ]
     },
     "execution_count": 13,
     "metadata": {},
     "output_type": "execute_result"
    }
   ],
   "source": [
    "a"
   ]
  },
  {
   "cell_type": "code",
   "execution_count": 16,
   "id": "796239ef",
   "metadata": {},
   "outputs": [
    {
     "ename": "SyntaxError",
     "evalue": "unterminated string literal (detected at line 1) (1635985323.py, line 1)",
     "output_type": "error",
     "traceback": [
      "\u001b[1;36m  Cell \u001b[1;32mIn[16], line 1\u001b[1;36m\u001b[0m\n\u001b[1;33m    a1 = 'this is my first class for full stack data science, I've joined this class today'\u001b[0m\n\u001b[1;37m                                                                                          ^\u001b[0m\n\u001b[1;31mSyntaxError\u001b[0m\u001b[1;31m:\u001b[0m unterminated string literal (detected at line 1)\n"
     ]
    }
   ],
   "source": [
    "a1 = 'this is my first class for full stack data science, I've joined this class today'"
   ]
  },
  {
   "cell_type": "code",
   "execution_count": 19,
   "id": "ccf588c3",
   "metadata": {},
   "outputs": [
    {
     "data": {
      "text/plain": [
       "'this is my first class for full stack data science, I have joined this class today'"
      ]
     },
     "execution_count": 19,
     "metadata": {},
     "output_type": "execute_result"
    }
   ],
   "source": [
    "a1"
   ]
  },
  {
   "cell_type": "code",
   "execution_count": 2,
   "id": "f5dc3cf8",
   "metadata": {},
   "outputs": [],
   "source": [
    "a2 = \"My name is shweta and I've joine this class today\""
   ]
  },
  {
   "cell_type": "code",
   "execution_count": 3,
   "id": "2845fdf7",
   "metadata": {},
   "outputs": [
    {
     "data": {
      "text/plain": [
       "\"My name is shweta and I've joine this class today\""
      ]
     },
     "execution_count": 3,
     "metadata": {},
     "output_type": "execute_result"
    }
   ],
   "source": [
    "a2"
   ]
  },
  {
   "cell_type": "code",
   "execution_count": 4,
   "id": "8eea54c9",
   "metadata": {},
   "outputs": [
    {
     "ename": "IndexError",
     "evalue": "string index out of range",
     "output_type": "error",
     "traceback": [
      "\u001b[1;31m---------------------------------------------------------------------------\u001b[0m",
      "\u001b[1;31mIndexError\u001b[0m                                Traceback (most recent call last)",
      "Cell \u001b[1;32mIn[4], line 1\u001b[0m\n\u001b[1;32m----> 1\u001b[0m \u001b[43ma2\u001b[49m\u001b[43m[\u001b[49m\u001b[38;5;241;43m100\u001b[39;49m\u001b[43m]\u001b[49m\n",
      "\u001b[1;31mIndexError\u001b[0m: string index out of range"
     ]
    }
   ],
   "source": [
    " a2[100]"
   ]
  },
  {
   "cell_type": "code",
   "execution_count": 5,
   "id": "0c118bdd",
   "metadata": {},
   "outputs": [
    {
     "data": {
      "text/plain": [
       "49"
      ]
     },
     "execution_count": 5,
     "metadata": {},
     "output_type": "execute_result"
    }
   ],
   "source": [
    "len(a2)"
   ]
  },
  {
   "cell_type": "code",
   "execution_count": 6,
   "id": "eacf26a1",
   "metadata": {},
   "outputs": [
    {
     "ename": "IndexError",
     "evalue": "string index out of range",
     "output_type": "error",
     "traceback": [
      "\u001b[1;31m---------------------------------------------------------------------------\u001b[0m",
      "\u001b[1;31mIndexError\u001b[0m                                Traceback (most recent call last)",
      "Cell \u001b[1;32mIn[6], line 1\u001b[0m\n\u001b[1;32m----> 1\u001b[0m \u001b[43ma2\u001b[49m\u001b[43m[\u001b[49m\u001b[38;5;241;43m50\u001b[39;49m\u001b[43m]\u001b[49m\n",
      "\u001b[1;31mIndexError\u001b[0m: string index out of range"
     ]
    }
   ],
   "source": [
    "a2[50]"
   ]
  },
  {
   "cell_type": "code",
   "execution_count": 7,
   "id": "993da681",
   "metadata": {},
   "outputs": [
    {
     "ename": "IndexError",
     "evalue": "string index out of range",
     "output_type": "error",
     "traceback": [
      "\u001b[1;31m---------------------------------------------------------------------------\u001b[0m",
      "\u001b[1;31mIndexError\u001b[0m                                Traceback (most recent call last)",
      "Cell \u001b[1;32mIn[7], line 1\u001b[0m\n\u001b[1;32m----> 1\u001b[0m \u001b[43ma2\u001b[49m\u001b[43m[\u001b[49m\u001b[38;5;241;43m49\u001b[39;49m\u001b[43m]\u001b[49m\n",
      "\u001b[1;31mIndexError\u001b[0m: string index out of range"
     ]
    }
   ],
   "source": [
    "a2[49]"
   ]
  },
  {
   "cell_type": "code",
   "execution_count": 8,
   "id": "d62ddf84",
   "metadata": {},
   "outputs": [
    {
     "data": {
      "text/plain": [
       "'y'"
      ]
     },
     "execution_count": 8,
     "metadata": {},
     "output_type": "execute_result"
    }
   ],
   "source": [
    "a2[48]"
   ]
  },
  {
   "cell_type": "code",
   "execution_count": 9,
   "id": "c7d5798b",
   "metadata": {},
   "outputs": [
    {
     "data": {
      "text/plain": [
       "'ame is'"
      ]
     },
     "execution_count": 9,
     "metadata": {},
     "output_type": "execute_result"
    }
   ],
   "source": [
    "a2[4:10]"
   ]
  },
  {
   "cell_type": "code",
   "execution_count": 10,
   "id": "49aa89bd",
   "metadata": {},
   "outputs": [
    {
     "data": {
      "text/plain": [
       "\"ame is shweta and I've joine this class today\""
      ]
     },
     "execution_count": 10,
     "metadata": {},
     "output_type": "execute_result"
    }
   ],
   "source": [
    "a2[4:100]"
   ]
  },
  {
   "cell_type": "code",
   "execution_count": 11,
   "id": "84c536c8",
   "metadata": {},
   "outputs": [
    {
     "data": {
      "text/plain": [
       "'aei heaadIv on hscastdy'"
      ]
     },
     "execution_count": 11,
     "metadata": {},
     "output_type": "execute_result"
    }
   ],
   "source": [
    "a2[4:100:2]"
   ]
  },
  {
   "cell_type": "code",
   "execution_count": 12,
   "id": "1e6893d9",
   "metadata": {},
   "outputs": [
    {
     "data": {
      "text/plain": [
       "''"
      ]
     },
     "execution_count": 12,
     "metadata": {},
     "output_type": "execute_result"
    }
   ],
   "source": [
    "a2[4:100:-1]"
   ]
  },
  {
   "cell_type": "code",
   "execution_count": 13,
   "id": "67934b80",
   "metadata": {},
   "outputs": [
    {
     "data": {
      "text/plain": [
       "\"My name is shweta and I've joine this class today\""
      ]
     },
     "execution_count": 13,
     "metadata": {},
     "output_type": "execute_result"
    }
   ],
   "source": [
    "a2"
   ]
  },
  {
   "cell_type": "code",
   "execution_count": 15,
   "id": "a534dc01",
   "metadata": {},
   "outputs": [
    {
     "name": "stdout",
     "output_type": "stream",
     "text": [
      "M\n",
      "y\n",
      " \n",
      "n\n",
      "a\n",
      "m\n",
      "e\n",
      " \n",
      "i\n",
      "s\n",
      " \n",
      "s\n",
      "h\n",
      "w\n",
      "e\n",
      "t\n",
      "a\n",
      " \n",
      "a\n",
      "n\n",
      "d\n",
      " \n",
      "I\n",
      "'\n",
      "v\n",
      "e\n",
      " \n",
      "j\n",
      "o\n",
      "i\n",
      "n\n",
      "e\n",
      " \n",
      "t\n",
      "h\n",
      "i\n",
      "s\n",
      " \n",
      "c\n",
      "l\n",
      "a\n",
      "s\n",
      "s\n",
      " \n",
      "t\n",
      "o\n",
      "d\n",
      "a\n",
      "y\n"
     ]
    }
   ],
   "source": [
    "for i in a2:\n",
    "    print(i)"
   ]
  },
  {
   "cell_type": "code",
   "execution_count": 18,
   "id": "628e7c93",
   "metadata": {},
   "outputs": [
    {
     "name": "stdout",
     "output_type": "stream",
     "text": [
      "M\n",
      "y\n",
      " \n",
      "n\n",
      "a\n",
      "m\n",
      "e\n",
      " \n",
      "i\n",
      "s\n",
      " \n",
      "s\n",
      "h\n",
      "w\n",
      "e\n",
      "t\n",
      "a\n",
      " \n",
      "a\n",
      "n\n",
      "d\n",
      " \n",
      "I\n",
      "'\n",
      "v\n",
      "e\n",
      " \n",
      "j\n",
      "o\n",
      "i\n",
      "n\n",
      "e\n",
      " \n",
      "t\n",
      "h\n",
      "i\n",
      "s\n",
      " \n",
      "c\n",
      "l\n",
      "a\n",
      "s\n",
      "s\n",
      " \n",
      "t\n",
      "o\n",
      "d\n",
      "a\n",
      "y\n"
     ]
    }
   ],
   "source": [
    "for i in range(len(a2)):\n",
    "    print (a2[i])"
   ]
  },
  {
   "cell_type": "code",
   "execution_count": 19,
   "id": "e37d1762",
   "metadata": {},
   "outputs": [
    {
     "data": {
      "text/plain": [
       "\"My name is shweta and I've joine this class today\""
      ]
     },
     "execution_count": 19,
     "metadata": {},
     "output_type": "execute_result"
    }
   ],
   "source": [
    "a2[::1]"
   ]
  },
  {
   "cell_type": "code",
   "execution_count": 20,
   "id": "0f7a2c1d",
   "metadata": {},
   "outputs": [
    {
     "data": {
      "text/plain": [
       "\"yadot ssalc siht enioj ev'I dna atewhs si eman yM\""
      ]
     },
     "execution_count": 20,
     "metadata": {},
     "output_type": "execute_result"
    }
   ],
   "source": [
    "a2[::-1]"
   ]
  },
  {
   "cell_type": "code",
   "execution_count": 21,
   "id": "54f38c2e",
   "metadata": {},
   "outputs": [
    {
     "data": {
      "text/plain": [
       "\"My name is shweta and I've joine this class today\""
      ]
     },
     "execution_count": 21,
     "metadata": {},
     "output_type": "execute_result"
    }
   ],
   "source": [
    "a2[::]"
   ]
  },
  {
   "cell_type": "code",
   "execution_count": 22,
   "id": "4dca0ea6",
   "metadata": {},
   "outputs": [
    {
     "ename": "TypeError",
     "evalue": "'str' object does not support item assignment",
     "output_type": "error",
     "traceback": [
      "\u001b[1;31m---------------------------------------------------------------------------\u001b[0m",
      "\u001b[1;31mTypeError\u001b[0m                                 Traceback (most recent call last)",
      "Cell \u001b[1;32mIn[22], line 1\u001b[0m\n\u001b[1;32m----> 1\u001b[0m a2[\u001b[38;5;241m0\u001b[39m] \u001b[38;5;241m=\u001b[39m \u001b[38;5;124m\"\u001b[39m\u001b[38;5;124mx\u001b[39m\u001b[38;5;124m\"\u001b[39m\n",
      "\u001b[1;31mTypeError\u001b[0m: 'str' object does not support item assignment"
     ]
    }
   ],
   "source": [
    "a2[0] = \"x\""
   ]
  },
  {
   "cell_type": "code",
   "execution_count": 23,
   "id": "074744cc",
   "metadata": {},
   "outputs": [],
   "source": [
    "l = [\"shweta\", 3458,85.586, True]"
   ]
  },
  {
   "cell_type": "code",
   "execution_count": 24,
   "id": "38b5d9c3",
   "metadata": {},
   "outputs": [
    {
     "data": {
      "text/plain": [
       "'shweta'"
      ]
     },
     "execution_count": 24,
     "metadata": {},
     "output_type": "execute_result"
    }
   ],
   "source": [
    "l[0]"
   ]
  },
  {
   "cell_type": "code",
   "execution_count": 25,
   "id": "ad9f73a7",
   "metadata": {},
   "outputs": [],
   "source": [
    "l[0] = \"Arnab\""
   ]
  },
  {
   "cell_type": "code",
   "execution_count": 27,
   "id": "fc44b9fd",
   "metadata": {},
   "outputs": [
    {
     "data": {
      "text/plain": [
       "['Arnab', 3458, 85.586, True]"
      ]
     },
     "execution_count": 27,
     "metadata": {},
     "output_type": "execute_result"
    }
   ],
   "source": [
    "l"
   ]
  },
  {
   "cell_type": "code",
   "execution_count": 28,
   "id": "1e0b91ed",
   "metadata": {},
   "outputs": [],
   "source": [
    "s = 'my name is'"
   ]
  },
  {
   "cell_type": "code",
   "execution_count": 29,
   "id": "98556fdb",
   "metadata": {},
   "outputs": [
    {
     "data": {
      "text/plain": [
       "3"
      ]
     },
     "execution_count": 29,
     "metadata": {},
     "output_type": "execute_result"
    }
   ],
   "source": [
    "s.find(\"name\")"
   ]
  },
  {
   "cell_type": "code",
   "execution_count": 30,
   "id": "576744a8",
   "metadata": {},
   "outputs": [
    {
     "data": {
      "text/plain": [
       "-1"
      ]
     },
     "execution_count": 30,
     "metadata": {},
     "output_type": "execute_result"
    }
   ],
   "source": [
    "s.find('x')"
   ]
  },
  {
   "cell_type": "code",
   "execution_count": 31,
   "id": "853ac44e",
   "metadata": {},
   "outputs": [
    {
     "data": {
      "text/plain": [
       "0"
      ]
     },
     "execution_count": 31,
     "metadata": {},
     "output_type": "execute_result"
    }
   ],
   "source": [
    "s.find(\"my\")"
   ]
  },
  {
   "cell_type": "code",
   "execution_count": 32,
   "id": "f6765973",
   "metadata": {},
   "outputs": [
    {
     "ename": "TypeError",
     "evalue": "must be str, not int",
     "output_type": "error",
     "traceback": [
      "\u001b[1;31m---------------------------------------------------------------------------\u001b[0m",
      "\u001b[1;31mTypeError\u001b[0m                                 Traceback (most recent call last)",
      "Cell \u001b[1;32mIn[32], line 1\u001b[0m\n\u001b[1;32m----> 1\u001b[0m \u001b[43ms\u001b[49m\u001b[38;5;241;43m.\u001b[39;49m\u001b[43mfind\u001b[49m\u001b[43m(\u001b[49m\u001b[38;5;241;43m0\u001b[39;49m\u001b[43m)\u001b[49m\n",
      "\u001b[1;31mTypeError\u001b[0m: must be str, not int"
     ]
    }
   ],
   "source": [
    "s.find(0)"
   ]
  },
  {
   "cell_type": "code",
   "execution_count": 33,
   "id": "571516e4",
   "metadata": {},
   "outputs": [
    {
     "ename": "NameError",
     "evalue": "name 'jhdgj' is not defined",
     "output_type": "error",
     "traceback": [
      "\u001b[1;31m---------------------------------------------------------------------------\u001b[0m",
      "\u001b[1;31mNameError\u001b[0m                                 Traceback (most recent call last)",
      "Cell \u001b[1;32mIn[33], line 1\u001b[0m\n\u001b[1;32m----> 1\u001b[0m s\u001b[38;5;241m.\u001b[39mfind(\u001b[43mjhdgj\u001b[49m)\n",
      "\u001b[1;31mNameError\u001b[0m: name 'jhdgj' is not defined"
     ]
    }
   ],
   "source": [
    "s.find(jhdgj)"
   ]
  },
  {
   "cell_type": "code",
   "execution_count": 34,
   "id": "4671d53f",
   "metadata": {},
   "outputs": [
    {
     "data": {
      "text/plain": [
       "3"
      ]
     },
     "execution_count": 34,
     "metadata": {},
     "output_type": "execute_result"
    }
   ],
   "source": [
    "s.find(\"n\")"
   ]
  },
  {
   "cell_type": "code",
   "execution_count": 35,
   "id": "8b271146",
   "metadata": {},
   "outputs": [
    {
     "name": "stdout",
     "output_type": "stream",
     "text": [
      "3\n",
      "4\n",
      "5\n",
      "6\n"
     ]
    }
   ],
   "source": [
    "b = s.find(\"name\")\n",
    "for i in range(len(\"name\")):\n",
    "    print(b + i)"
   ]
  },
  {
   "cell_type": "code",
   "execution_count": 36,
   "id": "ce31cbbe",
   "metadata": {},
   "outputs": [
    {
     "data": {
      "text/plain": [
       "'my name is'"
      ]
     },
     "execution_count": 36,
     "metadata": {},
     "output_type": "execute_result"
    }
   ],
   "source": [
    "s"
   ]
  },
  {
   "cell_type": "code",
   "execution_count": 37,
   "id": "5d3abb7f",
   "metadata": {},
   "outputs": [
    {
     "data": {
      "text/plain": [
       "2"
      ]
     },
     "execution_count": 37,
     "metadata": {},
     "output_type": "execute_result"
    }
   ],
   "source": [
    "s.count(\"m\")"
   ]
  },
  {
   "cell_type": "code",
   "execution_count": 38,
   "id": "fef454c0",
   "metadata": {},
   "outputs": [
    {
     "data": {
      "text/plain": [
       "['my', 'name', 'is']"
      ]
     },
     "execution_count": 38,
     "metadata": {},
     "output_type": "execute_result"
    }
   ],
   "source": [
    "s.split()"
   ]
  },
  {
   "cell_type": "code",
   "execution_count": 3,
   "id": "5a0870aa",
   "metadata": {},
   "outputs": [],
   "source": [
    "s=\"my name is shweta, i like watching cricket\""
   ]
  },
  {
   "cell_type": "code",
   "execution_count": 40,
   "id": "9a1e6381",
   "metadata": {},
   "outputs": [
    {
     "data": {
      "text/plain": [
       "['my name is shweta', ' i like watching cricket']"
      ]
     },
     "execution_count": 40,
     "metadata": {},
     "output_type": "execute_result"
    }
   ],
   "source": [
    "s.split(',')"
   ]
  },
  {
   "cell_type": "code",
   "execution_count": 41,
   "id": "65a850f5",
   "metadata": {},
   "outputs": [
    {
     "data": {
      "text/plain": [
       "['my ', 'ame is shweta, i like watchi', 'g cricket']"
      ]
     },
     "execution_count": 41,
     "metadata": {},
     "output_type": "execute_result"
    }
   ],
   "source": [
    "s.split('n')"
   ]
  },
  {
   "cell_type": "code",
   "execution_count": 42,
   "id": "f979d642",
   "metadata": {},
   "outputs": [
    {
     "data": {
      "text/plain": [
       "'MY NAME IS SHWETA, I LIKE WATCHING CRICKET'"
      ]
     },
     "execution_count": 42,
     "metadata": {},
     "output_type": "execute_result"
    }
   ],
   "source": [
    "s.upper()"
   ]
  },
  {
   "cell_type": "code",
   "execution_count": 43,
   "id": "193d31b1",
   "metadata": {},
   "outputs": [
    {
     "data": {
      "text/plain": [
       "'my name is shweta, i like watching cricket'"
      ]
     },
     "execution_count": 43,
     "metadata": {},
     "output_type": "execute_result"
    }
   ],
   "source": [
    "s.lower()"
   ]
  },
  {
   "cell_type": "code",
   "execution_count": 44,
   "id": "3c50de7e",
   "metadata": {},
   "outputs": [
    {
     "data": {
      "text/plain": [
       "'MY NAME IS SHWETA, I LIKE WATCHING CRICKET'"
      ]
     },
     "execution_count": 44,
     "metadata": {},
     "output_type": "execute_result"
    }
   ],
   "source": [
    "s.upper()"
   ]
  },
  {
   "cell_type": "code",
   "execution_count": 4,
   "id": "14c737bd",
   "metadata": {},
   "outputs": [
    {
     "data": {
      "text/plain": [
       "'my name is shweta, i like watching cricket'"
      ]
     },
     "execution_count": 4,
     "metadata": {},
     "output_type": "execute_result"
    }
   ],
   "source": [
    "s"
   ]
  },
  {
   "cell_type": "code",
   "execution_count": 46,
   "id": "966a679a",
   "metadata": {},
   "outputs": [],
   "source": [
    "s = 'My name is Shweta, I like watching Cricket'"
   ]
  },
  {
   "cell_type": "code",
   "execution_count": 47,
   "id": "f1477e7f",
   "metadata": {},
   "outputs": [
    {
     "data": {
      "text/plain": [
       "'My name is Shweta, I like watching Cricket'"
      ]
     },
     "execution_count": 47,
     "metadata": {},
     "output_type": "execute_result"
    }
   ],
   "source": [
    "s"
   ]
  },
  {
   "cell_type": "code",
   "execution_count": 48,
   "id": "363fb280",
   "metadata": {},
   "outputs": [
    {
     "data": {
      "text/plain": [
       "'mY NAME IS sHWETA, i LIKE WATCHING cRICKET'"
      ]
     },
     "execution_count": 48,
     "metadata": {},
     "output_type": "execute_result"
    }
   ],
   "source": [
    "s.swapcase()"
   ]
  },
  {
   "cell_type": "code",
   "execution_count": 49,
   "id": "b79a8d69",
   "metadata": {},
   "outputs": [
    {
     "data": {
      "text/plain": [
       "'M y   n a m e   i s   S h w e t a ,   I   l i k e   w a t c h i n g   C r i c k e t'"
      ]
     },
     "execution_count": 49,
     "metadata": {},
     "output_type": "execute_result"
    }
   ],
   "source": [
    "\" \".join(s)"
   ]
  },
  {
   "cell_type": "code",
   "execution_count": 50,
   "id": "e809c5ab",
   "metadata": {},
   "outputs": [
    {
     "data": {
      "text/plain": [
       "'M*y* *n*a*m*e* *i*s* *S*h*w*e*t*a*,* *I* *l*i*k*e* *w*a*t*c*h*i*n*g* *C*r*i*c*k*e*t'"
      ]
     },
     "execution_count": 50,
     "metadata": {},
     "output_type": "execute_result"
    }
   ],
   "source": [
    "\"*\".join(s)"
   ]
  },
  {
   "cell_type": "code",
   "execution_count": 51,
   "id": "dd7bf18c",
   "metadata": {},
   "outputs": [
    {
     "data": {
      "text/plain": [
       "' '"
      ]
     },
     "execution_count": 51,
     "metadata": {},
     "output_type": "execute_result"
    }
   ],
   "source": [
    "s.join(\" \")"
   ]
  },
  {
   "cell_type": "code",
   "execution_count": 52,
   "id": "e7072383",
   "metadata": {},
   "outputs": [
    {
     "data": {
      "text/plain": [
       "<reversed at 0x174d113caf0>"
      ]
     },
     "execution_count": 52,
     "metadata": {},
     "output_type": "execute_result"
    }
   ],
   "source": [
    "reversed(s)"
   ]
  },
  {
   "cell_type": "code",
   "execution_count": 53,
   "id": "905bcaca",
   "metadata": {},
   "outputs": [
    {
     "data": {
      "text/plain": [
       "['t',\n",
       " 'e',\n",
       " 'k',\n",
       " 'c',\n",
       " 'i',\n",
       " 'r',\n",
       " 'C',\n",
       " ' ',\n",
       " 'g',\n",
       " 'n',\n",
       " 'i',\n",
       " 'h',\n",
       " 'c',\n",
       " 't',\n",
       " 'a',\n",
       " 'w',\n",
       " ' ',\n",
       " 'e',\n",
       " 'k',\n",
       " 'i',\n",
       " 'l',\n",
       " ' ',\n",
       " 'I',\n",
       " ' ',\n",
       " ',',\n",
       " 'a',\n",
       " 't',\n",
       " 'e',\n",
       " 'w',\n",
       " 'h',\n",
       " 'S',\n",
       " ' ',\n",
       " 's',\n",
       " 'i',\n",
       " ' ',\n",
       " 'e',\n",
       " 'm',\n",
       " 'a',\n",
       " 'n',\n",
       " ' ',\n",
       " 'y',\n",
       " 'M']"
      ]
     },
     "execution_count": 53,
     "metadata": {},
     "output_type": "execute_result"
    }
   ],
   "source": [
    "list(reversed(s))"
   ]
  },
  {
   "cell_type": "code",
   "execution_count": 54,
   "id": "68cf8ec5",
   "metadata": {},
   "outputs": [
    {
     "data": {
      "text/plain": [
       "'My name is Shweta, I like watching Cricket'"
      ]
     },
     "execution_count": 54,
     "metadata": {},
     "output_type": "execute_result"
    }
   ],
   "source": [
    "s.strip()"
   ]
  },
  {
   "cell_type": "code",
   "execution_count": 55,
   "id": "6dd9b0fb",
   "metadata": {},
   "outputs": [],
   "source": [
    "s1= '       shweta     '"
   ]
  },
  {
   "cell_type": "code",
   "execution_count": 56,
   "id": "efbfcb01",
   "metadata": {},
   "outputs": [
    {
     "data": {
      "text/plain": [
       "'       shweta     '"
      ]
     },
     "execution_count": 56,
     "metadata": {},
     "output_type": "execute_result"
    }
   ],
   "source": [
    "s1"
   ]
  },
  {
   "cell_type": "code",
   "execution_count": 57,
   "id": "17917891",
   "metadata": {},
   "outputs": [
    {
     "data": {
      "text/plain": [
       "'shweta'"
      ]
     },
     "execution_count": 57,
     "metadata": {},
     "output_type": "execute_result"
    }
   ],
   "source": [
    "s1.strip()"
   ]
  },
  {
   "cell_type": "code",
   "execution_count": 58,
   "id": "2fc2a182",
   "metadata": {},
   "outputs": [
    {
     "data": {
      "text/plain": [
       "'shweta     '"
      ]
     },
     "execution_count": 58,
     "metadata": {},
     "output_type": "execute_result"
    }
   ],
   "source": [
    "s1.lstrip()"
   ]
  },
  {
   "cell_type": "code",
   "execution_count": 60,
   "id": "576ee1b1",
   "metadata": {},
   "outputs": [
    {
     "data": {
      "text/plain": [
       "'       shweta'"
      ]
     },
     "execution_count": 60,
     "metadata": {},
     "output_type": "execute_result"
    }
   ],
   "source": [
    "s1.rstrip()"
   ]
  },
  {
   "cell_type": "code",
   "execution_count": 61,
   "id": "310869d2",
   "metadata": {},
   "outputs": [
    {
     "ename": "TypeError",
     "evalue": "str.removesuffix() takes exactly one argument (0 given)",
     "output_type": "error",
     "traceback": [
      "\u001b[1;31m---------------------------------------------------------------------------\u001b[0m",
      "\u001b[1;31mTypeError\u001b[0m                                 Traceback (most recent call last)",
      "Cell \u001b[1;32mIn[61], line 1\u001b[0m\n\u001b[1;32m----> 1\u001b[0m \u001b[43ms1\u001b[49m\u001b[38;5;241;43m.\u001b[39;49m\u001b[43mremovesuffix\u001b[49m\u001b[43m(\u001b[49m\u001b[43m)\u001b[49m\n",
      "\u001b[1;31mTypeError\u001b[0m: str.removesuffix() takes exactly one argument (0 given)"
     ]
    }
   ],
   "source": [
    "s1.removesuffix()"
   ]
  },
  {
   "cell_type": "code",
   "execution_count": 62,
   "id": "3b25d7c4",
   "metadata": {},
   "outputs": [
    {
     "ename": "TypeError",
     "evalue": "removeprefix() argument must be str, not int",
     "output_type": "error",
     "traceback": [
      "\u001b[1;31m---------------------------------------------------------------------------\u001b[0m",
      "\u001b[1;31mTypeError\u001b[0m                                 Traceback (most recent call last)",
      "Cell \u001b[1;32mIn[62], line 1\u001b[0m\n\u001b[1;32m----> 1\u001b[0m \u001b[43ms1\u001b[49m\u001b[38;5;241;43m.\u001b[39;49m\u001b[43mremoveprefix\u001b[49m\u001b[43m(\u001b[49m\u001b[38;5;241;43m0\u001b[39;49m\u001b[43m)\u001b[49m\n",
      "\u001b[1;31mTypeError\u001b[0m: removeprefix() argument must be str, not int"
     ]
    }
   ],
   "source": [
    "s1.removeprefix(0)"
   ]
  },
  {
   "cell_type": "code",
   "execution_count": 9,
   "id": "e3e13f23",
   "metadata": {},
   "outputs": [
    {
     "data": {
      "text/plain": [
       "'my name is arnab, i hate watching cricket'"
      ]
     },
     "execution_count": 9,
     "metadata": {},
     "output_type": "execute_result"
    }
   ],
   "source": [
    "s.replace(\"shweta\", \"arnab\").replace(\"like\", \"hate\")"
   ]
  },
  {
   "cell_type": "code",
   "execution_count": 10,
   "id": "195beb3f",
   "metadata": {},
   "outputs": [
    {
     "data": {
      "text/plain": [
       "'my name is shweta, i like watching cricket'"
      ]
     },
     "execution_count": 10,
     "metadata": {},
     "output_type": "execute_result"
    }
   ],
   "source": [
    "s"
   ]
  },
  {
   "cell_type": "code",
   "execution_count": 20,
   "id": "fc8a0619",
   "metadata": {},
   "outputs": [],
   "source": [
    "m = 'shwetaaa'"
   ]
  },
  {
   "cell_type": "code",
   "execution_count": 12,
   "id": "191e1e71",
   "metadata": {},
   "outputs": [
    {
     "data": {
      "text/plain": [
       "'shweta'"
      ]
     },
     "execution_count": 12,
     "metadata": {},
     "output_type": "execute_result"
    }
   ],
   "source": [
    "m"
   ]
  },
  {
   "cell_type": "code",
   "execution_count": 13,
   "id": "6cef40ec",
   "metadata": {},
   "outputs": [
    {
     "data": {
      "text/plain": [
       "'@@@@@@@@@shweta@@@@@@@@'"
      ]
     },
     "execution_count": 13,
     "metadata": {},
     "output_type": "execute_result"
    }
   ],
   "source": [
    "m.center(23,'@')"
   ]
  },
  {
   "cell_type": "code",
   "execution_count": 14,
   "id": "fb862219",
   "metadata": {},
   "outputs": [
    {
     "data": {
      "text/plain": [
       "'shweta'"
      ]
     },
     "execution_count": 14,
     "metadata": {},
     "output_type": "execute_result"
    }
   ],
   "source": [
    "m.center(4,\"@\")"
   ]
  },
  {
   "cell_type": "code",
   "execution_count": 15,
   "id": "71cb595d",
   "metadata": {},
   "outputs": [
    {
     "data": {
      "text/plain": [
       "'shweta'"
      ]
     },
     "execution_count": 15,
     "metadata": {},
     "output_type": "execute_result"
    }
   ],
   "source": [
    "m.center(3,\"@\")"
   ]
  },
  {
   "cell_type": "code",
   "execution_count": 19,
   "id": "9748c594",
   "metadata": {},
   "outputs": [
    {
     "data": {
      "text/plain": [
       "'@@@shweta@@'"
      ]
     },
     "execution_count": 19,
     "metadata": {},
     "output_type": "execute_result"
    }
   ],
   "source": [
    "m.center(11,\"@\")"
   ]
  },
  {
   "cell_type": "code",
   "execution_count": 21,
   "id": "d8a0751b",
   "metadata": {},
   "outputs": [
    {
     "data": {
      "text/plain": [
       "'shweteee'"
      ]
     },
     "execution_count": 21,
     "metadata": {},
     "output_type": "execute_result"
    }
   ],
   "source": [
    "m.replace(\"a\", \"e\")"
   ]
  },
  {
   "cell_type": "code",
   "execution_count": 22,
   "id": "5865a130",
   "metadata": {},
   "outputs": [
    {
     "data": {
      "text/plain": [
       "'shwetaaa'"
      ]
     },
     "execution_count": 22,
     "metadata": {},
     "output_type": "execute_result"
    }
   ],
   "source": [
    "m"
   ]
  },
  {
   "cell_type": "code",
   "execution_count": 23,
   "id": "9974c958",
   "metadata": {},
   "outputs": [],
   "source": [
    " m = 'shweta'"
   ]
  },
  {
   "cell_type": "code",
   "execution_count": 24,
   "id": "e7c928dc",
   "metadata": {},
   "outputs": [
    {
     "ename": "TypeError",
     "evalue": "The fill character must be exactly one character long",
     "output_type": "error",
     "traceback": [
      "\u001b[1;31m---------------------------------------------------------------------------\u001b[0m",
      "\u001b[1;31mTypeError\u001b[0m                                 Traceback (most recent call last)",
      "Cell \u001b[1;32mIn[24], line 1\u001b[0m\n\u001b[1;32m----> 1\u001b[0m \u001b[43mm\u001b[49m\u001b[38;5;241;43m.\u001b[39;49m\u001b[43mcenter\u001b[49m\u001b[43m(\u001b[49m\u001b[38;5;241;43m10\u001b[39;49m\u001b[43m,\u001b[49m\u001b[38;5;124;43m\"\u001b[39;49m\u001b[38;5;124;43mty\u001b[39;49m\u001b[38;5;124;43m\"\u001b[39;49m\u001b[43m)\u001b[49m\n",
      "\u001b[1;31mTypeError\u001b[0m: The fill character must be exactly one character long"
     ]
    }
   ],
   "source": [
    "m.center(10,\"ty\")"
   ]
  },
  {
   "cell_type": "code",
   "execution_count": 26,
   "id": "03cdd309",
   "metadata": {},
   "outputs": [
    {
     "data": {
      "text/plain": [
       "'ttshwetatt'"
      ]
     },
     "execution_count": 26,
     "metadata": {},
     "output_type": "execute_result"
    }
   ],
   "source": [
    "m.center(10,\"t\")"
   ]
  },
  {
   "cell_type": "code",
   "execution_count": 27,
   "id": "39cfe5df",
   "metadata": {},
   "outputs": [
    {
     "data": {
      "text/plain": [
       "'shweta'"
      ]
     },
     "execution_count": 27,
     "metadata": {},
     "output_type": "execute_result"
    }
   ],
   "source": [
    "m"
   ]
  },
  {
   "cell_type": "code",
   "execution_count": 28,
   "id": "e33a1606",
   "metadata": {},
   "outputs": [],
   "source": [
    "m= \"shweta\\tmahapatra\""
   ]
  },
  {
   "cell_type": "code",
   "execution_count": 29,
   "id": "a426e685",
   "metadata": {},
   "outputs": [
    {
     "data": {
      "text/plain": [
       "'shweta\\tmahapatra'"
      ]
     },
     "execution_count": 29,
     "metadata": {},
     "output_type": "execute_result"
    }
   ],
   "source": [
    "m"
   ]
  },
  {
   "cell_type": "code",
   "execution_count": 31,
   "id": "550459b0",
   "metadata": {},
   "outputs": [
    {
     "data": {
      "text/plain": [
       "'shweta  mahapatra'"
      ]
     },
     "execution_count": 31,
     "metadata": {},
     "output_type": "execute_result"
    }
   ],
   "source": [
    "m.expandtabs()"
   ]
  },
  {
   "cell_type": "code",
   "execution_count": 32,
   "id": "b0d1b23f",
   "metadata": {},
   "outputs": [
    {
     "data": {
      "text/plain": [
       "'we all are a part of full stack'"
      ]
     },
     "execution_count": 32,
     "metadata": {},
     "output_type": "execute_result"
    }
   ],
   "source": [
    "#take a string a = \"we all are a part of full stack\"\n",
    "#Normalize all the string in lowercase\n",
    "#find number of occurances of a in entire data\n",
    "#Find all the location/index of a in string\n",
    "#replace all the a with ineuraon\n",
    "#print all the word as a list\n",
    "\n",
    "a = \"We all are a part of Full Stack\"\n",
    "a.lower()"
   ]
  },
  {
   "cell_type": "code",
   "execution_count": 34,
   "id": "17d62e9c",
   "metadata": {},
   "outputs": [
    {
     "data": {
      "text/plain": [
       "5"
      ]
     },
     "execution_count": 34,
     "metadata": {},
     "output_type": "execute_result"
    }
   ],
   "source": [
    "a.count(\"a\")"
   ]
  },
  {
   "cell_type": "code",
   "execution_count": 35,
   "id": "febefc2c",
   "metadata": {},
   "outputs": [
    {
     "data": {
      "text/plain": [
       "3"
      ]
     },
     "execution_count": 35,
     "metadata": {},
     "output_type": "execute_result"
    }
   ],
   "source": [
    "a.find(\"a\")"
   ]
  },
  {
   "cell_type": "code",
   "execution_count": 36,
   "id": "3db4ad23",
   "metadata": {},
   "outputs": [
    {
     "data": {
      "text/plain": [
       "'We iNeuronll iNeuronre iNeuron piNeuronrt of Full StiNeuronck'"
      ]
     },
     "execution_count": 36,
     "metadata": {},
     "output_type": "execute_result"
    }
   ],
   "source": [
    "a.replace(\"a\", \"iNeuron\")"
   ]
  },
  {
   "cell_type": "code",
   "execution_count": 37,
   "id": "5b5b85a4",
   "metadata": {},
   "outputs": [
    {
     "data": {
      "text/plain": [
       "['We', 'all', 'are', 'a', 'part', 'of', 'Full', 'Stack']"
      ]
     },
     "execution_count": 37,
     "metadata": {},
     "output_type": "execute_result"
    }
   ],
   "source": [
    "a.split(\" \")"
   ]
  },
  {
   "cell_type": "code",
   "execution_count": 42,
   "id": "1caa0138",
   "metadata": {},
   "outputs": [
    {
     "name": "stdout",
     "output_type": "stream",
     "text": [
      "3\n",
      "7\n",
      "11\n",
      "14\n",
      "28\n"
     ]
    }
   ],
   "source": [
    "count = -1\n",
    "for i in a:\n",
    "    count= count+1\n",
    "    if(i=='a'):\n",
    "        print(count)\n",
    "    \n",
    "    "
   ]
  },
  {
   "cell_type": "code",
   "execution_count": 43,
   "id": "669d6ba0",
   "metadata": {},
   "outputs": [
    {
     "name": "stdout",
     "output_type": "stream",
     "text": [
      "3\n",
      "7\n",
      "11\n",
      "14\n",
      "28\n"
     ]
    }
   ],
   "source": [
    "for i in range(len(a)):\n",
    "    if(a[i] == 'a'):\n",
    "        print(i)"
   ]
  },
  {
   "cell_type": "code",
   "execution_count": 1,
   "id": "a1b1c5f0",
   "metadata": {},
   "outputs": [],
   "source": [
    "s = 'shweta'"
   ]
  },
  {
   "cell_type": "code",
   "execution_count": 2,
   "id": "c3944607",
   "metadata": {},
   "outputs": [
    {
     "data": {
      "text/plain": [
       "'shweta'"
      ]
     },
     "execution_count": 2,
     "metadata": {},
     "output_type": "execute_result"
    }
   ],
   "source": [
    "s"
   ]
  },
  {
   "cell_type": "code",
   "execution_count": 5,
   "id": "bcb36137",
   "metadata": {},
   "outputs": [
    {
     "name": "stdout",
     "output_type": "stream",
     "text": [
      "a\n",
      "t\n",
      "e\n",
      "w\n",
      "h\n"
     ]
    }
   ],
   "source": [
    "for i in range(1,len(s)):\n",
    "    print(s[-i])\n",
    "    "
   ]
  },
  {
   "cell_type": "code",
   "execution_count": 6,
   "id": "69391d8d",
   "metadata": {},
   "outputs": [
    {
     "name": "stdout",
     "output_type": "stream",
     "text": [
      "a\n",
      "t\n",
      "e\n",
      "w\n",
      "h\n",
      "s\n"
     ]
    }
   ],
   "source": [
    "s='shweta'\n",
    "ch = len(s) -1\n",
    "while ch >=0:\n",
    "    print(s[ch])\n",
    "    ch = ch-1"
   ]
  },
  {
   "cell_type": "code",
   "execution_count": 8,
   "id": "f46ecb76",
   "metadata": {},
   "outputs": [
    {
     "name": "stdout",
     "output_type": "stream",
     "text": [
      "i  is a vowel\n",
      "n is not a vowle\n",
      "e  is a vowel\n",
      "u  is a vowel\n",
      "r is not a vowle\n",
      "o  is a vowel\n",
      "n is not a vowle\n"
     ]
    }
   ],
   "source": [
    "name = 'ineuron'\n",
    "vowles = 'AaEeIiOoUu'\n",
    "for i in name :\n",
    "    if i in vowles:\n",
    "        print(\"{}  is a vowel\". format(i))\n",
    "    else:\n",
    "        print(\"{} is not a vowle\". format(i))"
   ]
  },
  {
   "cell_type": "code",
   "execution_count": 9,
   "id": "7844086c",
   "metadata": {},
   "outputs": [
    {
     "data": {
      "text/plain": [
       "'My name is'"
      ]
     },
     "execution_count": 9,
     "metadata": {},
     "output_type": "execute_result"
    }
   ],
   "source": [
    "\"{} name is\".format(\"My\")"
   ]
  },
  {
   "cell_type": "code",
   "execution_count": 10,
   "id": "6403108d",
   "metadata": {},
   "outputs": [
    {
     "ename": "KeyError",
     "evalue": "'my'",
     "output_type": "error",
     "traceback": [
      "\u001b[1;31m---------------------------------------------------------------------------\u001b[0m",
      "\u001b[1;31mKeyError\u001b[0m                                  Traceback (most recent call last)",
      "Cell \u001b[1;32mIn[10], line 1\u001b[0m\n\u001b[1;32m----> 1\u001b[0m \u001b[38;5;124;43m\"\u001b[39;49m\u001b[38;5;132;43;01m{my}\u001b[39;49;00m\u001b[38;5;124;43m name is\u001b[39;49m\u001b[38;5;124;43m\"\u001b[39;49m\u001b[38;5;241;43m.\u001b[39;49m\u001b[43mformat\u001b[49m\u001b[43m(\u001b[49m\u001b[38;5;124;43m\"\u001b[39;49m\u001b[38;5;124;43mMy\u001b[39;49m\u001b[38;5;124;43m\"\u001b[39;49m\u001b[43m)\u001b[49m\n",
      "\u001b[1;31mKeyError\u001b[0m: 'my'"
     ]
    }
   ],
   "source": [
    "\"{my} name is\".format(\"My\")"
   ]
  },
  {
   "cell_type": "code",
   "execution_count": 12,
   "id": "ff54e56f",
   "metadata": {},
   "outputs": [
    {
     "data": {
      "text/plain": [
       "'my name is Shweta'"
      ]
     },
     "execution_count": 12,
     "metadata": {},
     "output_type": "execute_result"
    }
   ],
   "source": [
    "\"{} name is {}\".format(\"my\",\"Shweta\")"
   ]
  },
  {
   "cell_type": "code",
   "execution_count": 13,
   "id": "e3484cbc",
   "metadata": {},
   "outputs": [
    {
     "name": "stdout",
     "output_type": "stream",
     "text": [
      "My\n",
      "Name\n"
     ]
    }
   ],
   "source": [
    "a = input()\n",
    "b = input()"
   ]
  },
  {
   "cell_type": "code",
   "execution_count": 14,
   "id": "8a35cc72",
   "metadata": {},
   "outputs": [
    {
     "data": {
      "text/plain": [
       "'My name is Name'"
      ]
     },
     "execution_count": 14,
     "metadata": {},
     "output_type": "execute_result"
    }
   ],
   "source": [
    "\"{} name is {}\".format(a,b)"
   ]
  },
  {
   "cell_type": "code",
   "execution_count": 18,
   "id": "abfec956",
   "metadata": {},
   "outputs": [
    {
     "name": "stdout",
     "output_type": "stream",
     "text": [
      "enter a value to check if it is palindrom: malayalam\n",
      "its palindrome\n"
     ]
    }
   ],
   "source": [
    "s = input(\"enter a value to check if it is palindrom: \")\n",
    "if s == s[::-1]:\n",
    "    print(\"its palindrome\")\n",
    "else:\n",
    "    print(\"its not palindrome\")"
   ]
  },
  {
   "cell_type": "code",
   "execution_count": 19,
   "id": "c58757ff",
   "metadata": {},
   "outputs": [],
   "source": [
    "l = [\"shweta\", 1234, True, 123.987, [\"mahapatra\", False, 876, -567]]"
   ]
  },
  {
   "cell_type": "code",
   "execution_count": 20,
   "id": "e719ba41",
   "metadata": {},
   "outputs": [
    {
     "data": {
      "text/plain": [
       "['shweta', 1234, True, 123.987, ['mahapatra', False, 876, -567]]"
      ]
     },
     "execution_count": 20,
     "metadata": {},
     "output_type": "execute_result"
    }
   ],
   "source": [
    "l"
   ]
  },
  {
   "cell_type": "code",
   "execution_count": 23,
   "id": "cd396f54",
   "metadata": {},
   "outputs": [
    {
     "data": {
      "text/plain": [
       "123.987"
      ]
     },
     "execution_count": 23,
     "metadata": {},
     "output_type": "execute_result"
    }
   ],
   "source": [
    "l[3]"
   ]
  },
  {
   "cell_type": "code",
   "execution_count": 24,
   "id": "c04502a5",
   "metadata": {},
   "outputs": [
    {
     "data": {
      "text/plain": [
       "['shweta', 1234, True]"
      ]
     },
     "execution_count": 24,
     "metadata": {},
     "output_type": "execute_result"
    }
   ],
   "source": [
    "l[0:3]"
   ]
  },
  {
   "cell_type": "code",
   "execution_count": 26,
   "id": "673f7674",
   "metadata": {},
   "outputs": [
    {
     "data": {
      "text/plain": [
       "[]"
      ]
     },
     "execution_count": 26,
     "metadata": {},
     "output_type": "execute_result"
    }
   ],
   "source": [
    "l[0:3:-1]"
   ]
  },
  {
   "cell_type": "code",
   "execution_count": 27,
   "id": "028a3fed",
   "metadata": {},
   "outputs": [
    {
     "data": {
      "text/plain": [
       "[123.987, True, 1234]"
      ]
     },
     "execution_count": 27,
     "metadata": {},
     "output_type": "execute_result"
    }
   ],
   "source": [
    "l[3:0:-1]"
   ]
  },
  {
   "cell_type": "code",
   "execution_count": 28,
   "id": "90c70ae3",
   "metadata": {},
   "outputs": [
    {
     "data": {
      "text/plain": [
       "[['mahapatra', False, 876, -567], 123.987, True, 1234]"
      ]
     },
     "execution_count": 28,
     "metadata": {},
     "output_type": "execute_result"
    }
   ],
   "source": [
    "l[6:0:-1]"
   ]
  },
  {
   "cell_type": "code",
   "execution_count": 29,
   "id": "fd695dd5",
   "metadata": {},
   "outputs": [],
   "source": [
    "s = 'arnab'"
   ]
  },
  {
   "cell_type": "code",
   "execution_count": 30,
   "id": "b8b12437",
   "metadata": {},
   "outputs": [
    {
     "ename": "TypeError",
     "evalue": "can only concatenate str (not \"list\") to str",
     "output_type": "error",
     "traceback": [
      "\u001b[1;31m---------------------------------------------------------------------------\u001b[0m",
      "\u001b[1;31mTypeError\u001b[0m                                 Traceback (most recent call last)",
      "Cell \u001b[1;32mIn[30], line 1\u001b[0m\n\u001b[1;32m----> 1\u001b[0m \u001b[43ms\u001b[49m\u001b[43m \u001b[49m\u001b[38;5;241;43m+\u001b[39;49m\u001b[43m \u001b[49m\u001b[43ml\u001b[49m\n",
      "\u001b[1;31mTypeError\u001b[0m: can only concatenate str (not \"list\") to str"
     ]
    }
   ],
   "source": [
    "s + l"
   ]
  },
  {
   "cell_type": "code",
   "execution_count": 31,
   "id": "d9609c42",
   "metadata": {},
   "outputs": [],
   "source": [
    "s = list(s)"
   ]
  },
  {
   "cell_type": "code",
   "execution_count": 32,
   "id": "81ef43c7",
   "metadata": {},
   "outputs": [
    {
     "data": {
      "text/plain": [
       "['a', 'r', 'n', 'a', 'b']"
      ]
     },
     "execution_count": 32,
     "metadata": {},
     "output_type": "execute_result"
    }
   ],
   "source": [
    "s"
   ]
  },
  {
   "cell_type": "code",
   "execution_count": 33,
   "id": "8b6a83f0",
   "metadata": {},
   "outputs": [
    {
     "data": {
      "text/plain": [
       "['a',\n",
       " 'r',\n",
       " 'n',\n",
       " 'a',\n",
       " 'b',\n",
       " 'shweta',\n",
       " 1234,\n",
       " True,\n",
       " 123.987,\n",
       " ['mahapatra', False, 876, -567]]"
      ]
     },
     "execution_count": 33,
     "metadata": {},
     "output_type": "execute_result"
    }
   ],
   "source": [
    "s + l"
   ]
  },
  {
   "cell_type": "code",
   "execution_count": 34,
   "id": "1dd01e06",
   "metadata": {},
   "outputs": [
    {
     "data": {
      "text/plain": [
       "['arnab']"
      ]
     },
     "execution_count": 34,
     "metadata": {},
     "output_type": "execute_result"
    }
   ],
   "source": [
    "s=\"arnab\"\n",
    "s = [s]\n",
    "s"
   ]
  },
  {
   "cell_type": "code",
   "execution_count": 35,
   "id": "dd619bbf",
   "metadata": {},
   "outputs": [
    {
     "data": {
      "text/plain": [
       "['arnab', 'shweta', 1234, True, 123.987, ['mahapatra', False, 876, -567]]"
      ]
     },
     "execution_count": 35,
     "metadata": {},
     "output_type": "execute_result"
    }
   ],
   "source": [
    "s+l"
   ]
  },
  {
   "cell_type": "code",
   "execution_count": 36,
   "id": "26976c8f",
   "metadata": {},
   "outputs": [
    {
     "data": {
      "text/plain": [
       "['shweta',\n",
       " 1234,\n",
       " True,\n",
       " 123.987,\n",
       " ['mahapatra', False, 876, -567],\n",
       " 'shweta',\n",
       " 1234,\n",
       " True,\n",
       " 123.987,\n",
       " ['mahapatra', False, 876, -567]]"
      ]
     },
     "execution_count": 36,
     "metadata": {},
     "output_type": "execute_result"
    }
   ],
   "source": [
    "l * 2"
   ]
  },
  {
   "cell_type": "code",
   "execution_count": 37,
   "id": "a5101528",
   "metadata": {},
   "outputs": [
    {
     "data": {
      "text/plain": [
       "5"
      ]
     },
     "execution_count": 37,
     "metadata": {},
     "output_type": "execute_result"
    }
   ],
   "source": [
    "len(l)"
   ]
  },
  {
   "cell_type": "code",
   "execution_count": 38,
   "id": "247a34af",
   "metadata": {},
   "outputs": [
    {
     "data": {
      "text/plain": [
       "True"
      ]
     },
     "execution_count": 38,
     "metadata": {},
     "output_type": "execute_result"
    }
   ],
   "source": [
    "'shweta' in l"
   ]
  },
  {
   "cell_type": "code",
   "execution_count": 39,
   "id": "d3d81ea6",
   "metadata": {},
   "outputs": [
    {
     "data": {
      "text/plain": [
       "False"
      ]
     },
     "execution_count": 39,
     "metadata": {},
     "output_type": "execute_result"
    }
   ],
   "source": [
    "45 in l"
   ]
  },
  {
   "cell_type": "code",
   "execution_count": 40,
   "id": "95c6195c",
   "metadata": {},
   "outputs": [
    {
     "data": {
      "text/plain": [
       "False"
      ]
     },
     "execution_count": 40,
     "metadata": {},
     "output_type": "execute_result"
    }
   ],
   "source": [
    "s = 'arnab'\n",
    "a in s"
   ]
  },
  {
   "cell_type": "code",
   "execution_count": 41,
   "id": "bc76165b",
   "metadata": {},
   "outputs": [
    {
     "data": {
      "text/plain": [
       "True"
      ]
     },
     "execution_count": 41,
     "metadata": {},
     "output_type": "execute_result"
    }
   ],
   "source": [
    "'a' in s"
   ]
  },
  {
   "cell_type": "code",
   "execution_count": 1,
   "id": "78768498",
   "metadata": {},
   "outputs": [],
   "source": [
    "l = [\"shweta\", 784, 845.98, True, [\"mahapatra\", False,75]]"
   ]
  },
  {
   "cell_type": "code",
   "execution_count": 2,
   "id": "98ded846",
   "metadata": {},
   "outputs": [],
   "source": [
    "n = 123"
   ]
  },
  {
   "cell_type": "code",
   "execution_count": 3,
   "id": "67d4cbb4",
   "metadata": {},
   "outputs": [
    {
     "ename": "TypeError",
     "evalue": "'int' object is not iterable",
     "output_type": "error",
     "traceback": [
      "\u001b[1;31m---------------------------------------------------------------------------\u001b[0m",
      "\u001b[1;31mTypeError\u001b[0m                                 Traceback (most recent call last)",
      "Cell \u001b[1;32mIn[3], line 1\u001b[0m\n\u001b[1;32m----> 1\u001b[0m n \u001b[38;5;241m=\u001b[39m \u001b[38;5;28;43mlist\u001b[39;49m\u001b[43m(\u001b[49m\u001b[43mn\u001b[49m\u001b[43m)\u001b[49m\n",
      "\u001b[1;31mTypeError\u001b[0m: 'int' object is not iterable"
     ]
    }
   ],
   "source": [
    "n = list(n)"
   ]
  },
  {
   "cell_type": "code",
   "execution_count": 4,
   "id": "e5da0490",
   "metadata": {},
   "outputs": [],
   "source": [
    "s = 'arnab'"
   ]
  },
  {
   "cell_type": "code",
   "execution_count": 5,
   "id": "dd709020",
   "metadata": {},
   "outputs": [],
   "source": [
    "s = list(s)"
   ]
  },
  {
   "cell_type": "code",
   "execution_count": 6,
   "id": "2188c85d",
   "metadata": {},
   "outputs": [
    {
     "data": {
      "text/plain": [
       "['a', 'r', 'n', 'a', 'b']"
      ]
     },
     "execution_count": 6,
     "metadata": {},
     "output_type": "execute_result"
    }
   ],
   "source": [
    "s"
   ]
  },
  {
   "cell_type": "code",
   "execution_count": 7,
   "id": "a5a3a534",
   "metadata": {},
   "outputs": [
    {
     "data": {
      "text/plain": [
       "True"
      ]
     },
     "execution_count": 7,
     "metadata": {},
     "output_type": "execute_result"
    }
   ],
   "source": [
    "True in l"
   ]
  },
  {
   "cell_type": "code",
   "execution_count": 8,
   "id": "313dc55a",
   "metadata": {},
   "outputs": [
    {
     "data": {
      "text/plain": [
       "True"
      ]
     },
     "execution_count": 8,
     "metadata": {},
     "output_type": "execute_result"
    }
   ],
   "source": [
    "784 in l"
   ]
  },
  {
   "cell_type": "code",
   "execution_count": 9,
   "id": "30130f6b",
   "metadata": {},
   "outputs": [
    {
     "data": {
      "text/plain": [
       "False"
      ]
     },
     "execution_count": 9,
     "metadata": {},
     "output_type": "execute_result"
    }
   ],
   "source": [
    "35 in l"
   ]
  },
  {
   "cell_type": "code",
   "execution_count": 11,
   "id": "b0569bd3",
   "metadata": {},
   "outputs": [
    {
     "data": {
      "text/plain": [
       "False"
      ]
     },
     "execution_count": 11,
     "metadata": {},
     "output_type": "execute_result"
    }
   ],
   "source": [
    "75 in l"
   ]
  },
  {
   "cell_type": "code",
   "execution_count": 12,
   "id": "453b78c1",
   "metadata": {},
   "outputs": [
    {
     "data": {
      "text/plain": [
       "3"
      ]
     },
     "execution_count": 12,
     "metadata": {},
     "output_type": "execute_result"
    }
   ],
   "source": [
    "max([1,2,3])\n"
   ]
  },
  {
   "cell_type": "code",
   "execution_count": 13,
   "id": "83636707",
   "metadata": {},
   "outputs": [
    {
     "data": {
      "text/plain": [
       "'shweta'"
      ]
     },
     "execution_count": 13,
     "metadata": {},
     "output_type": "execute_result"
    }
   ],
   "source": [
    "max([\"shweta\", \"arnab\", \"mahapatra\", \"pani\"])"
   ]
  },
  {
   "cell_type": "code",
   "execution_count": 15,
   "id": "8dde2aef",
   "metadata": {},
   "outputs": [
    {
     "data": {
      "text/plain": [
       "'z'"
      ]
     },
     "execution_count": 15,
     "metadata": {},
     "output_type": "execute_result"
    }
   ],
   "source": [
    "max([ \"arnab\",\"shweta\", \"mahapatra\", \"pani\", \"z\"])"
   ]
  },
  {
   "cell_type": "code",
   "execution_count": 18,
   "id": "9cb09d4c",
   "metadata": {},
   "outputs": [
    {
     "data": {
      "text/plain": [
       "'sweet'"
      ]
     },
     "execution_count": 18,
     "metadata": {},
     "output_type": "execute_result"
    }
   ],
   "source": [
    "max([\"shweta\", \"sugar\", \"sweet\", \"SWeet\"])"
   ]
  },
  {
   "cell_type": "code",
   "execution_count": 19,
   "id": "cc5661df",
   "metadata": {},
   "outputs": [],
   "source": [
    "l = [1,2,3,4]"
   ]
  },
  {
   "cell_type": "code",
   "execution_count": 20,
   "id": "2d0d7b67",
   "metadata": {},
   "outputs": [],
   "source": [
    "l.append(\"shweta\")"
   ]
  },
  {
   "cell_type": "code",
   "execution_count": 21,
   "id": "24ba90ff",
   "metadata": {},
   "outputs": [
    {
     "data": {
      "text/plain": [
       "[1, 2, 3, 4, 'shweta']"
      ]
     },
     "execution_count": 21,
     "metadata": {},
     "output_type": "execute_result"
    }
   ],
   "source": [
    "l"
   ]
  },
  {
   "cell_type": "code",
   "execution_count": 22,
   "id": "5a2a332e",
   "metadata": {},
   "outputs": [
    {
     "data": {
      "text/plain": [
       "[1, 2, 3, 4, 'shweta', [1, 4, 5, 6, 7]]"
      ]
     },
     "execution_count": 22,
     "metadata": {},
     "output_type": "execute_result"
    }
   ],
   "source": [
    "l.append([1,4,5,6,7])\n",
    "l"
   ]
  },
  {
   "cell_type": "code",
   "execution_count": 23,
   "id": "8ac9e06a",
   "metadata": {},
   "outputs": [
    {
     "ename": "TypeError",
     "evalue": "list.append() takes exactly one argument (2 given)",
     "output_type": "error",
     "traceback": [
      "\u001b[1;31m---------------------------------------------------------------------------\u001b[0m",
      "\u001b[1;31mTypeError\u001b[0m                                 Traceback (most recent call last)",
      "Cell \u001b[1;32mIn[23], line 1\u001b[0m\n\u001b[1;32m----> 1\u001b[0m \u001b[43ml\u001b[49m\u001b[38;5;241;43m.\u001b[39;49m\u001b[43mappend\u001b[49m\u001b[43m(\u001b[49m\u001b[38;5;124;43m\"\u001b[39;49m\u001b[38;5;124;43mshweta\u001b[39;49m\u001b[38;5;124;43m\"\u001b[39;49m\u001b[43m,\u001b[49m\u001b[43m \u001b[49m\u001b[38;5;124;43m\"\u001b[39;49m\u001b[38;5;124;43marnab\u001b[39;49m\u001b[38;5;124;43m\"\u001b[39;49m\u001b[43m)\u001b[49m\n",
      "\u001b[1;31mTypeError\u001b[0m: list.append() takes exactly one argument (2 given)"
     ]
    }
   ],
   "source": [
    "l.append(\"shweta\", \"arnab\")"
   ]
  },
  {
   "cell_type": "code",
   "execution_count": 24,
   "id": "e7eede0c",
   "metadata": {},
   "outputs": [
    {
     "data": {
      "text/plain": [
       "[1, 2, 3, 4, 'shweta', [1, 4, 5, 6, 7]]"
      ]
     },
     "execution_count": 24,
     "metadata": {},
     "output_type": "execute_result"
    }
   ],
   "source": [
    "l"
   ]
  },
  {
   "cell_type": "code",
   "execution_count": 5,
   "id": "d478d819",
   "metadata": {},
   "outputs": [],
   "source": [
    "l.insert(2, \"arnab\")"
   ]
  },
  {
   "cell_type": "code",
   "execution_count": 18,
   "id": "b9f55d2e",
   "metadata": {},
   "outputs": [],
   "source": [
    "l = [\"shweta\", 12, 455, True]"
   ]
  },
  {
   "cell_type": "code",
   "execution_count": 19,
   "id": "6c304116",
   "metadata": {},
   "outputs": [
    {
     "data": {
      "text/plain": [
       "['shweta', 12, 'arnab', 455, True]"
      ]
     },
     "execution_count": 19,
     "metadata": {},
     "output_type": "execute_result"
    }
   ],
   "source": [
    "l.insert(2,\"arnab\")\n",
    "l"
   ]
  },
  {
   "cell_type": "code",
   "execution_count": 20,
   "id": "df8682a8",
   "metadata": {},
   "outputs": [
    {
     "data": {
      "text/plain": [
       "['shweta', 12, 'arnab', 455, 'mahapatra', True]"
      ]
     },
     "execution_count": 20,
     "metadata": {},
     "output_type": "execute_result"
    }
   ],
   "source": [
    "l.insert(-1, \"mahapatra\")\n",
    "l"
   ]
  },
  {
   "cell_type": "code",
   "execution_count": 22,
   "id": "81fcd063",
   "metadata": {},
   "outputs": [
    {
     "data": {
      "text/plain": [
       "1"
      ]
     },
     "execution_count": 22,
     "metadata": {},
     "output_type": "execute_result"
    }
   ],
   "source": [
    "l.count(\"arnab\")"
   ]
  },
  {
   "cell_type": "code",
   "execution_count": 23,
   "id": "efec84df",
   "metadata": {},
   "outputs": [
    {
     "data": {
      "text/plain": [
       "['shweta', 12, 'arnab', 455, 'mahapatra', 'arnab', True]"
      ]
     },
     "execution_count": 23,
     "metadata": {},
     "output_type": "execute_result"
    }
   ],
   "source": [
    "l.insert(-1, \"arnab\")\n",
    "l"
   ]
  },
  {
   "cell_type": "code",
   "execution_count": 24,
   "id": "21a7b0ab",
   "metadata": {},
   "outputs": [
    {
     "data": {
      "text/plain": [
       "2"
      ]
     },
     "execution_count": 24,
     "metadata": {},
     "output_type": "execute_result"
    }
   ],
   "source": [
    "l.count(\"arnab\")"
   ]
  },
  {
   "cell_type": "code",
   "execution_count": 25,
   "id": "d9fac018",
   "metadata": {},
   "outputs": [],
   "source": [
    "l = [1,2,3,4,5]"
   ]
  },
  {
   "cell_type": "code",
   "execution_count": 26,
   "id": "6df1ff81",
   "metadata": {},
   "outputs": [
    {
     "data": {
      "text/plain": [
       "[1, 2, 3, 4, 5, 'shweta']"
      ]
     },
     "execution_count": 26,
     "metadata": {},
     "output_type": "execute_result"
    }
   ],
   "source": [
    "l.append(\"shweta\")\n",
    "l"
   ]
  },
  {
   "cell_type": "code",
   "execution_count": 27,
   "id": "01c8a63b",
   "metadata": {},
   "outputs": [
    {
     "data": {
      "text/plain": [
       "[1, 2, 3, 4, 5, 'shweta', [0, 9, 8, 7]]"
      ]
     },
     "execution_count": 27,
     "metadata": {},
     "output_type": "execute_result"
    }
   ],
   "source": [
    "l.append([0,9,8,7])\n",
    "l"
   ]
  },
  {
   "cell_type": "code",
   "execution_count": 28,
   "id": "89af58d8",
   "metadata": {},
   "outputs": [
    {
     "data": {
      "text/plain": [
       "[1, 2, 3, 4, 5, 'shweta', [0, 9, 8, 7], 't', 'e', 's', 't', '1']"
      ]
     },
     "execution_count": 28,
     "metadata": {},
     "output_type": "execute_result"
    }
   ],
   "source": [
    "l.extend(\"test1\")\n",
    "l"
   ]
  },
  {
   "cell_type": "code",
   "execution_count": 29,
   "id": "bbca15fa",
   "metadata": {},
   "outputs": [
    {
     "ename": "TypeError",
     "evalue": "'int' object is not iterable",
     "output_type": "error",
     "traceback": [
      "\u001b[1;31m---------------------------------------------------------------------------\u001b[0m",
      "\u001b[1;31mTypeError\u001b[0m                                 Traceback (most recent call last)",
      "Cell \u001b[1;32mIn[29], line 1\u001b[0m\n\u001b[1;32m----> 1\u001b[0m \u001b[43ml\u001b[49m\u001b[38;5;241;43m.\u001b[39;49m\u001b[43mextend\u001b[49m\u001b[43m(\u001b[49m\u001b[38;5;241;43m8249\u001b[39;49m\u001b[43m)\u001b[49m\n\u001b[0;32m      2\u001b[0m l\n",
      "\u001b[1;31mTypeError\u001b[0m: 'int' object is not iterable"
     ]
    }
   ],
   "source": [
    "l.extend(8249)\n",
    "l"
   ]
  },
  {
   "cell_type": "code",
   "execution_count": 30,
   "id": "1da4a411",
   "metadata": {},
   "outputs": [
    {
     "data": {
      "text/plain": [
       "['t', 'e', 's', 't']"
      ]
     },
     "execution_count": 30,
     "metadata": {},
     "output_type": "execute_result"
    }
   ],
   "source": [
    "s = \"test\"\n",
    "list(s)"
   ]
  },
  {
   "cell_type": "code",
   "execution_count": 31,
   "id": "6de2cf94",
   "metadata": {},
   "outputs": [
    {
     "data": {
      "text/plain": [
       "[1, 2, 3, 4, 5, 'shweta', [0, 9, 8, 7], 't', 'e', 's', 't', '1', 8, 2, 4, 2, 4]"
      ]
     },
     "execution_count": 31,
     "metadata": {},
     "output_type": "execute_result"
    }
   ],
   "source": [
    "l.extend([8,2,4,2,4])\n",
    "l"
   ]
  },
  {
   "cell_type": "code",
   "execution_count": 32,
   "id": "a664219f",
   "metadata": {},
   "outputs": [
    {
     "data": {
      "text/plain": [
       "[1,\n",
       " 2,\n",
       " 3,\n",
       " 4,\n",
       " 5,\n",
       " 'shweta',\n",
       " [0, 9, 8, 7],\n",
       " 't',\n",
       " 'e',\n",
       " 's',\n",
       " 't',\n",
       " '1',\n",
       " 8,\n",
       " 2,\n",
       " 4,\n",
       " 2,\n",
       " 4,\n",
       " [8, 2, 4, 2, 4]]"
      ]
     },
     "execution_count": 32,
     "metadata": {},
     "output_type": "execute_result"
    }
   ],
   "source": [
    "l.append([8,2,4,2,4])\n",
    "l"
   ]
  },
  {
   "cell_type": "code",
   "execution_count": 33,
   "id": "88bb68fd",
   "metadata": {},
   "outputs": [],
   "source": [
    "l = [1,2,3]\n"
   ]
  },
  {
   "cell_type": "code",
   "execution_count": 34,
   "id": "e72d60da",
   "metadata": {},
   "outputs": [
    {
     "data": {
      "text/plain": [
       "[1, 2, 3, [4, 5, 6]]"
      ]
     },
     "execution_count": 34,
     "metadata": {},
     "output_type": "execute_result"
    }
   ],
   "source": [
    "l.append([4,5,6])\n",
    "l"
   ]
  },
  {
   "cell_type": "code",
   "execution_count": 35,
   "id": "4690c124",
   "metadata": {},
   "outputs": [
    {
     "data": {
      "text/plain": [
       "[1, 2, 3, [4, 5, 6], 7, 8, 9]"
      ]
     },
     "execution_count": 35,
     "metadata": {},
     "output_type": "execute_result"
    }
   ],
   "source": [
    "l.extend([7,8,9])\n",
    "l"
   ]
  },
  {
   "cell_type": "code",
   "execution_count": 38,
   "id": "90834778",
   "metadata": {},
   "outputs": [
    {
     "data": {
      "text/plain": [
       "[1,\n",
       " 2,\n",
       " 3,\n",
       " [4, 5, 6],\n",
       " 7,\n",
       " 8,\n",
       " 9,\n",
       " 0,\n",
       " 9,\n",
       " 8,\n",
       " ['shweta', True, 10, 11],\n",
       " 0,\n",
       " 9,\n",
       " 8,\n",
       " ['shweta', True, 10, 11]]"
      ]
     },
     "execution_count": 38,
     "metadata": {},
     "output_type": "execute_result"
    }
   ],
   "source": [
    "l.extend([0,9,8,[\"shweta\", True, 10,11]])\n",
    "l"
   ]
  },
  {
   "cell_type": "code",
   "execution_count": 39,
   "id": "27155d48",
   "metadata": {},
   "outputs": [
    {
     "data": {
      "text/plain": [
       "10"
      ]
     },
     "execution_count": 39,
     "metadata": {},
     "output_type": "execute_result"
    }
   ],
   "source": [
    "l.index([\"shweta\", True, 10,11])"
   ]
  },
  {
   "cell_type": "code",
   "execution_count": 40,
   "id": "ba826040",
   "metadata": {},
   "outputs": [
    {
     "data": {
      "text/plain": [
       "1"
      ]
     },
     "execution_count": 40,
     "metadata": {},
     "output_type": "execute_result"
    }
   ],
   "source": [
    "l.index(2)"
   ]
  },
  {
   "cell_type": "code",
   "execution_count": 41,
   "id": "83ca9ac5",
   "metadata": {},
   "outputs": [],
   "source": [
    "l = [2,3,4,5,6,7]"
   ]
  },
  {
   "cell_type": "code",
   "execution_count": 42,
   "id": "cbf2ad6b",
   "metadata": {},
   "outputs": [
    {
     "data": {
      "text/plain": [
       "7"
      ]
     },
     "execution_count": 42,
     "metadata": {},
     "output_type": "execute_result"
    }
   ],
   "source": [
    "l.pop()"
   ]
  },
  {
   "cell_type": "code",
   "execution_count": 43,
   "id": "efc7ae9c",
   "metadata": {},
   "outputs": [
    {
     "data": {
      "text/plain": [
       "[2, 3, 4, 5, 6]"
      ]
     },
     "execution_count": 43,
     "metadata": {},
     "output_type": "execute_result"
    }
   ],
   "source": [
    "l"
   ]
  },
  {
   "cell_type": "code",
   "execution_count": 44,
   "id": "f6d25c48",
   "metadata": {},
   "outputs": [
    {
     "data": {
      "text/plain": [
       "5"
      ]
     },
     "execution_count": 44,
     "metadata": {},
     "output_type": "execute_result"
    }
   ],
   "source": [
    "l.pop(3)"
   ]
  },
  {
   "cell_type": "code",
   "execution_count": 45,
   "id": "70db4a51",
   "metadata": {},
   "outputs": [
    {
     "data": {
      "text/plain": [
       "[2, 3, 4, 6]"
      ]
     },
     "execution_count": 45,
     "metadata": {},
     "output_type": "execute_result"
    }
   ],
   "source": [
    "l"
   ]
  },
  {
   "cell_type": "code",
   "execution_count": 46,
   "id": "ced733e9",
   "metadata": {},
   "outputs": [],
   "source": [
    "l = [4,5,6,7,8,9]"
   ]
  },
  {
   "cell_type": "code",
   "execution_count": 47,
   "id": "ef55b161",
   "metadata": {},
   "outputs": [
    {
     "ename": "TypeError",
     "evalue": "list.remove() takes exactly one argument (0 given)",
     "output_type": "error",
     "traceback": [
      "\u001b[1;31m---------------------------------------------------------------------------\u001b[0m",
      "\u001b[1;31mTypeError\u001b[0m                                 Traceback (most recent call last)",
      "Cell \u001b[1;32mIn[47], line 1\u001b[0m\n\u001b[1;32m----> 1\u001b[0m \u001b[43ml\u001b[49m\u001b[38;5;241;43m.\u001b[39;49m\u001b[43mremove\u001b[49m\u001b[43m(\u001b[49m\u001b[43m)\u001b[49m\n\u001b[0;32m      2\u001b[0m l\n",
      "\u001b[1;31mTypeError\u001b[0m: list.remove() takes exactly one argument (0 given)"
     ]
    }
   ],
   "source": [
    "l.remove()\n",
    "l"
   ]
  },
  {
   "cell_type": "code",
   "execution_count": 48,
   "id": "9b51465e",
   "metadata": {},
   "outputs": [],
   "source": [
    "l.remove(6)"
   ]
  },
  {
   "cell_type": "code",
   "execution_count": 49,
   "id": "1bcec604",
   "metadata": {},
   "outputs": [
    {
     "data": {
      "text/plain": [
       "[4, 5, 7, 8, 9]"
      ]
     },
     "execution_count": 49,
     "metadata": {},
     "output_type": "execute_result"
    }
   ],
   "source": [
    "l"
   ]
  },
  {
   "cell_type": "code",
   "execution_count": 50,
   "id": "97cf2b09",
   "metadata": {},
   "outputs": [],
   "source": [
    "l= [3,4,5,3,6,3,8,3,9,3]"
   ]
  },
  {
   "cell_type": "code",
   "execution_count": 51,
   "id": "8b78948b",
   "metadata": {},
   "outputs": [
    {
     "data": {
      "text/plain": [
       "[4, 5, 3, 6, 3, 8, 3, 9, 3]"
      ]
     },
     "execution_count": 51,
     "metadata": {},
     "output_type": "execute_result"
    }
   ],
   "source": [
    "l.remove(3)\n",
    "l"
   ]
  },
  {
   "cell_type": "code",
   "execution_count": 52,
   "id": "d0faa594",
   "metadata": {},
   "outputs": [
    {
     "data": {
      "text/plain": [
       "[4, 5, 6, 3, 8, 3, 9, 3]"
      ]
     },
     "execution_count": 52,
     "metadata": {},
     "output_type": "execute_result"
    }
   ],
   "source": [
    "l.remove(3)\n",
    "l"
   ]
  },
  {
   "cell_type": "code",
   "execution_count": 53,
   "id": "f9d85884",
   "metadata": {},
   "outputs": [],
   "source": [
    "l.remove(3)"
   ]
  },
  {
   "cell_type": "code",
   "execution_count": 54,
   "id": "4f501758",
   "metadata": {},
   "outputs": [
    {
     "data": {
      "text/plain": [
       "[4, 5, 6, 8, 3, 9, 3]"
      ]
     },
     "execution_count": 54,
     "metadata": {},
     "output_type": "execute_result"
    }
   ],
   "source": [
    "l"
   ]
  },
  {
   "cell_type": "code",
   "execution_count": 55,
   "id": "0f265edf",
   "metadata": {},
   "outputs": [
    {
     "data": {
      "text/plain": [
       "[4, 5, 6, 8, 3, 9, 3]"
      ]
     },
     "execution_count": 55,
     "metadata": {},
     "output_type": "execute_result"
    }
   ],
   "source": [
    "l.reverse\n",
    "l"
   ]
  },
  {
   "cell_type": "code",
   "execution_count": 56,
   "id": "d46da417",
   "metadata": {},
   "outputs": [
    {
     "data": {
      "text/plain": [
       "[3, 9, 3, 8, 6, 5, 4]"
      ]
     },
     "execution_count": 56,
     "metadata": {},
     "output_type": "execute_result"
    }
   ],
   "source": [
    "l.reverse()\n",
    "l"
   ]
  },
  {
   "cell_type": "code",
   "execution_count": 58,
   "id": "b963fa8f",
   "metadata": {},
   "outputs": [
    {
     "data": {
      "text/plain": [
       "[3, 3, 4, 5, 6, 8, 9]"
      ]
     },
     "execution_count": 58,
     "metadata": {},
     "output_type": "execute_result"
    }
   ],
   "source": [
    "l.sort()\n",
    "l"
   ]
  },
  {
   "cell_type": "code",
   "execution_count": 59,
   "id": "efb9e6d0",
   "metadata": {},
   "outputs": [
    {
     "ename": "TypeError",
     "evalue": "'<' not supported between instances of 'int' and 'str'",
     "output_type": "error",
     "traceback": [
      "\u001b[1;31m---------------------------------------------------------------------------\u001b[0m",
      "\u001b[1;31mTypeError\u001b[0m                                 Traceback (most recent call last)",
      "Cell \u001b[1;32mIn[59], line 2\u001b[0m\n\u001b[0;32m      1\u001b[0m l \u001b[38;5;241m=\u001b[39m [\u001b[38;5;124m\"\u001b[39m\u001b[38;5;124mshweta\u001b[39m\u001b[38;5;124m\"\u001b[39m, \u001b[38;5;241m2\u001b[39m,\u001b[38;5;241m4\u001b[39m, \u001b[38;5;28;01mTrue\u001b[39;00m]\n\u001b[1;32m----> 2\u001b[0m \u001b[43ml\u001b[49m\u001b[38;5;241;43m.\u001b[39;49m\u001b[43msort\u001b[49m\u001b[43m(\u001b[49m\u001b[43m)\u001b[49m\n\u001b[0;32m      3\u001b[0m l\n",
      "\u001b[1;31mTypeError\u001b[0m: '<' not supported between instances of 'int' and 'str'"
     ]
    }
   ],
   "source": [
    "l = [\"shweta\", 2,4, True]\n",
    "l.sort()\n",
    "l"
   ]
  },
  {
   "cell_type": "code",
   "execution_count": 60,
   "id": "477f3e42",
   "metadata": {},
   "outputs": [
    {
     "data": {
      "text/plain": [
       "[(67+4j),\n",
       " [1, 2, 3, 'shweta'],\n",
       " [4, 5, True, 'arnab'],\n",
       " [6, 7, False],\n",
       " ['yes', 0, 1],\n",
       " ['No', 2, 3]]"
      ]
     },
     "execution_count": 60,
     "metadata": {},
     "output_type": "execute_result"
    }
   ],
   "source": [
    "# l = [[],[],[],[]]\n",
    "# 1) append 2 more list and one complex number in the above list in between any position but not at end\n",
    "# 2) if your nested list contain string then find out its index in nested list and print it then remove the string\n",
    "# 3) you have to extract second element of each nested list\n",
    "\n",
    "# 1)\n",
    "l = [[1,2,3,\"shweta\"], [4,5,True,\"arnab\"],[6,7,False]]\n",
    "l.insert(3,[\"yes\", 0,1])\n",
    "l.insert(4,[\"No\",2,3])\n",
    "l.insert(0,4j+67)\n",
    "l"
   ]
  },
  {
   "cell_type": "code",
   "execution_count": 75,
   "id": "06a19488",
   "metadata": {},
   "outputs": [
    {
     "name": "stdout",
     "output_type": "stream",
     "text": [
      "3\n",
      "[(67+4j), [1, 2, 3], [4, 5, True, 'arnab'], [6, 7, False], ['yes', 0, 1], ['No', 2, 3]]\n",
      "3\n",
      "[(67+4j), [1, 2, 3], [4, 5, True], [6, 7, False], ['yes', 0, 1], ['No', 2, 3]]\n",
      "0\n",
      "[(67+4j), [1, 2, 3], [4, 5, True], [6, 7, False], [0, 1], ['No', 2, 3]]\n",
      "0\n",
      "[(67+4j), [1, 2, 3], [4, 5, True], [6, 7, False], [0, 1], [2, 3]]\n"
     ]
    }
   ],
   "source": [
    "# 2)\n",
    "for i in l:\n",
    "    if type(i) == list:\n",
    "        for j in i:\n",
    "            if type(j) == str:\n",
    "                indx = i.index(j)\n",
    "                print(i.index(j))\n",
    "                i.pop(indx)\n",
    "                print(l)"
   ]
  },
  {
   "cell_type": "code",
   "execution_count": 62,
   "id": "ff7738c0",
   "metadata": {},
   "outputs": [],
   "source": [
    "for i in l:\n",
    "    if type(i) == \"list\":\n",
    "        print(type(i))"
   ]
  },
  {
   "cell_type": "code",
   "execution_count": 63,
   "id": "8a987d30",
   "metadata": {},
   "outputs": [
    {
     "data": {
      "text/plain": [
       "list"
      ]
     },
     "execution_count": 63,
     "metadata": {},
     "output_type": "execute_result"
    }
   ],
   "source": [
    "type(l)"
   ]
  },
  {
   "cell_type": "code",
   "execution_count": 64,
   "id": "11218114",
   "metadata": {},
   "outputs": [
    {
     "name": "stdout",
     "output_type": "stream",
     "text": [
      "<class 'complex'>\n",
      "<class 'list'>\n",
      "<class 'list'>\n",
      "<class 'list'>\n",
      "<class 'list'>\n",
      "<class 'list'>\n"
     ]
    }
   ],
   "source": [
    "for i in l:\n",
    "    print(type(i))"
   ]
  },
  {
   "cell_type": "code",
   "execution_count": 71,
   "id": "fd77ecda",
   "metadata": {},
   "outputs": [
    {
     "name": "stdout",
     "output_type": "stream",
     "text": [
      "<class 'type'>\n",
      "<class 'list'>\n",
      "<class 'list'>\n",
      "<class 'list'>\n",
      "<class 'list'>\n",
      "<class 'list'>\n"
     ]
    }
   ],
   "source": [
    "for i in l:\n",
    "    if type(i) == list:\n",
    "        print(type(i))\n",
    "    else: \n",
    "        print(type(type(i)))"
   ]
  },
  {
   "cell_type": "code",
   "execution_count": 70,
   "id": "cbd1da2d",
   "metadata": {},
   "outputs": [
    {
     "name": "stdout",
     "output_type": "stream",
     "text": [
      "<class 'str'>\n"
     ]
    }
   ],
   "source": [
    "print(type(\"list\"))"
   ]
  },
  {
   "cell_type": "code",
   "execution_count": 76,
   "id": "a1f2ca64",
   "metadata": {},
   "outputs": [
    {
     "name": "stdout",
     "output_type": "stream",
     "text": [
      "2\n",
      "5\n",
      "7\n",
      "1\n",
      "3\n"
     ]
    }
   ],
   "source": [
    "# 3)\n",
    "\n",
    "for i in l:\n",
    "    if type(i) == list:\n",
    "        val = i.pop(1)\n",
    "        print(val)"
   ]
  },
  {
   "cell_type": "code",
   "execution_count": 1,
   "id": "92461a2a",
   "metadata": {},
   "outputs": [],
   "source": [
    "l = [[1,2,3], [11,12,'b', 'b', 'b'], [21,'t', 223],[4,5,6],[7,8,9], 'demo', 12.5]"
   ]
  },
  {
   "cell_type": "code",
   "execution_count": 2,
   "id": "f0122a9d",
   "metadata": {},
   "outputs": [
    {
     "name": "stdout",
     "output_type": "stream",
     "text": [
      "Index of string b is:  2\n",
      "Index of string b is:  3\n",
      "Index of string b is:  4\n",
      "The string in the nested list is 'b'\n",
      "The string in the nested list is 'b'\n",
      "The string in the nested list is 'b'\n",
      "Index of string t is:  1\n",
      "The string in the nested list is 't'\n",
      " [[1, 2, 3], [11, 12], [21, 223], [4, 5, 6], [7, 8, 9], 'demo', 12.5] \n",
      "\n"
     ]
    }
   ],
   "source": [
    "for i in l:\n",
    "    if type(i) == list:\n",
    "        j=0\n",
    "        while j < len(i):\n",
    "            if type(i[j]) is str:\n",
    "                print(\"Index of string {} is: \".format(i[j]),j)\n",
    "            j = j+1\n",
    "        j=0\n",
    "        while j < len(i):\n",
    "            if type(i[j]) is str:\n",
    "                print(\"The string in the nested list is '{}'\" .format(i[j]))\n",
    "                i.remove(i[j])\n",
    "                continue\n",
    "            j = j+1\n",
    "print(\"List after removal of string from nested list is \\r\",l,'\\n')"
   ]
  },
  {
   "cell_type": "code",
   "execution_count": 4,
   "id": "f31e1d65",
   "metadata": {},
   "outputs": [],
   "source": [
    "l1 =[]    "
   ]
  },
  {
   "cell_type": "code",
   "execution_count": 5,
   "id": "e4683648",
   "metadata": {},
   "outputs": [],
   "source": [
    "for i in \"shweta\":\n",
    "    l1.append(i)"
   ]
  },
  {
   "cell_type": "code",
   "execution_count": 6,
   "id": "57037d6f",
   "metadata": {},
   "outputs": [
    {
     "data": {
      "text/plain": [
       "['s', 'h', 'w', 'e', 't', 'a']"
      ]
     },
     "execution_count": 6,
     "metadata": {},
     "output_type": "execute_result"
    }
   ],
   "source": [
    "l1"
   ]
  },
  {
   "cell_type": "code",
   "execution_count": 7,
   "id": "59757cd8",
   "metadata": {},
   "outputs": [
    {
     "data": {
      "text/plain": [
       "['s', 'h', 'w', 'e', 't', 'a']"
      ]
     },
     "execution_count": 7,
     "metadata": {},
     "output_type": "execute_result"
    }
   ],
   "source": [
    "[i for i in \"shweta\"]"
   ]
  },
  {
   "cell_type": "code",
   "execution_count": 8,
   "id": "bb972f05",
   "metadata": {},
   "outputs": [
    {
     "data": {
      "text/plain": [
       "[['s'], ['h'], ['w'], ['e'], ['t'], ['a']]"
      ]
     },
     "execution_count": 8,
     "metadata": {},
     "output_type": "execute_result"
    }
   ],
   "source": [
    "[[i] for i in \"shweta\"]"
   ]
  },
  {
   "cell_type": "code",
   "execution_count": 9,
   "id": "f7a5c9e6",
   "metadata": {},
   "outputs": [],
   "source": [
    "l = []\n",
    "for i in range(10):\n",
    "    if i%2 == 0:\n",
    "        l.append(i)"
   ]
  },
  {
   "cell_type": "code",
   "execution_count": 10,
   "id": "d66f3bf7",
   "metadata": {},
   "outputs": [
    {
     "data": {
      "text/plain": [
       "[0, 2, 4, 6, 8]"
      ]
     },
     "execution_count": 10,
     "metadata": {},
     "output_type": "execute_result"
    }
   ],
   "source": [
    "l"
   ]
  },
  {
   "cell_type": "code",
   "execution_count": 11,
   "id": "c27c61a5",
   "metadata": {},
   "outputs": [
    {
     "data": {
      "text/plain": [
       "[0, 2, 4, 6, 8]"
      ]
     },
     "execution_count": 11,
     "metadata": {},
     "output_type": "execute_result"
    }
   ],
   "source": [
    "[i for i in range(10) if i%2 ==0]"
   ]
  },
  {
   "cell_type": "code",
   "execution_count": 12,
   "id": "493f662a",
   "metadata": {},
   "outputs": [
    {
     "data": {
      "text/plain": [
       "['even', 'odd', 'even', 'odd', 'even', 'odd', 'even', 'odd', 'even', 'odd']"
      ]
     },
     "execution_count": 12,
     "metadata": {},
     "output_type": "execute_result"
    }
   ],
   "source": [
    "l = []\n",
    "for i in range(10):\n",
    "    if i%2!=0:\n",
    "        l.append(\"odd\")\n",
    "    else:\n",
    "        l.append(\"even\")\n",
    "        \n",
    "l"
   ]
  },
  {
   "cell_type": "code",
   "execution_count": 13,
   "id": "60205ec2",
   "metadata": {},
   "outputs": [
    {
     "data": {
      "text/plain": [
       "['even', 'odd', 'even', 'odd', 'even', 'odd', 'even', 'odd', 'even', 'odd']"
      ]
     },
     "execution_count": 13,
     "metadata": {},
     "output_type": "execute_result"
    }
   ],
   "source": [
    "[\"odd\" if i%2!=0 else \"even\" for i in range(10)]"
   ]
  },
  {
   "cell_type": "code",
   "execution_count": 14,
   "id": "572037ad",
   "metadata": {},
   "outputs": [
    {
     "data": {
      "text/plain": [
       "[[0, 1, 2], [0, 1, 2], [0, 1, 2]]"
      ]
     },
     "execution_count": 14,
     "metadata": {},
     "output_type": "execute_result"
    }
   ],
   "source": [
    "mat = []\n",
    "for i in range(3):\n",
    "    mat.append([])\n",
    "    for j in range(3):\n",
    "        mat[i].append(j)\n",
    "mat"
   ]
  },
  {
   "cell_type": "code",
   "execution_count": 1,
   "id": "239ec210",
   "metadata": {},
   "outputs": [
    {
     "data": {
      "text/plain": [
       "[[0, 1, 2], [0, 1, 2], [0, 1, 2]]"
      ]
     },
     "execution_count": 1,
     "metadata": {},
     "output_type": "execute_result"
    }
   ],
   "source": [
    "[[i for i in range(3)] for j in range(3)]"
   ]
  },
  {
   "cell_type": "code",
   "execution_count": 2,
   "id": "83c72ed4",
   "metadata": {},
   "outputs": [],
   "source": [
    "t = ()"
   ]
  },
  {
   "cell_type": "code",
   "execution_count": 3,
   "id": "94d46a7d",
   "metadata": {},
   "outputs": [
    {
     "data": {
      "text/plain": [
       "tuple"
      ]
     },
     "execution_count": 3,
     "metadata": {},
     "output_type": "execute_result"
    }
   ],
   "source": [
    "type(t)"
   ]
  },
  {
   "cell_type": "code",
   "execution_count": 4,
   "id": "bf6c8505",
   "metadata": {},
   "outputs": [
    {
     "data": {
      "text/plain": [
       "list"
      ]
     },
     "execution_count": 4,
     "metadata": {},
     "output_type": "execute_result"
    }
   ],
   "source": [
    "l = list()\n",
    "type(l)"
   ]
  },
  {
   "cell_type": "code",
   "execution_count": 5,
   "id": "e66ad633",
   "metadata": {},
   "outputs": [],
   "source": [
    "l = [1, 2 ,3]"
   ]
  },
  {
   "cell_type": "code",
   "execution_count": 6,
   "id": "7eadef62",
   "metadata": {},
   "outputs": [
    {
     "data": {
      "text/plain": [
       "list"
      ]
     },
     "execution_count": 6,
     "metadata": {},
     "output_type": "execute_result"
    }
   ],
   "source": [
    "type(l)"
   ]
  },
  {
   "cell_type": "code",
   "execution_count": 7,
   "id": "a398d8d6",
   "metadata": {},
   "outputs": [],
   "source": [
    "t1 = (234, 34, \"shweta\", True,3.56)"
   ]
  },
  {
   "cell_type": "code",
   "execution_count": 8,
   "id": "ca70160c",
   "metadata": {},
   "outputs": [],
   "source": [
    "l1 = [234, 34, \"shweta\", True, 3.56]"
   ]
  },
  {
   "cell_type": "code",
   "execution_count": 9,
   "id": "aa3b3925",
   "metadata": {},
   "outputs": [
    {
     "data": {
      "text/plain": [
       "234"
      ]
     },
     "execution_count": 9,
     "metadata": {},
     "output_type": "execute_result"
    }
   ],
   "source": [
    "t1[0]"
   ]
  },
  {
   "cell_type": "code",
   "execution_count": 10,
   "id": "ac13fa3f",
   "metadata": {},
   "outputs": [
    {
     "ename": "TypeError",
     "evalue": "'tuple' object is not callable",
     "output_type": "error",
     "traceback": [
      "\u001b[1;31m---------------------------------------------------------------------------\u001b[0m",
      "\u001b[1;31mTypeError\u001b[0m                                 Traceback (most recent call last)",
      "Cell \u001b[1;32mIn[10], line 1\u001b[0m\n\u001b[1;32m----> 1\u001b[0m \u001b[43mt1\u001b[49m\u001b[43m(\u001b[49m\u001b[38;5;241;43m5\u001b[39;49m\u001b[43m)\u001b[49m\n",
      "\u001b[1;31mTypeError\u001b[0m: 'tuple' object is not callable"
     ]
    }
   ],
   "source": [
    "t1(5)"
   ]
  },
  {
   "cell_type": "code",
   "execution_count": 11,
   "id": "5ff5a2fa",
   "metadata": {},
   "outputs": [
    {
     "data": {
      "text/plain": [
       "(234, 34, 'shweta', True)"
      ]
     },
     "execution_count": 11,
     "metadata": {},
     "output_type": "execute_result"
    }
   ],
   "source": [
    "t1[0:4]"
   ]
  },
  {
   "cell_type": "code",
   "execution_count": 12,
   "id": "706ad2fb",
   "metadata": {},
   "outputs": [
    {
     "data": {
      "text/plain": [
       "(3.56, True, 'shweta', 34)"
      ]
     },
     "execution_count": 12,
     "metadata": {},
     "output_type": "execute_result"
    }
   ],
   "source": [
    "t1[-1:0:-1]"
   ]
  },
  {
   "cell_type": "code",
   "execution_count": 13,
   "id": "c9bd5678",
   "metadata": {},
   "outputs": [
    {
     "data": {
      "text/plain": [
       "3.56"
      ]
     },
     "execution_count": 13,
     "metadata": {},
     "output_type": "execute_result"
    }
   ],
   "source": [
    "t1[-1]"
   ]
  },
  {
   "cell_type": "code",
   "execution_count": 14,
   "id": "939080a6",
   "metadata": {},
   "outputs": [
    {
     "data": {
      "text/plain": [
       "234"
      ]
     },
     "execution_count": 14,
     "metadata": {},
     "output_type": "execute_result"
    }
   ],
   "source": [
    "l1[0]"
   ]
  },
  {
   "cell_type": "code",
   "execution_count": 15,
   "id": "8a1294be",
   "metadata": {},
   "outputs": [],
   "source": [
    "l1[0] = \"kumar\""
   ]
  },
  {
   "cell_type": "code",
   "execution_count": 17,
   "id": "b71f0f09",
   "metadata": {},
   "outputs": [
    {
     "data": {
      "text/plain": [
       "['kumar', 34, 'shweta', True, 3.56]"
      ]
     },
     "execution_count": 17,
     "metadata": {},
     "output_type": "execute_result"
    }
   ],
   "source": [
    "l1"
   ]
  },
  {
   "cell_type": "code",
   "execution_count": 20,
   "id": "14919fd9",
   "metadata": {},
   "outputs": [
    {
     "data": {
      "text/plain": [
       "234"
      ]
     },
     "execution_count": 20,
     "metadata": {},
     "output_type": "execute_result"
    }
   ],
   "source": [
    "t1[0]"
   ]
  },
  {
   "cell_type": "code",
   "execution_count": 21,
   "id": "831cd021",
   "metadata": {},
   "outputs": [
    {
     "ename": "TypeError",
     "evalue": "'tuple' object does not support item assignment",
     "output_type": "error",
     "traceback": [
      "\u001b[1;31m---------------------------------------------------------------------------\u001b[0m",
      "\u001b[1;31mTypeError\u001b[0m                                 Traceback (most recent call last)",
      "Cell \u001b[1;32mIn[21], line 1\u001b[0m\n\u001b[1;32m----> 1\u001b[0m t1[\u001b[38;5;241m0\u001b[39m] \u001b[38;5;241m=\u001b[39m \u001b[38;5;124m\"\u001b[39m\u001b[38;5;124mshweta\u001b[39m\u001b[38;5;124m\"\u001b[39m\n",
      "\u001b[1;31mTypeError\u001b[0m: 'tuple' object does not support item assignment"
     ]
    }
   ],
   "source": [
    "t1[0] = \"shweta\""
   ]
  },
  {
   "cell_type": "code",
   "execution_count": 22,
   "id": "51b6ecae",
   "metadata": {},
   "outputs": [],
   "source": [
    "t2 =(3,7,False)"
   ]
  },
  {
   "cell_type": "code",
   "execution_count": 23,
   "id": "29dfb585",
   "metadata": {},
   "outputs": [
    {
     "data": {
      "text/plain": [
       "(234, 34, 'shweta', True, 3.56, 3, 7, False)"
      ]
     },
     "execution_count": 23,
     "metadata": {},
     "output_type": "execute_result"
    }
   ],
   "source": [
    "t1+t2"
   ]
  },
  {
   "cell_type": "code",
   "execution_count": 24,
   "id": "0354b5de",
   "metadata": {},
   "outputs": [],
   "source": [
    "s=\"shweta\""
   ]
  },
  {
   "cell_type": "code",
   "execution_count": 25,
   "id": "386c6f15",
   "metadata": {},
   "outputs": [
    {
     "data": {
      "text/plain": [
       "'s'"
      ]
     },
     "execution_count": 25,
     "metadata": {},
     "output_type": "execute_result"
    }
   ],
   "source": [
    "s[0]"
   ]
  },
  {
   "cell_type": "code",
   "execution_count": 26,
   "id": "cddb5e8a",
   "metadata": {},
   "outputs": [],
   "source": [
    "a = \"arnab\""
   ]
  },
  {
   "cell_type": "code",
   "execution_count": 27,
   "id": "7b865723",
   "metadata": {},
   "outputs": [
    {
     "data": {
      "text/plain": [
       "'shwetaarnab'"
      ]
     },
     "execution_count": 27,
     "metadata": {},
     "output_type": "execute_result"
    }
   ],
   "source": [
    "s+a"
   ]
  },
  {
   "cell_type": "code",
   "execution_count": 28,
   "id": "2e0127bc",
   "metadata": {},
   "outputs": [
    {
     "data": {
      "text/plain": [
       "(234,\n",
       " 34,\n",
       " 'shweta',\n",
       " True,\n",
       " 3.56,\n",
       " 234,\n",
       " 34,\n",
       " 'shweta',\n",
       " True,\n",
       " 3.56,\n",
       " 234,\n",
       " 34,\n",
       " 'shweta',\n",
       " True,\n",
       " 3.56,\n",
       " 234,\n",
       " 34,\n",
       " 'shweta',\n",
       " True,\n",
       " 3.56)"
      ]
     },
     "execution_count": 28,
     "metadata": {},
     "output_type": "execute_result"
    }
   ],
   "source": [
    "t1*4"
   ]
  },
  {
   "cell_type": "code",
   "execution_count": 29,
   "id": "b02200aa",
   "metadata": {},
   "outputs": [
    {
     "data": {
      "text/plain": [
       "['kumar',\n",
       " 34,\n",
       " 'shweta',\n",
       " True,\n",
       " 3.56,\n",
       " 'kumar',\n",
       " 34,\n",
       " 'shweta',\n",
       " True,\n",
       " 3.56,\n",
       " 'kumar',\n",
       " 34,\n",
       " 'shweta',\n",
       " True,\n",
       " 3.56,\n",
       " 'kumar',\n",
       " 34,\n",
       " 'shweta',\n",
       " True,\n",
       " 3.56]"
      ]
     },
     "execution_count": 29,
     "metadata": {},
     "output_type": "execute_result"
    }
   ],
   "source": [
    "l1*4"
   ]
  },
  {
   "cell_type": "code",
   "execution_count": 30,
   "id": "e5ff9d7f",
   "metadata": {},
   "outputs": [
    {
     "data": {
      "text/plain": [
       "(234, 34, 'shweta', True, 3.56)"
      ]
     },
     "execution_count": 30,
     "metadata": {},
     "output_type": "execute_result"
    }
   ],
   "source": [
    "t1"
   ]
  },
  {
   "cell_type": "code",
   "execution_count": 31,
   "id": "14224d47",
   "metadata": {},
   "outputs": [
    {
     "data": {
      "text/plain": [
       "True"
      ]
     },
     "execution_count": 31,
     "metadata": {},
     "output_type": "execute_result"
    }
   ],
   "source": [
    "34 in t1"
   ]
  },
  {
   "cell_type": "code",
   "execution_count": 32,
   "id": "3d5c0bef",
   "metadata": {},
   "outputs": [
    {
     "ename": "NameError",
     "evalue": "name 's1' is not defined",
     "output_type": "error",
     "traceback": [
      "\u001b[1;31m---------------------------------------------------------------------------\u001b[0m",
      "\u001b[1;31mNameError\u001b[0m                                 Traceback (most recent call last)",
      "Cell \u001b[1;32mIn[32], line 1\u001b[0m\n\u001b[1;32m----> 1\u001b[0m s \u001b[38;5;129;01min\u001b[39;00m \u001b[43ms1\u001b[49m\n",
      "\u001b[1;31mNameError\u001b[0m: name 's1' is not defined"
     ]
    }
   ],
   "source": [
    "s in s1"
   ]
  },
  {
   "cell_type": "code",
   "execution_count": 33,
   "id": "5ac6f81a",
   "metadata": {},
   "outputs": [
    {
     "data": {
      "text/plain": [
       "True"
      ]
     },
     "execution_count": 33,
     "metadata": {},
     "output_type": "execute_result"
    }
   ],
   "source": [
    "\"s\" in s"
   ]
  },
  {
   "cell_type": "code",
   "execution_count": 34,
   "id": "bff024ee",
   "metadata": {},
   "outputs": [
    {
     "ename": "TypeError",
     "evalue": "'>' not supported between instances of 'str' and 'int'",
     "output_type": "error",
     "traceback": [
      "\u001b[1;31m---------------------------------------------------------------------------\u001b[0m",
      "\u001b[1;31mTypeError\u001b[0m                                 Traceback (most recent call last)",
      "Cell \u001b[1;32mIn[34], line 1\u001b[0m\n\u001b[1;32m----> 1\u001b[0m \u001b[38;5;28;43mmax\u001b[39;49m\u001b[43m(\u001b[49m\u001b[43mt1\u001b[49m\u001b[43m)\u001b[49m\n",
      "\u001b[1;31mTypeError\u001b[0m: '>' not supported between instances of 'str' and 'int'"
     ]
    }
   ],
   "source": [
    "max(t1)"
   ]
  },
  {
   "cell_type": "code",
   "execution_count": 35,
   "id": "10e8ea0a",
   "metadata": {},
   "outputs": [
    {
     "data": {
      "text/plain": [
       "45"
      ]
     },
     "execution_count": 35,
     "metadata": {},
     "output_type": "execute_result"
    }
   ],
   "source": [
    "t3 = (1,4,8,19,0,45,13)\n",
    "max(t3)"
   ]
  },
  {
   "cell_type": "code",
   "execution_count": 36,
   "id": "3aade111",
   "metadata": {},
   "outputs": [],
   "source": [
    "t4 = (\"shweta\", \"barsha\", \"eric\", \"tiklu\")"
   ]
  },
  {
   "cell_type": "code",
   "execution_count": 38,
   "id": "d574c4dc",
   "metadata": {},
   "outputs": [
    {
     "data": {
      "text/plain": [
       "'tiklu'"
      ]
     },
     "execution_count": 38,
     "metadata": {},
     "output_type": "execute_result"
    }
   ],
   "source": [
    "max(t4)"
   ]
  },
  {
   "cell_type": "code",
   "execution_count": 39,
   "id": "57e5cf6e",
   "metadata": {},
   "outputs": [
    {
     "data": {
      "text/plain": [
       "'barsha'"
      ]
     },
     "execution_count": 39,
     "metadata": {},
     "output_type": "execute_result"
    }
   ],
   "source": [
    "min(t4)"
   ]
  },
  {
   "cell_type": "code",
   "execution_count": 40,
   "id": "0658c4c0",
   "metadata": {},
   "outputs": [
    {
     "ename": "ValueError",
     "evalue": "tuple.index(x): x not in tuple",
     "output_type": "error",
     "traceback": [
      "\u001b[1;31m---------------------------------------------------------------------------\u001b[0m",
      "\u001b[1;31mValueError\u001b[0m                                Traceback (most recent call last)",
      "Cell \u001b[1;32mIn[40], line 1\u001b[0m\n\u001b[1;32m----> 1\u001b[0m \u001b[43mt1\u001b[49m\u001b[38;5;241;43m.\u001b[39;49m\u001b[43mindex\u001b[49m\u001b[43m(\u001b[49m\u001b[38;5;241;43m45\u001b[39;49m\u001b[43m)\u001b[49m\n",
      "\u001b[1;31mValueError\u001b[0m: tuple.index(x): x not in tuple"
     ]
    }
   ],
   "source": [
    "t1.index(45)"
   ]
  },
  {
   "cell_type": "code",
   "execution_count": 41,
   "id": "033b5bc3",
   "metadata": {},
   "outputs": [
    {
     "data": {
      "text/plain": [
       "3"
      ]
     },
     "execution_count": 41,
     "metadata": {},
     "output_type": "execute_result"
    }
   ],
   "source": [
    "t1.index(True)"
   ]
  },
  {
   "cell_type": "code",
   "execution_count": 42,
   "id": "49256e19",
   "metadata": {},
   "outputs": [
    {
     "data": {
      "text/plain": [
       "1"
      ]
     },
     "execution_count": 42,
     "metadata": {},
     "output_type": "execute_result"
    }
   ],
   "source": [
    "t1.count(True)"
   ]
  },
  {
   "cell_type": "code",
   "execution_count": 43,
   "id": "5a717a57",
   "metadata": {},
   "outputs": [
    {
     "data": {
      "text/plain": [
       "(234, 34, 'shweta', True, 3.56)"
      ]
     },
     "execution_count": 43,
     "metadata": {},
     "output_type": "execute_result"
    }
   ],
   "source": [
    "t1"
   ]
  },
  {
   "cell_type": "code",
   "execution_count": 44,
   "id": "d2708f24",
   "metadata": {},
   "outputs": [
    {
     "data": {
      "text/plain": [
       "1"
      ]
     },
     "execution_count": 44,
     "metadata": {},
     "output_type": "execute_result"
    }
   ],
   "source": [
    "t1.index(34)"
   ]
  },
  {
   "cell_type": "code",
   "execution_count": 45,
   "id": "8be92f87",
   "metadata": {},
   "outputs": [
    {
     "data": {
      "text/plain": [
       "[234, 34, 'shweta', True, 3.56]"
      ]
     },
     "execution_count": 45,
     "metadata": {},
     "output_type": "execute_result"
    }
   ],
   "source": [
    "l2 = list(t1)\n",
    "l2"
   ]
  },
  {
   "cell_type": "code",
   "execution_count": 46,
   "id": "a1d4f7e2",
   "metadata": {},
   "outputs": [],
   "source": [
    "l2.insert(2,\"new data\")"
   ]
  },
  {
   "cell_type": "code",
   "execution_count": 47,
   "id": "b90d6529",
   "metadata": {},
   "outputs": [
    {
     "data": {
      "text/plain": [
       "[234, 34, 'new data', 'shweta', True, 3.56]"
      ]
     },
     "execution_count": 47,
     "metadata": {},
     "output_type": "execute_result"
    }
   ],
   "source": [
    "l2"
   ]
  },
  {
   "cell_type": "code",
   "execution_count": 48,
   "id": "bb4b8ef9",
   "metadata": {},
   "outputs": [
    {
     "data": {
      "text/plain": [
       "(234, 34, 'new data', 'shweta', True, 3.56)"
      ]
     },
     "execution_count": 48,
     "metadata": {},
     "output_type": "execute_result"
    }
   ],
   "source": [
    "tuple(l2)"
   ]
  },
  {
   "cell_type": "code",
   "execution_count": 49,
   "id": "9de5fd9f",
   "metadata": {},
   "outputs": [],
   "source": [
    "t =((1,2,3,4),(6,78,98),[3,5,\"shweta\"])"
   ]
  },
  {
   "cell_type": "code",
   "execution_count": 50,
   "id": "30e53279",
   "metadata": {},
   "outputs": [
    {
     "data": {
      "text/plain": [
       "((1, 2, 3, 4), (6, 78, 98), [3, 5, 'shweta'])"
      ]
     },
     "execution_count": 50,
     "metadata": {},
     "output_type": "execute_result"
    }
   ],
   "source": [
    "t"
   ]
  },
  {
   "cell_type": "code",
   "execution_count": 53,
   "id": "4e7ebc75",
   "metadata": {},
   "outputs": [
    {
     "data": {
      "text/plain": [
       "[3, 5, 'shweta']"
      ]
     },
     "execution_count": 53,
     "metadata": {},
     "output_type": "execute_result"
    }
   ],
   "source": [
    "t[2]"
   ]
  },
  {
   "cell_type": "code",
   "execution_count": 54,
   "id": "0d63d478",
   "metadata": {},
   "outputs": [
    {
     "data": {
      "text/plain": [
       "5"
      ]
     },
     "execution_count": 54,
     "metadata": {},
     "output_type": "execute_result"
    }
   ],
   "source": [
    "t[2][1]"
   ]
  },
  {
   "cell_type": "code",
   "execution_count": 55,
   "id": "9706a14f",
   "metadata": {},
   "outputs": [
    {
     "data": {
      "text/plain": [
       "[3, 5]"
      ]
     },
     "execution_count": 55,
     "metadata": {},
     "output_type": "execute_result"
    }
   ],
   "source": [
    "t[2][0:2]"
   ]
  },
  {
   "cell_type": "code",
   "execution_count": 56,
   "id": "2abd0a94",
   "metadata": {},
   "outputs": [
    {
     "data": {
      "text/plain": [
       "(6, 78, 98)"
      ]
     },
     "execution_count": 56,
     "metadata": {},
     "output_type": "execute_result"
    }
   ],
   "source": [
    "t[1]"
   ]
  },
  {
   "cell_type": "code",
   "execution_count": 58,
   "id": "23415c0a",
   "metadata": {},
   "outputs": [
    {
     "data": {
      "text/plain": [
       "98"
      ]
     },
     "execution_count": 58,
     "metadata": {},
     "output_type": "execute_result"
    }
   ],
   "source": [
    "t[1][2]"
   ]
  },
  {
   "cell_type": "code",
   "execution_count": 60,
   "id": "d9350a08",
   "metadata": {},
   "outputs": [
    {
     "name": "stdout",
     "output_type": "stream",
     "text": [
      "(1, 2, 3, 4)\n",
      "(6, 78, 98)\n",
      "[3, 5, 'shweta']\n"
     ]
    }
   ],
   "source": [
    "for i in t:\n",
    "    print(i)"
   ]
  },
  {
   "cell_type": "code",
   "execution_count": 61,
   "id": "738b2ef6",
   "metadata": {},
   "outputs": [
    {
     "name": "stdout",
     "output_type": "stream",
     "text": [
      "1\n",
      "6\n"
     ]
    }
   ],
   "source": [
    "for i in t:\n",
    "    if type(i) == tuple:\n",
    "        print(i[0])"
   ]
  },
  {
   "cell_type": "code",
   "execution_count": 62,
   "id": "8258f466",
   "metadata": {},
   "outputs": [
    {
     "data": {
      "text/plain": [
       "(234, 34, 'shweta', True, 3.56)"
      ]
     },
     "execution_count": 62,
     "metadata": {},
     "output_type": "execute_result"
    }
   ],
   "source": [
    "t1"
   ]
  },
  {
   "cell_type": "code",
   "execution_count": 63,
   "id": "6d3b2cb5",
   "metadata": {},
   "outputs": [
    {
     "data": {
      "text/plain": [
       "(3, 7, False)"
      ]
     },
     "execution_count": 63,
     "metadata": {},
     "output_type": "execute_result"
    }
   ],
   "source": [
    "t2"
   ]
  },
  {
   "cell_type": "code",
   "execution_count": 64,
   "id": "8f010913",
   "metadata": {},
   "outputs": [
    {
     "name": "stdout",
     "output_type": "stream",
     "text": [
      "not same\n"
     ]
    }
   ],
   "source": [
    "if len(t1) == len(t2):\n",
    "    print(\"its same\")\n",
    "else:\n",
    "    print(\"not same\")"
   ]
  },
  {
   "cell_type": "code",
   "execution_count": 65,
   "id": "ac601532",
   "metadata": {},
   "outputs": [],
   "source": [
    "t = (234, 34, 'shweta', 3.45, 34, True, 'mahapatra')"
   ]
  },
  {
   "cell_type": "code",
   "execution_count": 68,
   "id": "b992ddf2",
   "metadata": {},
   "outputs": [
    {
     "name": "stdout",
     "output_type": "stream",
     "text": [
      "take s user inputshweta\n",
      "yes your name is available\n"
     ]
    }
   ],
   "source": [
    "i = input(\"take s user input\")\n",
    "\n",
    "if i in t: \n",
    "    print(\"yes your name is available\")\n",
    "else:\n",
    "    print(\"your name is not available\")\n",
    "    "
   ]
  },
  {
   "cell_type": "code",
   "execution_count": 69,
   "id": "d4888f64",
   "metadata": {},
   "outputs": [],
   "source": [
    "del(t1)\n",
    "#to delete a tuple or list"
   ]
  },
  {
   "cell_type": "code",
   "execution_count": 70,
   "id": "eeb44adb",
   "metadata": {},
   "outputs": [
    {
     "ename": "NameError",
     "evalue": "name 't1' is not defined",
     "output_type": "error",
     "traceback": [
      "\u001b[1;31m---------------------------------------------------------------------------\u001b[0m",
      "\u001b[1;31mNameError\u001b[0m                                 Traceback (most recent call last)",
      "Cell \u001b[1;32mIn[70], line 1\u001b[0m\n\u001b[1;32m----> 1\u001b[0m \u001b[43mt1\u001b[49m\n",
      "\u001b[1;31mNameError\u001b[0m: name 't1' is not defined"
     ]
    }
   ],
   "source": [
    "t1"
   ]
  },
  {
   "cell_type": "code",
   "execution_count": 1,
   "id": "0ab2bcd8",
   "metadata": {},
   "outputs": [],
   "source": [
    "l = [1,2,3,4,5]"
   ]
  },
  {
   "cell_type": "code",
   "execution_count": 2,
   "id": "82c6a0b9",
   "metadata": {},
   "outputs": [
    {
     "ename": "TypeError",
     "evalue": "'int' object is not iterable",
     "output_type": "error",
     "traceback": [
      "\u001b[1;31m---------------------------------------------------------------------------\u001b[0m",
      "\u001b[1;31mTypeError\u001b[0m                                 Traceback (most recent call last)",
      "Cell \u001b[1;32mIn[2], line 1\u001b[0m\n\u001b[1;32m----> 1\u001b[0m \u001b[43ml\u001b[49m\u001b[38;5;241;43m.\u001b[39;49m\u001b[43mextend\u001b[49m\u001b[43m(\u001b[49m\u001b[38;5;241;43m8\u001b[39;49m\u001b[43m)\u001b[49m\n",
      "\u001b[1;31mTypeError\u001b[0m: 'int' object is not iterable"
     ]
    }
   ],
   "source": [
    "l.extend(8)"
   ]
  },
  {
   "cell_type": "code",
   "execution_count": 3,
   "id": "3d664936",
   "metadata": {},
   "outputs": [],
   "source": [
    "l.extend([6,7,8])"
   ]
  },
  {
   "cell_type": "code",
   "execution_count": 4,
   "id": "adc6474a",
   "metadata": {},
   "outputs": [
    {
     "data": {
      "text/plain": [
       "[1, 2, 3, 4, 5, 6, 7, 8]"
      ]
     },
     "execution_count": 4,
     "metadata": {},
     "output_type": "execute_result"
    }
   ],
   "source": [
    "l"
   ]
  },
  {
   "cell_type": "code",
   "execution_count": 5,
   "id": "e2cef054",
   "metadata": {},
   "outputs": [
    {
     "data": {
      "text/plain": [
       "[1, 2, 3, 4, 5, 6, 7, 8, 's', 'h', 'w', 'e', 't', 'a']"
      ]
     },
     "execution_count": 5,
     "metadata": {},
     "output_type": "execute_result"
    }
   ],
   "source": [
    "l.extend(\"shweta\")\n",
    "l"
   ]
  },
  {
   "cell_type": "code",
   "execution_count": 6,
   "id": "3f723d27",
   "metadata": {},
   "outputs": [],
   "source": [
    "x = set()"
   ]
  },
  {
   "cell_type": "code",
   "execution_count": 7,
   "id": "5073cd1a",
   "metadata": {},
   "outputs": [
    {
     "data": {
      "text/plain": [
       "set"
      ]
     },
     "execution_count": 7,
     "metadata": {},
     "output_type": "execute_result"
    }
   ],
   "source": [
    "type(x)"
   ]
  },
  {
   "cell_type": "code",
   "execution_count": 8,
   "id": "9075ec77",
   "metadata": {},
   "outputs": [],
   "source": [
    "l = [34, 45, 67, 45, 45, 45, 67, 24]"
   ]
  },
  {
   "cell_type": "code",
   "execution_count": 9,
   "id": "bdb5dd38",
   "metadata": {},
   "outputs": [
    {
     "data": {
      "text/plain": [
       "{24, 34, 45, 67}"
      ]
     },
     "execution_count": 9,
     "metadata": {},
     "output_type": "execute_result"
    }
   ],
   "source": [
    "set(l)"
   ]
  },
  {
   "cell_type": "code",
   "execution_count": 10,
   "id": "e4885064",
   "metadata": {},
   "outputs": [],
   "source": [
    "s = set(l)"
   ]
  },
  {
   "cell_type": "code",
   "execution_count": 11,
   "id": "c3820d31",
   "metadata": {},
   "outputs": [
    {
     "data": {
      "text/plain": [
       "{24, 34, 45, 67}"
      ]
     },
     "execution_count": 11,
     "metadata": {},
     "output_type": "execute_result"
    }
   ],
   "source": [
    "s"
   ]
  },
  {
   "cell_type": "code",
   "execution_count": 12,
   "id": "52debad9",
   "metadata": {},
   "outputs": [
    {
     "name": "stdout",
     "output_type": "stream",
     "text": [
      "24\n",
      "34\n",
      "67\n",
      "45\n"
     ]
    }
   ],
   "source": [
    "for i in s:\n",
    "    print(i)"
   ]
  },
  {
   "cell_type": "code",
   "execution_count": 13,
   "id": "8c76865a",
   "metadata": {},
   "outputs": [
    {
     "data": {
      "text/plain": [
       "True"
      ]
     },
     "execution_count": 13,
     "metadata": {},
     "output_type": "execute_result"
    }
   ],
   "source": [
    "24 in s"
   ]
  },
  {
   "cell_type": "code",
   "execution_count": 14,
   "id": "60c72a22",
   "metadata": {},
   "outputs": [
    {
     "ename": "TypeError",
     "evalue": "'set' object is not subscriptable",
     "output_type": "error",
     "traceback": [
      "\u001b[1;31m---------------------------------------------------------------------------\u001b[0m",
      "\u001b[1;31mTypeError\u001b[0m                                 Traceback (most recent call last)",
      "Cell \u001b[1;32mIn[14], line 1\u001b[0m\n\u001b[1;32m----> 1\u001b[0m \u001b[43ms\u001b[49m\u001b[43m[\u001b[49m\u001b[38;5;241;43m0\u001b[39;49m\u001b[43m]\u001b[49m\n",
      "\u001b[1;31mTypeError\u001b[0m: 'set' object is not subscriptable"
     ]
    }
   ],
   "source": [
    "s[0]"
   ]
  },
  {
   "cell_type": "code",
   "execution_count": 1,
   "id": "4d516ecf",
   "metadata": {},
   "outputs": [
    {
     "data": {
      "text/plain": [
       "set()"
      ]
     },
     "execution_count": 1,
     "metadata": {},
     "output_type": "execute_result"
    }
   ],
   "source": [
    "s = set()\n",
    "s"
   ]
  },
  {
   "cell_type": "code",
   "execution_count": 2,
   "id": "315832b2",
   "metadata": {},
   "outputs": [
    {
     "data": {
      "text/plain": [
       "{45}"
      ]
     },
     "execution_count": 2,
     "metadata": {},
     "output_type": "execute_result"
    }
   ],
   "source": [
    "s.add(45)\n",
    "s"
   ]
  },
  {
   "cell_type": "code",
   "execution_count": 3,
   "id": "fa702efb",
   "metadata": {},
   "outputs": [],
   "source": [
    "s.add(\"shweta\")"
   ]
  },
  {
   "cell_type": "code",
   "execution_count": 4,
   "id": "24f769b1",
   "metadata": {},
   "outputs": [
    {
     "data": {
      "text/plain": [
       "{45, 'shweta'}"
      ]
     },
     "execution_count": 4,
     "metadata": {},
     "output_type": "execute_result"
    }
   ],
   "source": [
    "s"
   ]
  },
  {
   "cell_type": "code",
   "execution_count": 5,
   "id": "b2fd848c",
   "metadata": {},
   "outputs": [
    {
     "ename": "TypeError",
     "evalue": "unhashable type: 'list'",
     "output_type": "error",
     "traceback": [
      "\u001b[1;31m---------------------------------------------------------------------------\u001b[0m",
      "\u001b[1;31mTypeError\u001b[0m                                 Traceback (most recent call last)",
      "Cell \u001b[1;32mIn[5], line 1\u001b[0m\n\u001b[1;32m----> 1\u001b[0m \u001b[43ms\u001b[49m\u001b[38;5;241;43m.\u001b[39;49m\u001b[43madd\u001b[49m\u001b[43m(\u001b[49m\u001b[43m[\u001b[49m\u001b[38;5;241;43m1\u001b[39;49m\u001b[43m,\u001b[49m\u001b[38;5;241;43m2\u001b[39;49m\u001b[43m,\u001b[49m\u001b[38;5;124;43m\"\u001b[39;49m\u001b[38;5;124;43mshweta\u001b[39;49m\u001b[38;5;124;43m\"\u001b[39;49m\u001b[43m,\u001b[49m\u001b[43m \u001b[49m\u001b[38;5;241;43m876\u001b[39;49m\u001b[43m]\u001b[49m\u001b[43m)\u001b[49m\n\u001b[0;32m      2\u001b[0m s\n",
      "\u001b[1;31mTypeError\u001b[0m: unhashable type: 'list'"
     ]
    }
   ],
   "source": [
    "s.add([1,2,\"shweta\", 876])\n",
    "s"
   ]
  },
  {
   "cell_type": "code",
   "execution_count": 6,
   "id": "647101ba",
   "metadata": {},
   "outputs": [],
   "source": [
    "l = [1,2,\"shweta\"]"
   ]
  },
  {
   "cell_type": "code",
   "execution_count": 8,
   "id": "0b9dfca2",
   "metadata": {},
   "outputs": [],
   "source": [
    "m = set(l)"
   ]
  },
  {
   "cell_type": "markdown",
   "id": "2ff64a76",
   "metadata": {},
   "source": [
    "m"
   ]
  },
  {
   "cell_type": "code",
   "execution_count": 9,
   "id": "cbf62e5f",
   "metadata": {},
   "outputs": [
    {
     "data": {
      "text/plain": [
       "{1, 2, 'shweta'}"
      ]
     },
     "execution_count": 9,
     "metadata": {},
     "output_type": "execute_result"
    }
   ],
   "source": [
    "m"
   ]
  },
  {
   "cell_type": "code",
   "execution_count": 10,
   "id": "b7edffc3",
   "metadata": {},
   "outputs": [
    {
     "data": {
      "text/plain": [
       "{1, 2, 'shweta'}"
      ]
     },
     "execution_count": 10,
     "metadata": {},
     "output_type": "execute_result"
    }
   ],
   "source": [
    "m.add(2)\n",
    "m"
   ]
  },
  {
   "cell_type": "code",
   "execution_count": 11,
   "id": "bc6e6d87",
   "metadata": {},
   "outputs": [
    {
     "data": {
      "text/plain": [
       "{45, 'shweta'}"
      ]
     },
     "execution_count": 11,
     "metadata": {},
     "output_type": "execute_result"
    }
   ],
   "source": [
    "s"
   ]
  },
  {
   "cell_type": "code",
   "execution_count": 12,
   "id": "ecb8ad1b",
   "metadata": {},
   "outputs": [
    {
     "ename": "TypeError",
     "evalue": "unhashable type: 'set'",
     "output_type": "error",
     "traceback": [
      "\u001b[1;31m---------------------------------------------------------------------------\u001b[0m",
      "\u001b[1;31mTypeError\u001b[0m                                 Traceback (most recent call last)",
      "Cell \u001b[1;32mIn[12], line 1\u001b[0m\n\u001b[1;32m----> 1\u001b[0m \u001b[43ms\u001b[49m\u001b[38;5;241;43m.\u001b[39;49m\u001b[43madd\u001b[49m\u001b[43m(\u001b[49m\u001b[43mm\u001b[49m\u001b[43m)\u001b[49m\n",
      "\u001b[1;31mTypeError\u001b[0m: unhashable type: 'set'"
     ]
    }
   ],
   "source": [
    "s.add(m)"
   ]
  },
  {
   "cell_type": "code",
   "execution_count": 13,
   "id": "8660fdf5",
   "metadata": {},
   "outputs": [
    {
     "data": {
      "text/plain": [
       "{45, 'shweta'}"
      ]
     },
     "execution_count": 13,
     "metadata": {},
     "output_type": "execute_result"
    }
   ],
   "source": [
    "s"
   ]
  },
  {
   "cell_type": "code",
   "execution_count": 14,
   "id": "87f4485c",
   "metadata": {},
   "outputs": [],
   "source": [
    "s.add(674)"
   ]
  },
  {
   "cell_type": "code",
   "execution_count": 15,
   "id": "321d5eb3",
   "metadata": {},
   "outputs": [],
   "source": [
    "s.add(False)"
   ]
  },
  {
   "cell_type": "code",
   "execution_count": 16,
   "id": "7315bfe0",
   "metadata": {},
   "outputs": [
    {
     "data": {
      "text/plain": [
       "{45, 674, False, 'shweta'}"
      ]
     },
     "execution_count": 16,
     "metadata": {},
     "output_type": "execute_result"
    }
   ],
   "source": [
    "s"
   ]
  },
  {
   "cell_type": "code",
   "execution_count": 17,
   "id": "ce1d77a9",
   "metadata": {},
   "outputs": [],
   "source": [
    "s.remove(45)"
   ]
  },
  {
   "cell_type": "code",
   "execution_count": 18,
   "id": "6128874d",
   "metadata": {},
   "outputs": [
    {
     "data": {
      "text/plain": [
       "{674, False, 'shweta'}"
      ]
     },
     "execution_count": 18,
     "metadata": {},
     "output_type": "execute_result"
    }
   ],
   "source": [
    "s"
   ]
  },
  {
   "cell_type": "code",
   "execution_count": 19,
   "id": "014094ca",
   "metadata": {},
   "outputs": [],
   "source": [
    "s.clear()"
   ]
  },
  {
   "cell_type": "code",
   "execution_count": 20,
   "id": "5b8df56e",
   "metadata": {},
   "outputs": [
    {
     "data": {
      "text/plain": [
       "set()"
      ]
     },
     "execution_count": 20,
     "metadata": {},
     "output_type": "execute_result"
    }
   ],
   "source": [
    "s"
   ]
  },
  {
   "cell_type": "code",
   "execution_count": 21,
   "id": "baa9b41c",
   "metadata": {},
   "outputs": [],
   "source": [
    "s.add(76)\n",
    "s.add(89)\n",
    "s.add(\"shweta\")"
   ]
  },
  {
   "cell_type": "code",
   "execution_count": 22,
   "id": "91652129",
   "metadata": {},
   "outputs": [
    {
     "data": {
      "text/plain": [
       "{76, 89, 'shweta'}"
      ]
     },
     "execution_count": 22,
     "metadata": {},
     "output_type": "execute_result"
    }
   ],
   "source": [
    "s"
   ]
  },
  {
   "cell_type": "code",
   "execution_count": 23,
   "id": "0cdb07f6",
   "metadata": {},
   "outputs": [],
   "source": [
    "s1 = set()"
   ]
  },
  {
   "cell_type": "code",
   "execution_count": 24,
   "id": "eabf90d7",
   "metadata": {},
   "outputs": [],
   "source": [
    "l = [23,874,\"ysdg\",\"hdc\"]\n",
    "s1=set(l)"
   ]
  },
  {
   "cell_type": "code",
   "execution_count": 25,
   "id": "fdc2285b",
   "metadata": {},
   "outputs": [
    {
     "data": {
      "text/plain": [
       "{23, 874, 'hdc', 'ysdg'}"
      ]
     },
     "execution_count": 25,
     "metadata": {},
     "output_type": "execute_result"
    }
   ],
   "source": [
    "s1"
   ]
  },
  {
   "cell_type": "code",
   "execution_count": 26,
   "id": "ffa666a6",
   "metadata": {},
   "outputs": [
    {
     "ename": "TypeError",
     "evalue": "unsupported operand type(s) for +: 'set' and 'set'",
     "output_type": "error",
     "traceback": [
      "\u001b[1;31m---------------------------------------------------------------------------\u001b[0m",
      "\u001b[1;31mTypeError\u001b[0m                                 Traceback (most recent call last)",
      "Cell \u001b[1;32mIn[26], line 1\u001b[0m\n\u001b[1;32m----> 1\u001b[0m \u001b[43ms\u001b[49m\u001b[38;5;241;43m+\u001b[39;49m\u001b[43ms1\u001b[49m\n",
      "\u001b[1;31mTypeError\u001b[0m: unsupported operand type(s) for +: 'set' and 'set'"
     ]
    }
   ],
   "source": [
    "s+s1"
   ]
  },
  {
   "cell_type": "code",
   "execution_count": 27,
   "id": "30feabe0",
   "metadata": {},
   "outputs": [
    {
     "ename": "TypeError",
     "evalue": "unsupported operand type(s) for *: 'set' and 'int'",
     "output_type": "error",
     "traceback": [
      "\u001b[1;31m---------------------------------------------------------------------------\u001b[0m",
      "\u001b[1;31mTypeError\u001b[0m                                 Traceback (most recent call last)",
      "Cell \u001b[1;32mIn[27], line 1\u001b[0m\n\u001b[1;32m----> 1\u001b[0m \u001b[43ms\u001b[49m\u001b[38;5;241;43m*\u001b[39;49m\u001b[38;5;241;43m4\u001b[39;49m\n",
      "\u001b[1;31mTypeError\u001b[0m: unsupported operand type(s) for *: 'set' and 'int'"
     ]
    }
   ],
   "source": [
    "s*4"
   ]
  },
  {
   "cell_type": "code",
   "execution_count": 28,
   "id": "c0d2f2cf",
   "metadata": {},
   "outputs": [],
   "source": [
    "l1 = list(s)"
   ]
  },
  {
   "cell_type": "code",
   "execution_count": 29,
   "id": "36dbb257",
   "metadata": {},
   "outputs": [
    {
     "data": {
      "text/plain": [
       "[89, 76, 'shweta']"
      ]
     },
     "execution_count": 29,
     "metadata": {},
     "output_type": "execute_result"
    }
   ],
   "source": [
    "l1"
   ]
  },
  {
   "cell_type": "code",
   "execution_count": 30,
   "id": "626aafa7",
   "metadata": {},
   "outputs": [],
   "source": [
    "l1.append(765)"
   ]
  },
  {
   "cell_type": "code",
   "execution_count": 31,
   "id": "4f4305b9",
   "metadata": {},
   "outputs": [
    {
     "data": {
      "text/plain": [
       "[89, 76, 'shweta', 765]"
      ]
     },
     "execution_count": 31,
     "metadata": {},
     "output_type": "execute_result"
    }
   ],
   "source": [
    "l1"
   ]
  },
  {
   "cell_type": "code",
   "execution_count": 32,
   "id": "72525241",
   "metadata": {},
   "outputs": [],
   "source": [
    "t4 = tuple(s)"
   ]
  },
  {
   "cell_type": "code",
   "execution_count": 33,
   "id": "8869982d",
   "metadata": {},
   "outputs": [
    {
     "data": {
      "text/plain": [
       "(89, 76, 'shweta')"
      ]
     },
     "execution_count": 33,
     "metadata": {},
     "output_type": "execute_result"
    }
   ],
   "source": [
    "t4"
   ]
  },
  {
   "cell_type": "code",
   "execution_count": 34,
   "id": "3f4fea72",
   "metadata": {},
   "outputs": [
    {
     "data": {
      "text/plain": [
       "{76, 765, 89, 'shweta'}"
      ]
     },
     "execution_count": 34,
     "metadata": {},
     "output_type": "execute_result"
    }
   ],
   "source": [
    "s3=set(l1)\n",
    "s3"
   ]
  },
  {
   "cell_type": "code",
   "execution_count": 35,
   "id": "ba49b668",
   "metadata": {},
   "outputs": [],
   "source": [
    "s={1,5,7}"
   ]
  },
  {
   "cell_type": "code",
   "execution_count": 36,
   "id": "32e190af",
   "metadata": {},
   "outputs": [
    {
     "data": {
      "text/plain": [
       "{1, 5, 7}"
      ]
     },
     "execution_count": 36,
     "metadata": {},
     "output_type": "execute_result"
    }
   ],
   "source": [
    "s"
   ]
  },
  {
   "cell_type": "code",
   "execution_count": 37,
   "id": "0ff1b368",
   "metadata": {},
   "outputs": [
    {
     "data": {
      "text/plain": [
       "set"
      ]
     },
     "execution_count": 37,
     "metadata": {},
     "output_type": "execute_result"
    }
   ],
   "source": [
    "type(s)"
   ]
  },
  {
   "cell_type": "code",
   "execution_count": 38,
   "id": "1eccdc4c",
   "metadata": {},
   "outputs": [],
   "source": [
    "x={}"
   ]
  },
  {
   "cell_type": "code",
   "execution_count": 39,
   "id": "0cbc85bf",
   "metadata": {},
   "outputs": [
    {
     "data": {
      "text/plain": [
       "dict"
      ]
     },
     "execution_count": 39,
     "metadata": {},
     "output_type": "execute_result"
    }
   ],
   "source": [
    "type(x)"
   ]
  },
  {
   "cell_type": "code",
   "execution_count": 40,
   "id": "533e8bad",
   "metadata": {},
   "outputs": [],
   "source": [
    "s = set()"
   ]
  },
  {
   "cell_type": "code",
   "execution_count": 41,
   "id": "dba326af",
   "metadata": {},
   "outputs": [
    {
     "data": {
      "text/plain": [
       "set()"
      ]
     },
     "execution_count": 41,
     "metadata": {},
     "output_type": "execute_result"
    }
   ],
   "source": [
    "s"
   ]
  },
  {
   "cell_type": "code",
   "execution_count": 42,
   "id": "35e8f33f",
   "metadata": {},
   "outputs": [
    {
     "data": {
      "text/plain": [
       "set"
      ]
     },
     "execution_count": 42,
     "metadata": {},
     "output_type": "execute_result"
    }
   ],
   "source": [
    "x={\"shweta\"}\n",
    "type(x)"
   ]
  },
  {
   "cell_type": "code",
   "execution_count": 43,
   "id": "da24817b",
   "metadata": {},
   "outputs": [],
   "source": [
    "x={}"
   ]
  },
  {
   "cell_type": "code",
   "execution_count": 44,
   "id": "e28926e0",
   "metadata": {},
   "outputs": [
    {
     "data": {
      "text/plain": [
       "dict"
      ]
     },
     "execution_count": 44,
     "metadata": {},
     "output_type": "execute_result"
    }
   ],
   "source": [
    "type(x)"
   ]
  },
  {
   "cell_type": "code",
   "execution_count": 45,
   "id": "617259ce",
   "metadata": {},
   "outputs": [],
   "source": [
    "x={\"name\":\"sudh\", \"age\": 28}"
   ]
  },
  {
   "cell_type": "code",
   "execution_count": 46,
   "id": "9f059038",
   "metadata": {},
   "outputs": [
    {
     "data": {
      "text/plain": [
       "'sudh'"
      ]
     },
     "execution_count": 46,
     "metadata": {},
     "output_type": "execute_result"
    }
   ],
   "source": [
    "x[\"name\"]"
   ]
  },
  {
   "cell_type": "code",
   "execution_count": 49,
   "id": "162a593b",
   "metadata": {},
   "outputs": [
    {
     "data": {
      "text/plain": [
       "dict"
      ]
     },
     "execution_count": 49,
     "metadata": {},
     "output_type": "execute_result"
    }
   ],
   "source": [
    "type(x)"
   ]
  },
  {
   "cell_type": "code",
   "execution_count": 50,
   "id": "b8717f4a",
   "metadata": {},
   "outputs": [],
   "source": [
    "x={\"name\":\"sudh\", \"age\": 28, \"name\": \"shweta\", True: \"boolean\", \"key\":False, 6756:9887}"
   ]
  },
  {
   "cell_type": "code",
   "execution_count": 52,
   "id": "88fdeb37",
   "metadata": {},
   "outputs": [
    {
     "data": {
      "text/plain": [
       "{'name': 'shweta', 'age': 28, True: 'boolean', 'key': False, 6756: 9887}"
      ]
     },
     "execution_count": 52,
     "metadata": {},
     "output_type": "execute_result"
    }
   ],
   "source": [
    "x"
   ]
  },
  {
   "cell_type": "code",
   "execution_count": 53,
   "id": "6fcd84eb",
   "metadata": {},
   "outputs": [
    {
     "ename": "SyntaxError",
     "evalue": "invalid syntax (1348598197.py, line 1)",
     "output_type": "error",
     "traceback": [
      "\u001b[1;36m  Cell \u001b[1;32mIn[53], line 1\u001b[1;36m\u001b[0m\n\u001b[1;33m    x = {%: \"test\"}\u001b[0m\n\u001b[1;37m         ^\u001b[0m\n\u001b[1;31mSyntaxError\u001b[0m\u001b[1;31m:\u001b[0m invalid syntax\n"
     ]
    }
   ],
   "source": [
    "x = {%: \"test\"}"
   ]
  },
  {
   "cell_type": "code",
   "execution_count": 54,
   "id": "54475e9b",
   "metadata": {},
   "outputs": [
    {
     "data": {
      "text/plain": [
       "{'name': 'shweta', 'age': 28, True: 'boolean', 'key': False, 6756: 9887}"
      ]
     },
     "execution_count": 54,
     "metadata": {},
     "output_type": "execute_result"
    }
   ],
   "source": [
    "x"
   ]
  },
  {
   "cell_type": "code",
   "execution_count": 55,
   "id": "dbdd3064",
   "metadata": {},
   "outputs": [
    {
     "ename": "TypeError",
     "evalue": "unhashable type: 'dict'",
     "output_type": "error",
     "traceback": [
      "\u001b[1;31m---------------------------------------------------------------------------\u001b[0m",
      "\u001b[1;31mTypeError\u001b[0m                                 Traceback (most recent call last)",
      "Cell \u001b[1;32mIn[55], line 1\u001b[0m\n\u001b[1;32m----> 1\u001b[0m y\u001b[38;5;241m=\u001b[39m{_:\u001b[38;5;124m\"\u001b[39m\u001b[38;5;124mname\u001b[39m\u001b[38;5;124m\"\u001b[39m}\n",
      "\u001b[1;31mTypeError\u001b[0m: unhashable type: 'dict'"
     ]
    }
   ],
   "source": [
    "y={_:\"name\"}\n",
    "#1:29"
   ]
  },
  {
   "cell_type": "code",
   "execution_count": 56,
   "id": "3cd7d013",
   "metadata": {},
   "outputs": [],
   "source": [
    "x1 = {\"name\":\"sudh\", \"age\": 28, \"name\": \"shweta\", True: \"boolean\", \"key\":False, 6756:9887, \"_djshg\": [43,876,\"ahg\"], False: {\"376\",73}}"
   ]
  },
  {
   "cell_type": "code",
   "execution_count": 67,
   "id": "5e1b01d4",
   "metadata": {},
   "outputs": [
    {
     "data": {
      "text/plain": [
       "{'name': 'shweta',\n",
       " 'age': 28,\n",
       " True: 'boolean',\n",
       " 'key': False,\n",
       " 6756: 9887,\n",
       " '_djshg': [43, 876, 'ahg'],\n",
       " False: {'376', 73}}"
      ]
     },
     "execution_count": 67,
     "metadata": {},
     "output_type": "execute_result"
    }
   ],
   "source": [
    "x1"
   ]
  },
  {
   "cell_type": "code",
   "execution_count": 58,
   "id": "523fc118",
   "metadata": {},
   "outputs": [],
   "source": [
    "x2={\"dict\": {\"child\": 637}}"
   ]
  },
  {
   "cell_type": "code",
   "execution_count": 59,
   "id": "323e9fb4",
   "metadata": {},
   "outputs": [
    {
     "data": {
      "text/plain": [
       "{'dict': {'child': 637}}"
      ]
     },
     "execution_count": 59,
     "metadata": {},
     "output_type": "execute_result"
    }
   ],
   "source": [
    "x2"
   ]
  },
  {
   "cell_type": "code",
   "execution_count": 60,
   "id": "8ff43277",
   "metadata": {},
   "outputs": [
    {
     "ename": "TypeError",
     "evalue": "unhashable type: 'list'",
     "output_type": "error",
     "traceback": [
      "\u001b[1;31m---------------------------------------------------------------------------\u001b[0m",
      "\u001b[1;31mTypeError\u001b[0m                                 Traceback (most recent call last)",
      "Cell \u001b[1;32mIn[60], line 1\u001b[0m\n\u001b[1;32m----> 1\u001b[0m x3\u001b[38;5;241m=\u001b[39m{[\u001b[38;5;241m1\u001b[39m,\u001b[38;5;241m3\u001b[39m,\u001b[38;5;241m5\u001b[39m]: \u001b[38;5;124m\"\u001b[39m\u001b[38;5;124mlistType\u001b[39m\u001b[38;5;124m\"\u001b[39m}\n",
      "\u001b[1;31mTypeError\u001b[0m: unhashable type: 'list'"
     ]
    }
   ],
   "source": [
    "x3={[1,3,5]: \"listType\"}"
   ]
  },
  {
   "cell_type": "code",
   "execution_count": 61,
   "id": "83d61e35",
   "metadata": {},
   "outputs": [
    {
     "ename": "TypeError",
     "evalue": "unhashable type: 'set'",
     "output_type": "error",
     "traceback": [
      "\u001b[1;31m---------------------------------------------------------------------------\u001b[0m",
      "\u001b[1;31mTypeError\u001b[0m                                 Traceback (most recent call last)",
      "Cell \u001b[1;32mIn[61], line 1\u001b[0m\n\u001b[1;32m----> 1\u001b[0m x4\u001b[38;5;241m=\u001b[39m{{\u001b[38;5;241m1\u001b[39m,\u001b[38;5;241m2\u001b[39m,\u001b[38;5;241m3\u001b[39m}: \u001b[38;5;124m\"\u001b[39m\u001b[38;5;124msetType\u001b[39m\u001b[38;5;124m\"\u001b[39m}\n",
      "\u001b[1;31mTypeError\u001b[0m: unhashable type: 'set'"
     ]
    }
   ],
   "source": [
    "x4={{1,2,3}: \"setType\"}"
   ]
  },
  {
   "cell_type": "code",
   "execution_count": 62,
   "id": "5a857323",
   "metadata": {},
   "outputs": [],
   "source": [
    "x5={(1,2,3): \"tupleAllowed\"}"
   ]
  },
  {
   "cell_type": "code",
   "execution_count": 63,
   "id": "f0a8e685",
   "metadata": {},
   "outputs": [
    {
     "data": {
      "text/plain": [
       "{(1, 2, 3): 'tupleAllowed'}"
      ]
     },
     "execution_count": 63,
     "metadata": {},
     "output_type": "execute_result"
    }
   ],
   "source": [
    "x5"
   ]
  },
  {
   "cell_type": "code",
   "execution_count": 64,
   "id": "7e4f0858",
   "metadata": {},
   "outputs": [
    {
     "ename": "TypeError",
     "evalue": "unsupported operand type(s) for +: 'dict' and 'dict'",
     "output_type": "error",
     "traceback": [
      "\u001b[1;31m---------------------------------------------------------------------------\u001b[0m",
      "\u001b[1;31mTypeError\u001b[0m                                 Traceback (most recent call last)",
      "Cell \u001b[1;32mIn[64], line 1\u001b[0m\n\u001b[1;32m----> 1\u001b[0m \u001b[43mx5\u001b[49m\u001b[38;5;241;43m+\u001b[39;49m\u001b[43mx5\u001b[49m\n",
      "\u001b[1;31mTypeError\u001b[0m: unsupported operand type(s) for +: 'dict' and 'dict'"
     ]
    }
   ],
   "source": [
    "x5+x5"
   ]
  },
  {
   "cell_type": "code",
   "execution_count": 65,
   "id": "5079e8db",
   "metadata": {},
   "outputs": [
    {
     "ename": "TypeError",
     "evalue": "unsupported operand type(s) for *: 'dict' and 'int'",
     "output_type": "error",
     "traceback": [
      "\u001b[1;31m---------------------------------------------------------------------------\u001b[0m",
      "\u001b[1;31mTypeError\u001b[0m                                 Traceback (most recent call last)",
      "Cell \u001b[1;32mIn[65], line 1\u001b[0m\n\u001b[1;32m----> 1\u001b[0m \u001b[43mx5\u001b[49m\u001b[38;5;241;43m*\u001b[39;49m\u001b[38;5;241;43m3\u001b[39;49m\n",
      "\u001b[1;31mTypeError\u001b[0m: unsupported operand type(s) for *: 'dict' and 'int'"
     ]
    }
   ],
   "source": [
    "x5*3"
   ]
  },
  {
   "cell_type": "markdown",
   "id": "4594251e",
   "metadata": {},
   "source": [
    "x1"
   ]
  },
  {
   "cell_type": "code",
   "execution_count": 69,
   "id": "b6ad966d",
   "metadata": {},
   "outputs": [
    {
     "data": {
      "text/plain": [
       "{'name': 'shweta',\n",
       " 'age': 28,\n",
       " True: 'boolean',\n",
       " 'key': False,\n",
       " 6756: 9887,\n",
       " '_djshg': [43, 876, 'ahg'],\n",
       " False: {'376', 73}}"
      ]
     },
     "execution_count": 69,
     "metadata": {},
     "output_type": "execute_result"
    }
   ],
   "source": [
    "x1"
   ]
  },
  {
   "cell_type": "code",
   "execution_count": 70,
   "id": "5824a6f0",
   "metadata": {},
   "outputs": [],
   "source": [
    "x1['name']='barsha'"
   ]
  },
  {
   "cell_type": "code",
   "execution_count": 71,
   "id": "bb4b691e",
   "metadata": {},
   "outputs": [
    {
     "data": {
      "text/plain": [
       "{'name': 'barsha',\n",
       " 'age': 28,\n",
       " True: 'boolean',\n",
       " 'key': False,\n",
       " 6756: 9887,\n",
       " '_djshg': [43, 876, 'ahg'],\n",
       " False: {'376', 73}}"
      ]
     },
     "execution_count": 71,
     "metadata": {},
     "output_type": "execute_result"
    }
   ],
   "source": [
    "x1"
   ]
  },
  {
   "cell_type": "code",
   "execution_count": 72,
   "id": "03a5a9fa",
   "metadata": {},
   "outputs": [],
   "source": [
    "x1['age'] = x1['age'] - 4"
   ]
  },
  {
   "cell_type": "code",
   "execution_count": 73,
   "id": "7c72c749",
   "metadata": {},
   "outputs": [
    {
     "data": {
      "text/plain": [
       "{'name': 'barsha',\n",
       " 'age': 24,\n",
       " True: 'boolean',\n",
       " 'key': False,\n",
       " 6756: 9887,\n",
       " '_djshg': [43, 876, 'ahg'],\n",
       " False: {'376', 73}}"
      ]
     },
     "execution_count": 73,
     "metadata": {},
     "output_type": "execute_result"
    }
   ],
   "source": [
    "x1"
   ]
  },
  {
   "cell_type": "code",
   "execution_count": 74,
   "id": "0578df18",
   "metadata": {},
   "outputs": [
    {
     "data": {
      "text/plain": [
       "dict_keys(['name', 'age', True, 'key', 6756, '_djshg', False])"
      ]
     },
     "execution_count": 74,
     "metadata": {},
     "output_type": "execute_result"
    }
   ],
   "source": [
    "x1.keys()"
   ]
  },
  {
   "cell_type": "code",
   "execution_count": 75,
   "id": "9af98f2a",
   "metadata": {},
   "outputs": [
    {
     "data": {
      "text/plain": [
       "True"
      ]
     },
     "execution_count": 75,
     "metadata": {},
     "output_type": "execute_result"
    }
   ],
   "source": [
    "'name' in x1.keys()"
   ]
  },
  {
   "cell_type": "code",
   "execution_count": 82,
   "id": "219f1dd5",
   "metadata": {},
   "outputs": [
    {
     "name": "stdout",
     "output_type": "stream",
     "text": [
      "name\n",
      "age\n",
      "True\n",
      "key\n",
      "6756\n",
      "_djshg\n",
      "False\n"
     ]
    }
   ],
   "source": [
    "for i in x1:\n",
    "    print(i)"
   ]
  },
  {
   "cell_type": "code",
   "execution_count": 83,
   "id": "900c3c39",
   "metadata": {},
   "outputs": [
    {
     "data": {
      "text/plain": [
       "dict_items([('name', 'barsha'), ('age', 24), (True, 'boolean'), ('key', False), (6756, 9887), ('_djshg', [43, 876, 'ahg']), (False, {'376', 73})])"
      ]
     },
     "execution_count": 83,
     "metadata": {},
     "output_type": "execute_result"
    }
   ],
   "source": [
    "x1.items()"
   ]
  },
  {
   "cell_type": "code",
   "execution_count": 84,
   "id": "2bd7cf0a",
   "metadata": {},
   "outputs": [
    {
     "data": {
      "text/plain": [
       "'barsha'"
      ]
     },
     "execution_count": 84,
     "metadata": {},
     "output_type": "execute_result"
    }
   ],
   "source": [
    "x1.get('name')"
   ]
  },
  {
   "cell_type": "code",
   "execution_count": 85,
   "id": "bd171428",
   "metadata": {},
   "outputs": [],
   "source": [
    "x1.get('barsha')"
   ]
  },
  {
   "cell_type": "code",
   "execution_count": 86,
   "id": "12ccc9e8",
   "metadata": {},
   "outputs": [
    {
     "name": "stdout",
     "output_type": "stream",
     "text": [
      "None\n"
     ]
    }
   ],
   "source": [
    "print(x1.get('barsha'))"
   ]
  },
  {
   "cell_type": "code",
   "execution_count": 91,
   "id": "ff4c0aa0",
   "metadata": {},
   "outputs": [
    {
     "data": {
      "text/plain": [
       "{'dict': {'child': 637}}"
      ]
     },
     "execution_count": 91,
     "metadata": {},
     "output_type": "execute_result"
    }
   ],
   "source": [
    "x2"
   ]
  },
  {
   "cell_type": "markdown",
   "id": "c293191d",
   "metadata": {},
   "source": [
    "x"
   ]
  },
  {
   "cell_type": "code",
   "execution_count": 92,
   "id": "e2c067d4",
   "metadata": {},
   "outputs": [
    {
     "data": {
      "text/plain": [
       "dict_items([('dict', {'child': 637})])"
      ]
     },
     "execution_count": 92,
     "metadata": {},
     "output_type": "execute_result"
    }
   ],
   "source": [
    "x2.items()"
   ]
  },
  {
   "cell_type": "code",
   "execution_count": 93,
   "id": "3a7321f4",
   "metadata": {},
   "outputs": [
    {
     "data": {
      "text/plain": [
       "637"
      ]
     },
     "execution_count": 93,
     "metadata": {},
     "output_type": "execute_result"
    }
   ],
   "source": [
    "x2['dict']['child']"
   ]
  },
  {
   "cell_type": "code",
   "execution_count": 94,
   "id": "cc2531b9",
   "metadata": {},
   "outputs": [
    {
     "data": {
      "text/plain": [
       "dict_items"
      ]
     },
     "execution_count": 94,
     "metadata": {},
     "output_type": "execute_result"
    }
   ],
   "source": [
    "type(x2.items())"
   ]
  },
  {
   "cell_type": "code",
   "execution_count": 99,
   "id": "868d17c7",
   "metadata": {},
   "outputs": [
    {
     "name": "stdout",
     "output_type": "stream",
     "text": [
      "('name', 'barsha')\n",
      "('age', 24)\n",
      "(True, 'boolean')\n",
      "('key', False)\n",
      "(6756, 9887)\n",
      "('_djshg', [43, 876, 'ahg'])\n",
      "(False, {'376', 73})\n"
     ]
    }
   ],
   "source": [
    "for i in x1.items():\n",
    "    print(i)"
   ]
  },
  {
   "cell_type": "code",
   "execution_count": 98,
   "id": "88d425d9",
   "metadata": {},
   "outputs": [
    {
     "name": "stdout",
     "output_type": "stream",
     "text": [
      "name\n",
      "age\n",
      "True\n",
      "key\n",
      "6756\n",
      "_djshg\n",
      "False\n"
     ]
    }
   ],
   "source": [
    "for i in x1.items():\n",
    "    print(i[0])"
   ]
  },
  {
   "cell_type": "code",
   "execution_count": 100,
   "id": "98a3feb0",
   "metadata": {},
   "outputs": [
    {
     "data": {
      "text/plain": [
       "1"
      ]
     },
     "execution_count": 100,
     "metadata": {},
     "output_type": "execute_result"
    }
   ],
   "source": [
    "len(x2)"
   ]
  },
  {
   "cell_type": "code",
   "execution_count": 101,
   "id": "60cbb179",
   "metadata": {},
   "outputs": [
    {
     "data": {
      "text/plain": [
       "7"
      ]
     },
     "execution_count": 101,
     "metadata": {},
     "output_type": "execute_result"
    }
   ],
   "source": [
    "len(x1)"
   ]
  },
  {
   "cell_type": "code",
   "execution_count": 104,
   "id": "38ae7c30",
   "metadata": {},
   "outputs": [],
   "source": [
    "e= {55: {45,78,89}}\n",
    "s=list(e[55])"
   ]
  },
  {
   "cell_type": "code",
   "execution_count": 105,
   "id": "1a8a421c",
   "metadata": {},
   "outputs": [
    {
     "data": {
      "text/plain": [
       "[89, 45, 78]"
      ]
     },
     "execution_count": 105,
     "metadata": {},
     "output_type": "execute_result"
    }
   ],
   "source": [
    "s"
   ]
  },
  {
   "cell_type": "code",
   "execution_count": 106,
   "id": "c94a963d",
   "metadata": {},
   "outputs": [
    {
     "data": {
      "text/plain": [
       "89"
      ]
     },
     "execution_count": 106,
     "metadata": {},
     "output_type": "execute_result"
    }
   ],
   "source": [
    "s[0]"
   ]
  },
  {
   "cell_type": "code",
   "execution_count": 107,
   "id": "edbd6e0b",
   "metadata": {},
   "outputs": [],
   "source": [
    "# 1) take input as a paragraph by input function\n",
    "# 2) convert all this input into list of words\n",
    "# 3) remove all the duplicate element from your list\n",
    "# 4) Use above distinct element as a key for dictionary and assign your name as value to all the key for dictionary\n",
    "# 5) Try to print type of all the values\n",
    "# 6) Try to print list of all the key"
   ]
  },
  {
   "cell_type": "code",
   "execution_count": 6,
   "id": "d20cbdd8",
   "metadata": {},
   "outputs": [
    {
     "name": "stdout",
     "output_type": "stream",
     "text": [
      "Enter a paragraph Lorem ipsum dolor sit amet, consectetuer adipiscing elit. Aenean commodo ligula eget dolor. Aenean massa. Cum sociis natoque penatibus et magnis dis parturient montes, nascetur ridiculus mus. Donec quam felis, ultricies nec, pellentesque eu, pretium quis, sem. Nulla consequat massa quis enim. Donec pede justo, fringilla vel, aliquet nec, vulputate eget, arcu\n",
      "converted to List  ['Lorem', 'ipsum', 'dolor', 'sit', 'amet,', 'consectetuer', 'adipiscing', 'elit.', 'Aenean', 'commodo', 'ligula', 'eget', 'dolor.', 'Aenean', 'massa.', 'Cum', 'sociis', 'natoque', 'penatibus', 'et', 'magnis', 'dis', 'parturient', 'montes,', 'nascetur', 'ridiculus', 'mus.', 'Donec', 'quam', 'felis,', 'ultricies', 'nec,', 'pellentesque', 'eu,', 'pretium', 'quis,', 'sem.', 'Nulla', 'consequat', 'massa', 'quis', 'enim.', 'Donec', 'pede', 'justo,', 'fringilla', 'vel,', 'aliquet', 'nec,', 'vulputate', 'eget,', 'arcu']\n",
      "length of the list:  52\n",
      "removed duplicate Items  {'fringilla', 'amet,', 'eget', 'consequat', 'Donec', 'sit', 'eu,', 'pretium', 'dolor', 'enim.', 'justo,', 'Aenean', 'nec,', 'Cum', 'felis,', 'consectetuer', 'ligula', 'sociis', 'adipiscing', 'sem.', 'natoque', 'commodo', 'magnis', 'parturient', 'mus.', 'et', 'ultricies', 'dis', 'quam', 'aliquet', 'elit.', 'montes,', 'massa', 'pede', 'vulputate', 'eget,', 'vel,', 'dolor.', 'arcu', 'quis', 'quis,', 'penatibus', 'pellentesque', 'Nulla', 'Lorem', 'nascetur', 'ridiculus', 'ipsum', 'massa.'}\n",
      "length of the set:  49\n",
      "new Dictionary {'fringilla': 'shweta', 'amet,': 'shweta', 'eget': 'shweta', 'consequat': 'shweta', 'Donec': 'shweta', 'sit': 'shweta', 'eu,': 'shweta', 'pretium': 'shweta', 'dolor': 'shweta', 'enim.': 'shweta', 'justo,': 'shweta', 'Aenean': 'shweta', 'nec,': 'shweta', 'Cum': 'shweta', 'felis,': 'shweta', 'consectetuer': 'shweta', 'ligula': 'shweta', 'sociis': 'shweta', 'adipiscing': 'shweta', 'sem.': 'shweta', 'natoque': 'shweta', 'commodo': 'shweta', 'magnis': 'shweta', 'parturient': 'shweta', 'mus.': 'shweta', 'et': 'shweta', 'ultricies': 'shweta', 'dis': 'shweta', 'quam': 'shweta', 'aliquet': 'shweta', 'elit.': 'shweta', 'montes,': 'shweta', 'massa': 'shweta', 'pede': 'shweta', 'vulputate': 'shweta', 'eget,': 'shweta', 'vel,': 'shweta', 'dolor.': 'shweta', 'arcu': 'shweta', 'quis': 'shweta', 'quis,': 'shweta', 'penatibus': 'shweta', 'pellentesque': 'shweta', 'Nulla': 'shweta', 'Lorem': 'shweta', 'nascetur': 'shweta', 'ridiculus': 'shweta', 'ipsum': 'shweta', 'massa.': 'shweta'}\n",
      "<class 'str'>\n",
      "<class 'str'>\n",
      "<class 'str'>\n",
      "<class 'str'>\n",
      "<class 'str'>\n",
      "<class 'str'>\n",
      "<class 'str'>\n",
      "<class 'str'>\n",
      "<class 'str'>\n",
      "<class 'str'>\n",
      "<class 'str'>\n",
      "<class 'str'>\n",
      "<class 'str'>\n",
      "<class 'str'>\n",
      "<class 'str'>\n",
      "<class 'str'>\n",
      "<class 'str'>\n",
      "<class 'str'>\n",
      "<class 'str'>\n",
      "<class 'str'>\n",
      "<class 'str'>\n",
      "<class 'str'>\n",
      "<class 'str'>\n",
      "<class 'str'>\n",
      "<class 'str'>\n",
      "<class 'str'>\n",
      "<class 'str'>\n",
      "<class 'str'>\n",
      "<class 'str'>\n",
      "<class 'str'>\n",
      "<class 'str'>\n",
      "<class 'str'>\n",
      "<class 'str'>\n",
      "<class 'str'>\n",
      "<class 'str'>\n",
      "<class 'str'>\n",
      "<class 'str'>\n",
      "<class 'str'>\n",
      "<class 'str'>\n",
      "<class 'str'>\n",
      "<class 'str'>\n",
      "<class 'str'>\n",
      "<class 'str'>\n",
      "<class 'str'>\n",
      "<class 'str'>\n",
      "<class 'str'>\n",
      "<class 'str'>\n",
      "<class 'str'>\n",
      "<class 'str'>\n",
      "list of Dict keys ['fringilla', 'amet,', 'eget', 'consequat', 'Donec', 'sit', 'eu,', 'pretium', 'dolor', 'enim.', 'justo,', 'Aenean', 'nec,', 'Cum', 'felis,', 'consectetuer', 'ligula', 'sociis', 'adipiscing', 'sem.', 'natoque', 'commodo', 'magnis', 'parturient', 'mus.', 'et', 'ultricies', 'dis', 'quam', 'aliquet', 'elit.', 'montes,', 'massa', 'pede', 'vulputate', 'eget,', 'vel,', 'dolor.', 'arcu', 'quis', 'quis,', 'penatibus', 'pellentesque', 'Nulla', 'Lorem', 'nascetur', 'ridiculus', 'ipsum', 'massa.']\n"
     ]
    }
   ],
   "source": [
    "para = input(\"Enter a paragraph \")\n",
    "paraList = list(para.split(\" \"))\n",
    "print(\"converted to List \", paraList)\n",
    "print(\"length of the list: \",len(paraList))\n",
    "setPara = set(paraList)\n",
    "print(\"removed duplicate Items \", setPara)\n",
    "print(\"length of the set: \",len(setPara))\n",
    "\n",
    "newDict = {}\n",
    "for i in setPara:\n",
    "    newDict.update({i: \"shweta\"})\n",
    "    \n",
    "print(\"new Dictionary\", newDict)\n",
    "\n",
    "for i in newDict.values():\n",
    "    print(type(i))\n",
    "    \n",
    "print(\"list of Dict keys\", list(newDict.keys()))"
   ]
  },
  {
   "cell_type": "code",
   "execution_count": 7,
   "id": "f14844f3",
   "metadata": {},
   "outputs": [
    {
     "name": "stdout",
     "output_type": "stream",
     "text": [
      "Enter a paragraphLorem ipsum dolor sit amet, consectet\n"
     ]
    }
   ],
   "source": [
    "paragraph =  input(\"Enter a paragraph\")\n",
    "list1 = paragraph.split(\" \")\n",
    "s1 = set(list1)\n",
    "dict1= dict.fromkeys(s1,'shweta')\n",
    "t1= tuple(dict1.keys())\n",
    "l2= list(dict1.values())"
   ]
  },
  {
   "cell_type": "code",
   "execution_count": 8,
   "id": "9f60e610",
   "metadata": {},
   "outputs": [
    {
     "data": {
      "text/plain": [
       "('amet,', 'sit', 'dolor', 'Lorem', 'ipsum', 'consectet')"
      ]
     },
     "execution_count": 8,
     "metadata": {},
     "output_type": "execute_result"
    }
   ],
   "source": [
    "t1"
   ]
  },
  {
   "cell_type": "code",
   "execution_count": 9,
   "id": "9e0fbf94",
   "metadata": {},
   "outputs": [
    {
     "data": {
      "text/plain": [
       "['shweta', 'shweta', 'shweta', 'shweta', 'shweta', 'shweta']"
      ]
     },
     "execution_count": 9,
     "metadata": {},
     "output_type": "execute_result"
    }
   ],
   "source": [
    "l2"
   ]
  },
  {
   "cell_type": "code",
   "execution_count": 10,
   "id": "0ba04ca8",
   "metadata": {},
   "outputs": [
    {
     "data": {
      "text/plain": [
       "{'amet,': 'shweta',\n",
       " 'sit': 'shweta',\n",
       " 'dolor': 'shweta',\n",
       " 'Lorem': 'shweta',\n",
       " 'ipsum': 'shweta',\n",
       " 'consectet': 'shweta'}"
      ]
     },
     "execution_count": 10,
     "metadata": {},
     "output_type": "execute_result"
    }
   ],
   "source": [
    "dict1"
   ]
  },
  {
   "cell_type": "code",
   "execution_count": 12,
   "id": "0bd20221",
   "metadata": {},
   "outputs": [
    {
     "data": {
      "text/plain": [
       "True"
      ]
     },
     "execution_count": 12,
     "metadata": {},
     "output_type": "execute_result"
    }
   ],
   "source": [
    "'sit' in dict1"
   ]
  },
  {
   "cell_type": "code",
   "execution_count": 13,
   "id": "c9533ebb",
   "metadata": {},
   "outputs": [
    {
     "data": {
      "text/plain": [
       "False"
      ]
     },
     "execution_count": 13,
     "metadata": {},
     "output_type": "execute_result"
    }
   ],
   "source": [
    "'shweta' in dict1"
   ]
  },
  {
   "cell_type": "code",
   "execution_count": 14,
   "id": "147154bd",
   "metadata": {},
   "outputs": [
    {
     "data": {
      "text/plain": [
       "True"
      ]
     },
     "execution_count": 14,
     "metadata": {},
     "output_type": "execute_result"
    }
   ],
   "source": [
    "'shweta' in dict1.values()"
   ]
  },
  {
   "cell_type": "code",
   "execution_count": 15,
   "id": "a090ea42",
   "metadata": {},
   "outputs": [],
   "source": [
    "my_dict ={}\n",
    "for i in range(10):\n",
    "    my_dict[i] = i*i"
   ]
  },
  {
   "cell_type": "code",
   "execution_count": 16,
   "id": "3ced600c",
   "metadata": {},
   "outputs": [
    {
     "data": {
      "text/plain": [
       "{0: 0, 1: 1, 2: 4, 3: 9, 4: 16, 5: 25, 6: 36, 7: 49, 8: 64, 9: 81}"
      ]
     },
     "execution_count": 16,
     "metadata": {},
     "output_type": "execute_result"
    }
   ],
   "source": [
    "my_dict"
   ]
  },
  {
   "cell_type": "code",
   "execution_count": null,
   "id": "0900a1ff",
   "metadata": {},
   "outputs": [],
   "source": []
  },
  {
   "cell_type": "code",
   "execution_count": null,
   "id": "b2b104dd",
   "metadata": {},
   "outputs": [],
   "source": []
  }
 ],
 "metadata": {
  "kernelspec": {
   "display_name": "Python 3 (ipykernel)",
   "language": "python",
   "name": "python3"
  },
  "language_info": {
   "codemirror_mode": {
    "name": "ipython",
    "version": 3
   },
   "file_extension": ".py",
   "mimetype": "text/x-python",
   "name": "python",
   "nbconvert_exporter": "python",
   "pygments_lexer": "ipython3",
   "version": "3.10.9"
  }
 },
 "nbformat": 4,
 "nbformat_minor": 5
}
